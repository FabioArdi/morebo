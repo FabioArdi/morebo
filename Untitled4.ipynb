{
  "nbformat": 4,
  "nbformat_minor": 0,
  "metadata": {
    "colab": {
      "provenance": []
    },
    "kernelspec": {
      "name": "python3",
      "display_name": "Python 3"
    },
    "language_info": {
      "name": "python"
    }
  },
  "cells": [
    {
      "cell_type": "code",
      "execution_count": 12,
      "metadata": {
        "id": "SDXrQeTbEiJq"
      },
      "outputs": [],
      "source": [
        "import pandas as pd\n",
        "import numpy as np\n",
        "import re\n",
        "from datetime import datetime\n",
        "from sklearn import metrics, preprocessing\n",
        "from tensorflow.keras import models, layers, utils, callbacks\n",
        "import seaborn as sns\n",
        "import matplotlib.pyplot as plt\n",
        "\n",
        "from tensorflow.keras.models import load_model\n",
        "from google.colab import files\n",
        "import io"
      ]
    },
    {
      "cell_type": "code",
      "source": [
        "movie = files.upload()\n",
        "ratings = files.upload()"
      ],
      "metadata": {
        "colab": {
          "base_uri": "https://localhost:8080/",
          "height": 131
        },
        "id": "qm9FIBa0EmB6",
        "outputId": "33c35024-7d83-4c2c-9f58-6ce3b37cca84"
      },
      "execution_count": 6,
      "outputs": [
        {
          "output_type": "display_data",
          "data": {
            "text/plain": [
              "<IPython.core.display.HTML object>"
            ],
            "text/html": [
              "\n",
              "     <input type=\"file\" id=\"files-1cafdab9-438c-41d1-9b05-5ba12905cc02\" name=\"files[]\" multiple disabled\n",
              "        style=\"border:none\" />\n",
              "     <output id=\"result-1cafdab9-438c-41d1-9b05-5ba12905cc02\">\n",
              "      Upload widget is only available when the cell has been executed in the\n",
              "      current browser session. Please rerun this cell to enable.\n",
              "      </output>\n",
              "      <script>// Copyright 2017 Google LLC\n",
              "//\n",
              "// Licensed under the Apache License, Version 2.0 (the \"License\");\n",
              "// you may not use this file except in compliance with the License.\n",
              "// You may obtain a copy of the License at\n",
              "//\n",
              "//      http://www.apache.org/licenses/LICENSE-2.0\n",
              "//\n",
              "// Unless required by applicable law or agreed to in writing, software\n",
              "// distributed under the License is distributed on an \"AS IS\" BASIS,\n",
              "// WITHOUT WARRANTIES OR CONDITIONS OF ANY KIND, either express or implied.\n",
              "// See the License for the specific language governing permissions and\n",
              "// limitations under the License.\n",
              "\n",
              "/**\n",
              " * @fileoverview Helpers for google.colab Python module.\n",
              " */\n",
              "(function(scope) {\n",
              "function span(text, styleAttributes = {}) {\n",
              "  const element = document.createElement('span');\n",
              "  element.textContent = text;\n",
              "  for (const key of Object.keys(styleAttributes)) {\n",
              "    element.style[key] = styleAttributes[key];\n",
              "  }\n",
              "  return element;\n",
              "}\n",
              "\n",
              "// Max number of bytes which will be uploaded at a time.\n",
              "const MAX_PAYLOAD_SIZE = 100 * 1024;\n",
              "\n",
              "function _uploadFiles(inputId, outputId) {\n",
              "  const steps = uploadFilesStep(inputId, outputId);\n",
              "  const outputElement = document.getElementById(outputId);\n",
              "  // Cache steps on the outputElement to make it available for the next call\n",
              "  // to uploadFilesContinue from Python.\n",
              "  outputElement.steps = steps;\n",
              "\n",
              "  return _uploadFilesContinue(outputId);\n",
              "}\n",
              "\n",
              "// This is roughly an async generator (not supported in the browser yet),\n",
              "// where there are multiple asynchronous steps and the Python side is going\n",
              "// to poll for completion of each step.\n",
              "// This uses a Promise to block the python side on completion of each step,\n",
              "// then passes the result of the previous step as the input to the next step.\n",
              "function _uploadFilesContinue(outputId) {\n",
              "  const outputElement = document.getElementById(outputId);\n",
              "  const steps = outputElement.steps;\n",
              "\n",
              "  const next = steps.next(outputElement.lastPromiseValue);\n",
              "  return Promise.resolve(next.value.promise).then((value) => {\n",
              "    // Cache the last promise value to make it available to the next\n",
              "    // step of the generator.\n",
              "    outputElement.lastPromiseValue = value;\n",
              "    return next.value.response;\n",
              "  });\n",
              "}\n",
              "\n",
              "/**\n",
              " * Generator function which is called between each async step of the upload\n",
              " * process.\n",
              " * @param {string} inputId Element ID of the input file picker element.\n",
              " * @param {string} outputId Element ID of the output display.\n",
              " * @return {!Iterable<!Object>} Iterable of next steps.\n",
              " */\n",
              "function* uploadFilesStep(inputId, outputId) {\n",
              "  const inputElement = document.getElementById(inputId);\n",
              "  inputElement.disabled = false;\n",
              "\n",
              "  const outputElement = document.getElementById(outputId);\n",
              "  outputElement.innerHTML = '';\n",
              "\n",
              "  const pickedPromise = new Promise((resolve) => {\n",
              "    inputElement.addEventListener('change', (e) => {\n",
              "      resolve(e.target.files);\n",
              "    });\n",
              "  });\n",
              "\n",
              "  const cancel = document.createElement('button');\n",
              "  inputElement.parentElement.appendChild(cancel);\n",
              "  cancel.textContent = 'Cancel upload';\n",
              "  const cancelPromise = new Promise((resolve) => {\n",
              "    cancel.onclick = () => {\n",
              "      resolve(null);\n",
              "    };\n",
              "  });\n",
              "\n",
              "  // Wait for the user to pick the files.\n",
              "  const files = yield {\n",
              "    promise: Promise.race([pickedPromise, cancelPromise]),\n",
              "    response: {\n",
              "      action: 'starting',\n",
              "    }\n",
              "  };\n",
              "\n",
              "  cancel.remove();\n",
              "\n",
              "  // Disable the input element since further picks are not allowed.\n",
              "  inputElement.disabled = true;\n",
              "\n",
              "  if (!files) {\n",
              "    return {\n",
              "      response: {\n",
              "        action: 'complete',\n",
              "      }\n",
              "    };\n",
              "  }\n",
              "\n",
              "  for (const file of files) {\n",
              "    const li = document.createElement('li');\n",
              "    li.append(span(file.name, {fontWeight: 'bold'}));\n",
              "    li.append(span(\n",
              "        `(${file.type || 'n/a'}) - ${file.size} bytes, ` +\n",
              "        `last modified: ${\n",
              "            file.lastModifiedDate ? file.lastModifiedDate.toLocaleDateString() :\n",
              "                                    'n/a'} - `));\n",
              "    const percent = span('0% done');\n",
              "    li.appendChild(percent);\n",
              "\n",
              "    outputElement.appendChild(li);\n",
              "\n",
              "    const fileDataPromise = new Promise((resolve) => {\n",
              "      const reader = new FileReader();\n",
              "      reader.onload = (e) => {\n",
              "        resolve(e.target.result);\n",
              "      };\n",
              "      reader.readAsArrayBuffer(file);\n",
              "    });\n",
              "    // Wait for the data to be ready.\n",
              "    let fileData = yield {\n",
              "      promise: fileDataPromise,\n",
              "      response: {\n",
              "        action: 'continue',\n",
              "      }\n",
              "    };\n",
              "\n",
              "    // Use a chunked sending to avoid message size limits. See b/62115660.\n",
              "    let position = 0;\n",
              "    do {\n",
              "      const length = Math.min(fileData.byteLength - position, MAX_PAYLOAD_SIZE);\n",
              "      const chunk = new Uint8Array(fileData, position, length);\n",
              "      position += length;\n",
              "\n",
              "      const base64 = btoa(String.fromCharCode.apply(null, chunk));\n",
              "      yield {\n",
              "        response: {\n",
              "          action: 'append',\n",
              "          file: file.name,\n",
              "          data: base64,\n",
              "        },\n",
              "      };\n",
              "\n",
              "      let percentDone = fileData.byteLength === 0 ?\n",
              "          100 :\n",
              "          Math.round((position / fileData.byteLength) * 100);\n",
              "      percent.textContent = `${percentDone}% done`;\n",
              "\n",
              "    } while (position < fileData.byteLength);\n",
              "  }\n",
              "\n",
              "  // All done.\n",
              "  yield {\n",
              "    response: {\n",
              "      action: 'complete',\n",
              "    }\n",
              "  };\n",
              "}\n",
              "\n",
              "scope.google = scope.google || {};\n",
              "scope.google.colab = scope.google.colab || {};\n",
              "scope.google.colab._files = {\n",
              "  _uploadFiles,\n",
              "  _uploadFilesContinue,\n",
              "};\n",
              "})(self);\n",
              "</script> "
            ]
          },
          "metadata": {}
        },
        {
          "output_type": "stream",
          "name": "stdout",
          "text": [
            "Saving movies.csv to movies.csv\n"
          ]
        },
        {
          "output_type": "display_data",
          "data": {
            "text/plain": [
              "<IPython.core.display.HTML object>"
            ],
            "text/html": [
              "\n",
              "     <input type=\"file\" id=\"files-7c72ace0-e736-4ce6-9657-84319683282d\" name=\"files[]\" multiple disabled\n",
              "        style=\"border:none\" />\n",
              "     <output id=\"result-7c72ace0-e736-4ce6-9657-84319683282d\">\n",
              "      Upload widget is only available when the cell has been executed in the\n",
              "      current browser session. Please rerun this cell to enable.\n",
              "      </output>\n",
              "      <script>// Copyright 2017 Google LLC\n",
              "//\n",
              "// Licensed under the Apache License, Version 2.0 (the \"License\");\n",
              "// you may not use this file except in compliance with the License.\n",
              "// You may obtain a copy of the License at\n",
              "//\n",
              "//      http://www.apache.org/licenses/LICENSE-2.0\n",
              "//\n",
              "// Unless required by applicable law or agreed to in writing, software\n",
              "// distributed under the License is distributed on an \"AS IS\" BASIS,\n",
              "// WITHOUT WARRANTIES OR CONDITIONS OF ANY KIND, either express or implied.\n",
              "// See the License for the specific language governing permissions and\n",
              "// limitations under the License.\n",
              "\n",
              "/**\n",
              " * @fileoverview Helpers for google.colab Python module.\n",
              " */\n",
              "(function(scope) {\n",
              "function span(text, styleAttributes = {}) {\n",
              "  const element = document.createElement('span');\n",
              "  element.textContent = text;\n",
              "  for (const key of Object.keys(styleAttributes)) {\n",
              "    element.style[key] = styleAttributes[key];\n",
              "  }\n",
              "  return element;\n",
              "}\n",
              "\n",
              "// Max number of bytes which will be uploaded at a time.\n",
              "const MAX_PAYLOAD_SIZE = 100 * 1024;\n",
              "\n",
              "function _uploadFiles(inputId, outputId) {\n",
              "  const steps = uploadFilesStep(inputId, outputId);\n",
              "  const outputElement = document.getElementById(outputId);\n",
              "  // Cache steps on the outputElement to make it available for the next call\n",
              "  // to uploadFilesContinue from Python.\n",
              "  outputElement.steps = steps;\n",
              "\n",
              "  return _uploadFilesContinue(outputId);\n",
              "}\n",
              "\n",
              "// This is roughly an async generator (not supported in the browser yet),\n",
              "// where there are multiple asynchronous steps and the Python side is going\n",
              "// to poll for completion of each step.\n",
              "// This uses a Promise to block the python side on completion of each step,\n",
              "// then passes the result of the previous step as the input to the next step.\n",
              "function _uploadFilesContinue(outputId) {\n",
              "  const outputElement = document.getElementById(outputId);\n",
              "  const steps = outputElement.steps;\n",
              "\n",
              "  const next = steps.next(outputElement.lastPromiseValue);\n",
              "  return Promise.resolve(next.value.promise).then((value) => {\n",
              "    // Cache the last promise value to make it available to the next\n",
              "    // step of the generator.\n",
              "    outputElement.lastPromiseValue = value;\n",
              "    return next.value.response;\n",
              "  });\n",
              "}\n",
              "\n",
              "/**\n",
              " * Generator function which is called between each async step of the upload\n",
              " * process.\n",
              " * @param {string} inputId Element ID of the input file picker element.\n",
              " * @param {string} outputId Element ID of the output display.\n",
              " * @return {!Iterable<!Object>} Iterable of next steps.\n",
              " */\n",
              "function* uploadFilesStep(inputId, outputId) {\n",
              "  const inputElement = document.getElementById(inputId);\n",
              "  inputElement.disabled = false;\n",
              "\n",
              "  const outputElement = document.getElementById(outputId);\n",
              "  outputElement.innerHTML = '';\n",
              "\n",
              "  const pickedPromise = new Promise((resolve) => {\n",
              "    inputElement.addEventListener('change', (e) => {\n",
              "      resolve(e.target.files);\n",
              "    });\n",
              "  });\n",
              "\n",
              "  const cancel = document.createElement('button');\n",
              "  inputElement.parentElement.appendChild(cancel);\n",
              "  cancel.textContent = 'Cancel upload';\n",
              "  const cancelPromise = new Promise((resolve) => {\n",
              "    cancel.onclick = () => {\n",
              "      resolve(null);\n",
              "    };\n",
              "  });\n",
              "\n",
              "  // Wait for the user to pick the files.\n",
              "  const files = yield {\n",
              "    promise: Promise.race([pickedPromise, cancelPromise]),\n",
              "    response: {\n",
              "      action: 'starting',\n",
              "    }\n",
              "  };\n",
              "\n",
              "  cancel.remove();\n",
              "\n",
              "  // Disable the input element since further picks are not allowed.\n",
              "  inputElement.disabled = true;\n",
              "\n",
              "  if (!files) {\n",
              "    return {\n",
              "      response: {\n",
              "        action: 'complete',\n",
              "      }\n",
              "    };\n",
              "  }\n",
              "\n",
              "  for (const file of files) {\n",
              "    const li = document.createElement('li');\n",
              "    li.append(span(file.name, {fontWeight: 'bold'}));\n",
              "    li.append(span(\n",
              "        `(${file.type || 'n/a'}) - ${file.size} bytes, ` +\n",
              "        `last modified: ${\n",
              "            file.lastModifiedDate ? file.lastModifiedDate.toLocaleDateString() :\n",
              "                                    'n/a'} - `));\n",
              "    const percent = span('0% done');\n",
              "    li.appendChild(percent);\n",
              "\n",
              "    outputElement.appendChild(li);\n",
              "\n",
              "    const fileDataPromise = new Promise((resolve) => {\n",
              "      const reader = new FileReader();\n",
              "      reader.onload = (e) => {\n",
              "        resolve(e.target.result);\n",
              "      };\n",
              "      reader.readAsArrayBuffer(file);\n",
              "    });\n",
              "    // Wait for the data to be ready.\n",
              "    let fileData = yield {\n",
              "      promise: fileDataPromise,\n",
              "      response: {\n",
              "        action: 'continue',\n",
              "      }\n",
              "    };\n",
              "\n",
              "    // Use a chunked sending to avoid message size limits. See b/62115660.\n",
              "    let position = 0;\n",
              "    do {\n",
              "      const length = Math.min(fileData.byteLength - position, MAX_PAYLOAD_SIZE);\n",
              "      const chunk = new Uint8Array(fileData, position, length);\n",
              "      position += length;\n",
              "\n",
              "      const base64 = btoa(String.fromCharCode.apply(null, chunk));\n",
              "      yield {\n",
              "        response: {\n",
              "          action: 'append',\n",
              "          file: file.name,\n",
              "          data: base64,\n",
              "        },\n",
              "      };\n",
              "\n",
              "      let percentDone = fileData.byteLength === 0 ?\n",
              "          100 :\n",
              "          Math.round((position / fileData.byteLength) * 100);\n",
              "      percent.textContent = `${percentDone}% done`;\n",
              "\n",
              "    } while (position < fileData.byteLength);\n",
              "  }\n",
              "\n",
              "  // All done.\n",
              "  yield {\n",
              "    response: {\n",
              "      action: 'complete',\n",
              "    }\n",
              "  };\n",
              "}\n",
              "\n",
              "scope.google = scope.google || {};\n",
              "scope.google.colab = scope.google.colab || {};\n",
              "scope.google.colab._files = {\n",
              "  _uploadFiles,\n",
              "  _uploadFilesContinue,\n",
              "};\n",
              "})(self);\n",
              "</script> "
            ]
          },
          "metadata": {}
        },
        {
          "output_type": "stream",
          "name": "stdout",
          "text": [
            "Saving ratings.csv to ratings.csv\n"
          ]
        }
      ]
    },
    {
      "cell_type": "code",
      "source": [
        "movies_df = pd.read_csv(io.BytesIO(movie['movies.csv']))\n",
        "ratings_df = pd.read_csv(io.BytesIO(ratings['ratings.csv']))"
      ],
      "metadata": {
        "id": "AwdyoRkbEoNq"
      },
      "execution_count": 7,
      "outputs": []
    },
    {
      "cell_type": "code",
      "source": [
        "# Products\n",
        "movies_df = movies_df[~movies_df[\"genres\"].isna()]\n",
        "movies_df[\"product\"] = range(0, len(movies_df))\n",
        "movies_df[\"name\"] = movies_df[\"title\"].apply(lambda x: re.sub(\"[\\(\\[].*?[\\)\\]]\", \"\", x).strip())\n",
        "movies_df[\"date\"] = movies_df[\"title\"].apply(lambda x: int(x.split(\"(\")[-1].replace(\")\", \"\").strip()) if \"(\" in x else np.nan)\n",
        "movies_df[\"date\"] = movies_df[\"date\"].fillna(9999)\n",
        "movies_df[\"old\"] = movies_df[\"date\"].apply(lambda x: 1 if x < 2000 else 0)\n",
        "\n",
        "# Users\n",
        "ratings_df[\"user\"] = ratings_df[\"userId\"].apply(lambda x: x - 1)\n",
        "ratings_df[\"timestamp\"] = ratings_df[\"timestamp\"].apply(lambda x: datetime.fromtimestamp(x))\n",
        "ratings_df[\"daytime\"] = ratings_df[\"timestamp\"].apply(lambda x: 1 if 6 < int(x.strftime(\"%H\")) < 20 else 0)\n",
        "ratings_df[\"weekend\"] = ratings_df[\"timestamp\"].apply(lambda x: 1 if x.weekday() in [5, 6] else 0)\n",
        "ratings_df = ratings_df.merge(movies_df[[\"movieId\", \"product\"]], how=\"left\")\n",
        "ratings_df = ratings_df.rename(columns={\"rating\": \"y\"})\n",
        "\n",
        "# Clean\n",
        "movies_df = movies_df[[\"product\", \"name\", \"old\", \"genres\"]].set_index(\"product\")\n",
        "\n",
        "ratings_df = ratings_df[[\"user\", \"product\", \"daytime\", \"weekend\", \"y\"]]\n"
      ],
      "metadata": {
        "id": "vwNsRHG4GMx9"
      },
      "execution_count": 8,
      "outputs": []
    },
    {
      "cell_type": "code",
      "source": [
        "dtf_context = ratings_df[[\"user\", \"product\", \"daytime\", \"weekend\"]]"
      ],
      "metadata": {
        "id": "_F7SQnnJGNrb"
      },
      "execution_count": 9,
      "outputs": []
    },
    {
      "cell_type": "code",
      "source": [
        "tags = [i.split(\"|\") for i in movies_df[\"genres\"].unique()]\n",
        "columns = list(set([i for lst in tags for i in lst]))\n",
        "if '(no genres listed)' in columns:\n",
        "    columns.remove('(no genres listed)')\n",
        "    \n",
        "for col in columns:\n",
        "    movies_df[col] = movies_df[\"genres\"].apply(lambda x: 1 if col in x else 0)"
      ],
      "metadata": {
        "id": "dYFqmxmOGPR3"
      },
      "execution_count": 10,
      "outputs": []
    },
    {
      "cell_type": "code",
      "source": [
        "fig, ax = plt.subplots(figsize=(20, 5))\n",
        "sns.heatmap(movies_df == 0, vmin=0, vmax=1, cbar=False, ax=ax).set_title(\"Products x Features\")\n",
        "plt.show()"
      ],
      "metadata": {
        "colab": {
          "base_uri": "https://localhost:8080/",
          "height": 507
        },
        "id": "GDEkVPcmGRV9",
        "outputId": "eb2d400b-20f0-468c-c3ca-e9cc88ac854a"
      },
      "execution_count": 13,
      "outputs": [
        {
          "output_type": "display_data",
          "data": {
            "text/plain": [
              "<Figure size 2000x500 with 1 Axes>"
            ],
            "image/png": "[encoded data removed]"
          },
          "metadata": {}
        }
      ]
    },
    {
      "cell_type": "code",
      "source": [
        "tmp = ratings_df.copy()\n",
        "ratings_df = tmp.pivot_table(index=\"user\", columns=\"product\", values=\"y\")\n",
        "missing_cols = list(set(movies_df.index) - set(ratings_df.columns))\n",
        "for col in missing_cols:\n",
        "    ratings_df[col] = np.nan\n",
        "ratings_df = ratings_df[sorted(ratings_df.columns)]"
      ],
      "metadata": {
        "colab": {
          "base_uri": "https://localhost:8080/"
        },
        "id": "AATIls5MGTPK",
        "outputId": "1b22b0fe-a49d-4ef2-b165-32f9270e3c47"
      },
      "execution_count": 14,
      "outputs": [
        {
          "output_type": "stream",
          "name": "stderr",
          "text": [
            "<ipython-input-14-274a1d7dfecd>:5: PerformanceWarning: DataFrame is highly fragmented.  This is usually the result of calling `frame.insert` many times, which has poor performance.  Consider joining all columns at once using pd.concat(axis=1) instead. To get a de-fragmented frame, use `newframe = frame.copy()`\n",
            "  ratings_df[col] = np.nan\n",
            "<ipython-input-14-274a1d7dfecd>:5: PerformanceWarning: DataFrame is highly fragmented.  This is usually the result of calling `frame.insert` many times, which has poor performance.  Consider joining all columns at once using pd.concat(axis=1) instead. To get a de-fragmented frame, use `newframe = frame.copy()`\n",
            "  ratings_df[col] = np.nan\n",
            "<ipython-input-14-274a1d7dfecd>:5: PerformanceWarning: DataFrame is highly fragmented.  This is usually the result of calling `frame.insert` many times, which has poor performance.  Consider joining all columns at once using pd.concat(axis=1) instead. To get a de-fragmented frame, use `newframe = frame.copy()`\n",
            "  ratings_df[col] = np.nan\n",
            "<ipython-input-14-274a1d7dfecd>:5: PerformanceWarning: DataFrame is highly fragmented.  This is usually the result of calling `frame.insert` many times, which has poor performance.  Consider joining all columns at once using pd.concat(axis=1) instead. To get a de-fragmented frame, use `newframe = frame.copy()`\n",
            "  ratings_df[col] = np.nan\n",
            "<ipython-input-14-274a1d7dfecd>:5: PerformanceWarning: DataFrame is highly fragmented.  This is usually the result of calling `frame.insert` many times, which has poor performance.  Consider joining all columns at once using pd.concat(axis=1) instead. To get a de-fragmented frame, use `newframe = frame.copy()`\n",
            "  ratings_df[col] = np.nan\n",
            "<ipython-input-14-274a1d7dfecd>:5: PerformanceWarning: DataFrame is highly fragmented.  This is usually the result of calling `frame.insert` many times, which has poor performance.  Consider joining all columns at once using pd.concat(axis=1) instead. To get a de-fragmented frame, use `newframe = frame.copy()`\n",
            "  ratings_df[col] = np.nan\n",
            "<ipython-input-14-274a1d7dfecd>:5: PerformanceWarning: DataFrame is highly fragmented.  This is usually the result of calling `frame.insert` many times, which has poor performance.  Consider joining all columns at once using pd.concat(axis=1) instead. To get a de-fragmented frame, use `newframe = frame.copy()`\n",
            "  ratings_df[col] = np.nan\n",
            "<ipython-input-14-274a1d7dfecd>:5: PerformanceWarning: DataFrame is highly fragmented.  This is usually the result of calling `frame.insert` many times, which has poor performance.  Consider joining all columns at once using pd.concat(axis=1) instead. To get a de-fragmented frame, use `newframe = frame.copy()`\n",
            "  ratings_df[col] = np.nan\n",
            "<ipython-input-14-274a1d7dfecd>:5: PerformanceWarning: DataFrame is highly fragmented.  This is usually the result of calling `frame.insert` many times, which has poor performance.  Consider joining all columns at once using pd.concat(axis=1) instead. To get a de-fragmented frame, use `newframe = frame.copy()`\n",
            "  ratings_df[col] = np.nan\n",
            "<ipython-input-14-274a1d7dfecd>:5: PerformanceWarning: DataFrame is highly fragmented.  This is usually the result of calling `frame.insert` many times, which has poor performance.  Consider joining all columns at once using pd.concat(axis=1) instead. To get a de-fragmented frame, use `newframe = frame.copy()`\n",
            "  ratings_df[col] = np.nan\n",
            "<ipython-input-14-274a1d7dfecd>:5: PerformanceWarning: DataFrame is highly fragmented.  This is usually the result of calling `frame.insert` many times, which has poor performance.  Consider joining all columns at once using pd.concat(axis=1) instead. To get a de-fragmented frame, use `newframe = frame.copy()`\n",
            "  ratings_df[col] = np.nan\n",
            "<ipython-input-14-274a1d7dfecd>:5: PerformanceWarning: DataFrame is highly fragmented.  This is usually the result of calling `frame.insert` many times, which has poor performance.  Consider joining all columns at once using pd.concat(axis=1) instead. To get a de-fragmented frame, use `newframe = frame.copy()`\n",
            "  ratings_df[col] = np.nan\n",
            "<ipython-input-14-274a1d7dfecd>:5: PerformanceWarning: DataFrame is highly fragmented.  This is usually the result of calling `frame.insert` many times, which has poor performance.  Consider joining all columns at once using pd.concat(axis=1) instead. To get a de-fragmented frame, use `newframe = frame.copy()`\n",
            "  ratings_df[col] = np.nan\n",
            "<ipython-input-14-274a1d7dfecd>:5: PerformanceWarning: DataFrame is highly fragmented.  This is usually the result of calling `frame.insert` many times, which has poor performance.  Consider joining all columns at once using pd.concat(axis=1) instead. To get a de-fragmented frame, use `newframe = frame.copy()`\n",
            "  ratings_df[col] = np.nan\n",
            "<ipython-input-14-274a1d7dfecd>:5: PerformanceWarning: DataFrame is highly fragmented.  This is usually the result of calling `frame.insert` many times, which has poor performance.  Consider joining all columns at once using pd.concat(axis=1) instead. To get a de-fragmented frame, use `newframe = frame.copy()`\n",
            "  ratings_df[col] = np.nan\n",
            "<ipython-input-14-274a1d7dfecd>:5: PerformanceWarning: DataFrame is highly fragmented.  This is usually the result of calling `frame.insert` many times, which has poor performance.  Consider joining all columns at once using pd.concat(axis=1) instead. To get a de-fragmented frame, use `newframe = frame.copy()`\n",
            "  ratings_df[col] = np.nan\n",
            "<ipython-input-14-274a1d7dfecd>:5: PerformanceWarning: DataFrame is highly fragmented.  This is usually the result of calling `frame.insert` many times, which has poor performance.  Consider joining all columns at once using pd.concat(axis=1) instead. To get a de-fragmented frame, use `newframe = frame.copy()`\n",
            "  ratings_df[col] = np.nan\n",
            "<ipython-input-14-274a1d7dfecd>:5: PerformanceWarning: DataFrame is highly fragmented.  This is usually the result of calling `frame.insert` many times, which has poor performance.  Consider joining all columns at once using pd.concat(axis=1) instead. To get a de-fragmented frame, use `newframe = frame.copy()`\n",
            "  ratings_df[col] = np.nan\n",
            "<ipython-input-14-274a1d7dfecd>:5: PerformanceWarning: DataFrame is highly fragmented.  This is usually the result of calling `frame.insert` many times, which has poor performance.  Consider joining all columns at once using pd.concat(axis=1) instead. To get a de-fragmented frame, use `newframe = frame.copy()`\n",
            "  ratings_df[col] = np.nan\n",
            "<ipython-input-14-274a1d7dfecd>:5: PerformanceWarning: DataFrame is highly fragmented.  This is usually the result of calling `frame.insert` many times, which has poor performance.  Consider joining all columns at once using pd.concat(axis=1) instead. To get a de-fragmented frame, use `newframe = frame.copy()`\n",
            "  ratings_df[col] = np.nan\n",
            "<ipython-input-14-274a1d7dfecd>:5: PerformanceWarning: DataFrame is highly fragmented.  This is usually the result of calling `frame.insert` many times, which has poor performance.  Consider joining all columns at once using pd.concat(axis=1) instead. To get a de-fragmented frame, use `newframe = frame.copy()`\n",
            "  ratings_df[col] = np.nan\n",
            "<ipython-input-14-274a1d7dfecd>:5: PerformanceWarning: DataFrame is highly fragmented.  This is usually the result of calling `frame.insert` many times, which has poor performance.  Consider joining all columns at once using pd.concat(axis=1) instead. To get a de-fragmented frame, use `newframe = frame.copy()`\n",
            "  ratings_df[col] = np.nan\n",
            "<ipython-input-14-274a1d7dfecd>:5: PerformanceWarning: DataFrame is highly fragmented.  This is usually the result of calling `frame.insert` many times, which has poor performance.  Consider joining all columns at once using pd.concat(axis=1) instead. To get a de-fragmented frame, use `newframe = frame.copy()`\n",
            "  ratings_df[col] = np.nan\n",
            "<ipython-input-14-274a1d7dfecd>:5: PerformanceWarning: DataFrame is highly fragmented.  This is usually the result of calling `frame.insert` many times, which has poor performance.  Consider joining all columns at once using pd.concat(axis=1) instead. To get a de-fragmented frame, use `newframe = frame.copy()`\n",
            "  ratings_df[col] = np.nan\n",
            "<ipython-input-14-274a1d7dfecd>:5: PerformanceWarning: DataFrame is highly fragmented.  This is usually the result of calling `frame.insert` many times, which has poor performance.  Consider joining all columns at once using pd.concat(axis=1) instead. To get a de-fragmented frame, use `newframe = frame.copy()`\n",
            "  ratings_df[col] = np.nan\n",
            "<ipython-input-14-274a1d7dfecd>:5: PerformanceWarning: DataFrame is highly fragmented.  This is usually the result of calling `frame.insert` many times, which has poor performance.  Consider joining all columns at once using pd.concat(axis=1) instead. To get a de-fragmented frame, use `newframe = frame.copy()`\n",
            "  ratings_df[col] = np.nan\n",
            "<ipython-input-14-274a1d7dfecd>:5: PerformanceWarning: DataFrame is highly fragmented.  This is usually the result of calling `frame.insert` many times, which has poor performance.  Consider joining all columns at once using pd.concat(axis=1) instead. To get a de-fragmented frame, use `newframe = frame.copy()`\n",
            "  ratings_df[col] = np.nan\n",
            "<ipython-input-14-274a1d7dfecd>:5: PerformanceWarning: DataFrame is highly fragmented.  This is usually the result of calling `frame.insert` many times, which has poor performance.  Consider joining all columns at once using pd.concat(axis=1) instead. To get a de-fragmented frame, use `newframe = frame.copy()`\n",
            "  ratings_df[col] = np.nan\n",
            "<ipython-input-14-274a1d7dfecd>:5: PerformanceWarning: DataFrame is highly fragmented.  This is usually the result of calling `frame.insert` many times, which has poor performance.  Consider joining all columns at once using pd.concat(axis=1) instead. To get a de-fragmented frame, use `newframe = frame.copy()`\n",
            "  ratings_df[col] = np.nan\n",
            "<ipython-input-14-274a1d7dfecd>:5: PerformanceWarning: DataFrame is highly fragmented.  This is usually the result of calling `frame.insert` many times, which has poor performance.  Consider joining all columns at once using pd.concat(axis=1) instead. To get a de-fragmented frame, use `newframe = frame.copy()`\n",
            "  ratings_df[col] = np.nan\n",
            "<ipython-input-14-274a1d7dfecd>:5: PerformanceWarning: DataFrame is highly fragmented.  This is usually the result of calling `frame.insert` many times, which has poor performance.  Consider joining all columns at once using pd.concat(axis=1) instead. To get a de-fragmented frame, use `newframe = frame.copy()`\n",
            "  ratings_df[col] = np.nan\n",
            "<ipython-input-14-274a1d7dfecd>:5: PerformanceWarning: DataFrame is highly fragmented.  This is usually the result of calling `frame.insert` many times, which has poor performance.  Consider joining all columns at once using pd.concat(axis=1) instead. To get a de-fragmented frame, use `newframe = frame.copy()`\n",
            "  ratings_df[col] = np.nan\n",
            "<ipython-input-14-274a1d7dfecd>:5: PerformanceWarning: DataFrame is highly fragmented.  This is usually the result of calling `frame.insert` many times, which has poor performance.  Consider joining all columns at once using pd.concat(axis=1) instead. To get a de-fragmented frame, use `newframe = frame.copy()`\n",
            "  ratings_df[col] = np.nan\n",
            "<ipython-input-14-274a1d7dfecd>:5: PerformanceWarning: DataFrame is highly fragmented.  This is usually the result of calling `frame.insert` many times, which has poor performance.  Consider joining all columns at once using pd.concat(axis=1) instead. To get a de-fragmented frame, use `newframe = frame.copy()`\n",
            "  ratings_df[col] = np.nan\n",
            "<ipython-input-14-274a1d7dfecd>:5: PerformanceWarning: DataFrame is highly fragmented.  This is usually the result of calling `frame.insert` many times, which has poor performance.  Consider joining all columns at once using pd.concat(axis=1) instead. To get a de-fragmented frame, use `newframe = frame.copy()`\n",
            "  ratings_df[col] = np.nan\n",
            "<ipython-input-14-274a1d7dfecd>:5: PerformanceWarning: DataFrame is highly fragmented.  This is usually the result of calling `frame.insert` many times, which has poor performance.  Consider joining all columns at once using pd.concat(axis=1) instead. To get a de-fragmented frame, use `newframe = frame.copy()`\n",
            "  ratings_df[col] = np.nan\n",
            "<ipython-input-14-274a1d7dfecd>:5: PerformanceWarning: DataFrame is highly fragmented.  This is usually the result of calling `frame.insert` many times, which has poor performance.  Consider joining all columns at once using pd.concat(axis=1) instead. To get a de-fragmented frame, use `newframe = frame.copy()`\n",
            "  ratings_df[col] = np.nan\n",
            "<ipython-input-14-274a1d7dfecd>:5: PerformanceWarning: DataFrame is highly fragmented.  This is usually the result of calling `frame.insert` many times, which has poor performance.  Consider joining all columns at once using pd.concat(axis=1) instead. To get a de-fragmented frame, use `newframe = frame.copy()`\n",
            "  ratings_df[col] = np.nan\n",
            "<ipython-input-14-274a1d7dfecd>:5: PerformanceWarning: DataFrame is highly fragmented.  This is usually the result of calling `frame.insert` many times, which has poor performance.  Consider joining all columns at once using pd.concat(axis=1) instead. To get a de-fragmented frame, use `newframe = frame.copy()`\n",
            "  ratings_df[col] = np.nan\n",
            "<ipython-input-14-274a1d7dfecd>:5: PerformanceWarning: DataFrame is highly fragmented.  This is usually the result of calling `frame.insert` many times, which has poor performance.  Consider joining all columns at once using pd.concat(axis=1) instead. To get a de-fragmented frame, use `newframe = frame.copy()`\n",
            "  ratings_df[col] = np.nan\n",
            "<ipython-input-14-274a1d7dfecd>:5: PerformanceWarning: DataFrame is highly fragmented.  This is usually the result of calling `frame.insert` many times, which has poor performance.  Consider joining all columns at once using pd.concat(axis=1) instead. To get a de-fragmented frame, use `newframe = frame.copy()`\n",
            "  ratings_df[col] = np.nan\n",
            "<ipython-input-14-274a1d7dfecd>:5: PerformanceWarning: DataFrame is highly fragmented.  This is usually the result of calling `frame.insert` many times, which has poor performance.  Consider joining all columns at once using pd.concat(axis=1) instead. To get a de-fragmented frame, use `newframe = frame.copy()`\n",
            "  ratings_df[col] = np.nan\n",
            "<ipython-input-14-274a1d7dfecd>:5: PerformanceWarning: DataFrame is highly fragmented.  This is usually the result of calling `frame.insert` many times, which has poor performance.  Consider joining all columns at once using pd.concat(axis=1) instead. To get a de-fragmented frame, use `newframe = frame.copy()`\n",
            "  ratings_df[col] = np.nan\n",
            "<ipython-input-14-274a1d7dfecd>:5: PerformanceWarning: DataFrame is highly fragmented.  This is usually the result of calling `frame.insert` many times, which has poor performance.  Consider joining all columns at once using pd.concat(axis=1) instead. To get a de-fragmented frame, use `newframe = frame.copy()`\n",
            "  ratings_df[col] = np.nan\n",
            "<ipython-input-14-274a1d7dfecd>:5: PerformanceWarning: DataFrame is highly fragmented.  This is usually the result of calling `frame.insert` many times, which has poor performance.  Consider joining all columns at once using pd.concat(axis=1) instead. To get a de-fragmented frame, use `newframe = frame.copy()`\n",
            "  ratings_df[col] = np.nan\n",
            "<ipython-input-14-274a1d7dfecd>:5: PerformanceWarning: DataFrame is highly fragmented.  This is usually the result of calling `frame.insert` many times, which has poor performance.  Consider joining all columns at once using pd.concat(axis=1) instead. To get a de-fragmented frame, use `newframe = frame.copy()`\n",
            "  ratings_df[col] = np.nan\n",
            "<ipython-input-14-274a1d7dfecd>:5: PerformanceWarning: DataFrame is highly fragmented.  This is usually the result of calling `frame.insert` many times, which has poor performance.  Consider joining all columns at once using pd.concat(axis=1) instead. To get a de-fragmented frame, use `newframe = frame.copy()`\n",
            "  ratings_df[col] = np.nan\n",
            "<ipython-input-14-274a1d7dfecd>:5: PerformanceWarning: DataFrame is highly fragmented.  This is usually the result of calling `frame.insert` many times, which has poor performance.  Consider joining all columns at once using pd.concat(axis=1) instead. To get a de-fragmented frame, use `newframe = frame.copy()`\n",
            "  ratings_df[col] = np.nan\n",
            "<ipython-input-14-274a1d7dfecd>:5: PerformanceWarning: DataFrame is highly fragmented.  This is usually the result of calling `frame.insert` many times, which has poor performance.  Consider joining all columns at once using pd.concat(axis=1) instead. To get a de-fragmented frame, use `newframe = frame.copy()`\n",
            "  ratings_df[col] = np.nan\n",
            "<ipython-input-14-274a1d7dfecd>:5: PerformanceWarning: DataFrame is highly fragmented.  This is usually the result of calling `frame.insert` many times, which has poor performance.  Consider joining all columns at once using pd.concat(axis=1) instead. To get a de-fragmented frame, use `newframe = frame.copy()`\n",
            "  ratings_df[col] = np.nan\n",
            "<ipython-input-14-274a1d7dfecd>:5: PerformanceWarning: DataFrame is highly fragmented.  This is usually the result of calling `frame.insert` many times, which has poor performance.  Consider joining all columns at once using pd.concat(axis=1) instead. To get a de-fragmented frame, use `newframe = frame.copy()`\n",
            "  ratings_df[col] = np.nan\n",
            "<ipython-input-14-274a1d7dfecd>:5: PerformanceWarning: DataFrame is highly fragmented.  This is usually the result of calling `frame.insert` many times, which has poor performance.  Consider joining all columns at once using pd.concat(axis=1) instead. To get a de-fragmented frame, use `newframe = frame.copy()`\n",
            "  ratings_df[col] = np.nan\n",
            "<ipython-input-14-274a1d7dfecd>:5: PerformanceWarning: DataFrame is highly fragmented.  This is usually the result of calling `frame.insert` many times, which has poor performance.  Consider joining all columns at once using pd.concat(axis=1) instead. To get a de-fragmented frame, use `newframe = frame.copy()`\n",
            "  ratings_df[col] = np.nan\n",
            "<ipython-input-14-274a1d7dfecd>:5: PerformanceWarning: DataFrame is highly fragmented.  This is usually the result of calling `frame.insert` many times, which has poor performance.  Consider joining all columns at once using pd.concat(axis=1) instead. To get a de-fragmented frame, use `newframe = frame.copy()`\n",
            "  ratings_df[col] = np.nan\n",
            "<ipython-input-14-274a1d7dfecd>:5: PerformanceWarning: DataFrame is highly fragmented.  This is usually the result of calling `frame.insert` many times, which has poor performance.  Consider joining all columns at once using pd.concat(axis=1) instead. To get a de-fragmented frame, use `newframe = frame.copy()`\n",
            "  ratings_df[col] = np.nan\n",
            "<ipython-input-14-274a1d7dfecd>:5: PerformanceWarning: DataFrame is highly fragmented.  This is usually the result of calling `frame.insert` many times, which has poor performance.  Consider joining all columns at once using pd.concat(axis=1) instead. To get a de-fragmented frame, use `newframe = frame.copy()`\n",
            "  ratings_df[col] = np.nan\n",
            "<ipython-input-14-274a1d7dfecd>:5: PerformanceWarning: DataFrame is highly fragmented.  This is usually the result of calling `frame.insert` many times, which has poor performance.  Consider joining all columns at once using pd.concat(axis=1) instead. To get a de-fragmented frame, use `newframe = frame.copy()`\n",
            "  ratings_df[col] = np.nan\n",
            "<ipython-input-14-274a1d7dfecd>:5: PerformanceWarning: DataFrame is highly fragmented.  This is usually the result of calling `frame.insert` many times, which has poor performance.  Consider joining all columns at once using pd.concat(axis=1) instead. To get a de-fragmented frame, use `newframe = frame.copy()`\n",
            "  ratings_df[col] = np.nan\n",
            "<ipython-input-14-274a1d7dfecd>:5: PerformanceWarning: DataFrame is highly fragmented.  This is usually the result of calling `frame.insert` many times, which has poor performance.  Consider joining all columns at once using pd.concat(axis=1) instead. To get a de-fragmented frame, use `newframe = frame.copy()`\n",
            "  ratings_df[col] = np.nan\n",
            "<ipython-input-14-274a1d7dfecd>:5: PerformanceWarning: DataFrame is highly fragmented.  This is usually the result of calling `frame.insert` many times, which has poor performance.  Consider joining all columns at once using pd.concat(axis=1) instead. To get a de-fragmented frame, use `newframe = frame.copy()`\n",
            "  ratings_df[col] = np.nan\n",
            "<ipython-input-14-274a1d7dfecd>:5: PerformanceWarning: DataFrame is highly fragmented.  This is usually the result of calling `frame.insert` many times, which has poor performance.  Consider joining all columns at once using pd.concat(axis=1) instead. To get a de-fragmented frame, use `newframe = frame.copy()`\n",
            "  ratings_df[col] = np.nan\n",
            "<ipython-input-14-274a1d7dfecd>:5: PerformanceWarning: DataFrame is highly fragmented.  This is usually the result of calling `frame.insert` many times, which has poor performance.  Consider joining all columns at once using pd.concat(axis=1) instead. To get a de-fragmented frame, use `newframe = frame.copy()`\n",
            "  ratings_df[col] = np.nan\n",
            "<ipython-input-14-274a1d7dfecd>:5: PerformanceWarning: DataFrame is highly fragmented.  This is usually the result of calling `frame.insert` many times, which has poor performance.  Consider joining all columns at once using pd.concat(axis=1) instead. To get a de-fragmented frame, use `newframe = frame.copy()`\n",
            "  ratings_df[col] = np.nan\n",
            "<ipython-input-14-274a1d7dfecd>:5: PerformanceWarning: DataFrame is highly fragmented.  This is usually the result of calling `frame.insert` many times, which has poor performance.  Consider joining all columns at once using pd.concat(axis=1) instead. To get a de-fragmented frame, use `newframe = frame.copy()`\n",
            "  ratings_df[col] = np.nan\n",
            "<ipython-input-14-274a1d7dfecd>:5: PerformanceWarning: DataFrame is highly fragmented.  This is usually the result of calling `frame.insert` many times, which has poor performance.  Consider joining all columns at once using pd.concat(axis=1) instead. To get a de-fragmented frame, use `newframe = frame.copy()`\n",
            "  ratings_df[col] = np.nan\n",
            "<ipython-input-14-274a1d7dfecd>:5: PerformanceWarning: DataFrame is highly fragmented.  This is usually the result of calling `frame.insert` many times, which has poor performance.  Consider joining all columns at once using pd.concat(axis=1) instead. To get a de-fragmented frame, use `newframe = frame.copy()`\n",
            "  ratings_df[col] = np.nan\n",
            "<ipython-input-14-274a1d7dfecd>:5: PerformanceWarning: DataFrame is highly fragmented.  This is usually the result of calling `frame.insert` many times, which has poor performance.  Consider joining all columns at once using pd.concat(axis=1) instead. To get a de-fragmented frame, use `newframe = frame.copy()`\n",
            "  ratings_df[col] = np.nan\n",
            "<ipython-input-14-274a1d7dfecd>:5: PerformanceWarning: DataFrame is highly fragmented.  This is usually the result of calling `frame.insert` many times, which has poor performance.  Consider joining all columns at once using pd.concat(axis=1) instead. To get a de-fragmented frame, use `newframe = frame.copy()`\n",
            "  ratings_df[col] = np.nan\n",
            "<ipython-input-14-274a1d7dfecd>:5: PerformanceWarning: DataFrame is highly fragmented.  This is usually the result of calling `frame.insert` many times, which has poor performance.  Consider joining all columns at once using pd.concat(axis=1) instead. To get a de-fragmented frame, use `newframe = frame.copy()`\n",
            "  ratings_df[col] = np.nan\n",
            "<ipython-input-14-274a1d7dfecd>:5: PerformanceWarning: DataFrame is highly fragmented.  This is usually the result of calling `frame.insert` many times, which has poor performance.  Consider joining all columns at once using pd.concat(axis=1) instead. To get a de-fragmented frame, use `newframe = frame.copy()`\n",
            "  ratings_df[col] = np.nan\n",
            "<ipython-input-14-274a1d7dfecd>:5: PerformanceWarning: DataFrame is highly fragmented.  This is usually the result of calling `frame.insert` many times, which has poor performance.  Consider joining all columns at once using pd.concat(axis=1) instead. To get a de-fragmented frame, use `newframe = frame.copy()`\n",
            "  ratings_df[col] = np.nan\n",
            "<ipython-input-14-274a1d7dfecd>:5: PerformanceWarning: DataFrame is highly fragmented.  This is usually the result of calling `frame.insert` many times, which has poor performance.  Consider joining all columns at once using pd.concat(axis=1) instead. To get a de-fragmented frame, use `newframe = frame.copy()`\n",
            "  ratings_df[col] = np.nan\n",
            "<ipython-input-14-274a1d7dfecd>:5: PerformanceWarning: DataFrame is highly fragmented.  This is usually the result of calling `frame.insert` many times, which has poor performance.  Consider joining all columns at once using pd.concat(axis=1) instead. To get a de-fragmented frame, use `newframe = frame.copy()`\n",
            "  ratings_df[col] = np.nan\n",
            "<ipython-input-14-274a1d7dfecd>:5: PerformanceWarning: DataFrame is highly fragmented.  This is usually the result of calling `frame.insert` many times, which has poor performance.  Consider joining all columns at once using pd.concat(axis=1) instead. To get a de-fragmented frame, use `newframe = frame.copy()`\n",
            "  ratings_df[col] = np.nan\n",
            "<ipython-input-14-274a1d7dfecd>:5: PerformanceWarning: DataFrame is highly fragmented.  This is usually the result of calling `frame.insert` many times, which has poor performance.  Consider joining all columns at once using pd.concat(axis=1) instead. To get a de-fragmented frame, use `newframe = frame.copy()`\n",
            "  ratings_df[col] = np.nan\n",
            "<ipython-input-14-274a1d7dfecd>:5: PerformanceWarning: DataFrame is highly fragmented.  This is usually the result of calling `frame.insert` many times, which has poor performance.  Consider joining all columns at once using pd.concat(axis=1) instead. To get a de-fragmented frame, use `newframe = frame.copy()`\n",
            "  ratings_df[col] = np.nan\n",
            "<ipython-input-14-274a1d7dfecd>:5: PerformanceWarning: DataFrame is highly fragmented.  This is usually the result of calling `frame.insert` many times, which has poor performance.  Consider joining all columns at once using pd.concat(axis=1) instead. To get a de-fragmented frame, use `newframe = frame.copy()`\n",
            "  ratings_df[col] = np.nan\n",
            "<ipython-input-14-274a1d7dfecd>:5: PerformanceWarning: DataFrame is highly fragmented.  This is usually the result of calling `frame.insert` many times, which has poor performance.  Consider joining all columns at once using pd.concat(axis=1) instead. To get a de-fragmented frame, use `newframe = frame.copy()`\n",
            "  ratings_df[col] = np.nan\n"
          ]
        }
      ]
    },
    {
      "cell_type": "code",
      "source": [
        "ratings_df = pd.DataFrame(preprocessing.MinMaxScaler(feature_range=(0.5, 1)).fit_transform(ratings_df.values),\n",
        "                          columns=ratings_df.columns, index=ratings_df.index)"
      ],
      "metadata": {
        "colab": {
          "base_uri": "https://localhost:8080/"
        },
        "id": "vXk0ZYjTGrGN",
        "outputId": "0b8a3b00-1d62-4bd8-bcf2-953bb8b5cfcb"
      },
      "execution_count": 15,
      "outputs": [
        {
          "output_type": "stream",
          "name": "stderr",
          "text": [
            "/usr/local/lib/python3.10/dist-packages/sklearn/preprocessing/_data.py:473: RuntimeWarning: All-NaN slice encountered\n",
            "  data_min = np.nanmin(X, axis=0)\n",
            "/usr/local/lib/python3.10/dist-packages/sklearn/preprocessing/_data.py:474: RuntimeWarning: All-NaN slice encountered\n",
            "  data_max = np.nanmax(X, axis=0)\n"
          ]
        }
      ]
    },
    {
      "cell_type": "code",
      "source": [
        "features = movies_df.drop([\"genres\", \"name\"], axis=1).columns\n",
        "print(features)\n",
        "\n",
        "context = dtf_context.drop([\"user\", \"product\"], axis=1).columns\n",
        "print(context)"
      ],
      "metadata": {
        "colab": {
          "base_uri": "https://localhost:8080/"
        },
        "id": "Szu0AA0cILDz",
        "outputId": "d00bdc43-b3d1-4585-f122-6fde850fab89"
      },
      "execution_count": 16,
      "outputs": [
        {
          "output_type": "stream",
          "name": "stdout",
          "text": [
            "Index(['old', 'Comedy', 'Crime', 'Horror', 'War', 'Mystery', 'Fantasy',\n",
            "       'Sci-Fi', 'Film-Noir', 'Action', 'Thriller', 'Documentary', 'Adventure',\n",
            "       'Musical', 'Romance', 'Animation', 'Western', 'Drama', 'Children's'],\n",
            "      dtype='object')\n",
            "Index(['daytime', 'weekend'], dtype='object')\n"
          ]
        }
      ]
    },
    {
      "cell_type": "code",
      "source": [
        "\n",
        "split = int(0.8 * ratings_df.shape[1])\n",
        "dtf_train = ratings_df.loc[:, :split-1]\n",
        "dtf_test = ratings_df.loc[:, split:]\n",
        "train = ratings_df.stack(dropna=True).reset_index().rename(columns={0: \"y\"})\n",
        "\n",
        "# Add features\n",
        "train = train.merge(movies_df[features], how=\"left\", left_on=\"product\", right_index=True)\n",
        "\n",
        "# Add context\n",
        "train = train.merge(dtf_context, how=\"left\")\n",
        "\n",
        "test = dtf_test.stack(dropna=True).reset_index().rename(columns={0: \"y\"})\n",
        "\n",
        "# Add features\n",
        "test = test.merge(movies_df[features], how=\"left\", left_on=\"product\", right_index=True)\n",
        "\n",
        "# Insert static values for context variables\n",
        "test[\"daytime\"] = 0\n",
        "test[\"weekend\"] = 0\n"
      ],
      "metadata": {
        "id": "LEprTklWGs7B"
      },
      "execution_count": 24,
      "outputs": []
    },
    {
      "cell_type": "code",
      "source": [
        "def build_model():\n",
        "    \"\"\"\n",
        "    Build and compile the hybrid recommendation model.\n",
        "    \"\"\"\n",
        "    embeddings_size = 50\n",
        "    number_of_users, number_of_products = ratings_df.shape[0], ratings_df.shape[1]\n",
        "    number_of_features = len(features)\n",
        "    number_of_contexts = len(context)\n",
        "\n",
        "    def create_embedding_block(input_layer, name, input_dim, output_dim=embeddings_size):\n",
        "        \"\"\"\n",
        "        Create an embedding block for a given input layer.\n",
        "        \"\"\"\n",
        "        embeddings = layers.Embedding(name=f\"{name}_emb\", input_dim=input_dim, output_dim=output_dim)(input_layer)\n",
        "        reshaped = layers.Reshape(name=f'{name}', target_shape=(output_dim,))(embeddings)\n",
        "        return reshaped\n",
        "\n",
        "    # COLLABORATIVE FILTERING \n",
        "    # Input layer\n",
        "    user_input = layers.Input(name=\"user_input\", shape=(1,))\n",
        "    product_input = layers.Input(name=\"product_input\", shape=(1,))\n",
        "\n",
        "    # Matrix Factorization\n",
        "    cf_users = create_embedding_block(user_input, \"cf_users\", number_of_users)\n",
        "    cf_products = create_embedding_block(product_input, \"cf_products\", number_of_products)\n",
        "    cf_output = layers.Dot(name='cf_output', normalize=True, axes=1)([cf_users, cf_products])\n",
        "\n",
        "    # Neural Network\n",
        "    nn_users = create_embedding_block(user_input, \"nn_users\", number_of_users)\n",
        "    nn_products = create_embedding_block(product_input, \"nn_products\", number_of_products)\n",
        "    nn_concat = layers.Concatenate()([nn_users, nn_products])\n",
        "    nn_output = layers.Dense(name=\"nn_output\", units=int(embeddings_size/2), activation='relu')(nn_concat)\n",
        "\n",
        "    # CONTENT BASED\n",
        "    # Product Features\n",
        "    features_input = layers.Input(name=\"features_input\", shape=(number_of_features,))\n",
        "    features_output = layers.Dense(name=\"features_output\", units=number_of_features, activation='relu')(features_input)\n",
        "\n",
        "    # KNOWLEDGE BASED\n",
        "    # Context\n",
        "    context_input = layers.Input(name=\"context_input\", shape=(number_of_contexts,))\n",
        "    context_output = layers.Dense(name=\"context_output\", units=number_of_contexts, activation='relu')(context_input)\n",
        "\n",
        "    # OUTPUT\n",
        "    # Merge all\n",
        "    final_output = layers.Concatenate()([cf_output, nn_output, features_output, context_output])\n",
        "    final_output = layers.Dense(name=\"final_output\", units=1, activation='linear')(final_output)\n",
        "\n",
        "    \n",
        "\n",
        "    # Compile\n",
        "    model = models.Model(inputs=[user_input, product_input, features_input, context_input], outputs=final_output, name=\"Hybrid_Model\")\n",
        "    model.compile(optimizer='adam', loss='mean_absolute_error', metrics=['mean_absolute_percentage_error'])\n",
        "\n",
        "    return model\n"
      ],
      "metadata": {
        "id": "KJxi4nEnIQ29"
      },
      "execution_count": 18,
      "outputs": []
    },
    {
      "cell_type": "code",
      "source": [
        "def train_model(model):\n",
        "  # Define early stopping\n",
        "  early_stopping = callbacks.EarlyStopping(monitor='val_loss', patience=3)\n",
        "\n",
        "  model.fit(x=[train[\"user\"], train[\"product\"], train[features], train[context]], y=train[\"y\"], \n",
        "                     epochs=100, batch_size=128, shuffle=True, verbose=0, validation_split=0.3,callbacks=[early_stopping])\n",
        "  return model"
      ],
      "metadata": {
        "id": "lxQ6LYkPIT-2"
      },
      "execution_count": 19,
      "outputs": []
    },
    {
      "cell_type": "code",
      "source": [
        "def mean_reciprocal_rank(y_test, predicted):\n",
        "    score = []\n",
        "    for product in y_test:\n",
        "        mrr = 1 / (list(predicted).index(product) + 1) if product in predicted else 0\n",
        "        score.append(mrr)\n",
        "    return np.mean(score)"
      ],
      "metadata": {
        "id": "oZpU3lPmJCiM"
      },
      "execution_count": 20,
      "outputs": []
    },
    {
      "cell_type": "code",
      "source": [
        "def evaluate_model(model, i):\n",
        "    # Subset the test data for user i\n",
        "    test_user_i = test[test[\"user\"] == i]\n",
        "    \n",
        "    # Make predictions for user i\n",
        "    test_user_i[\"yhat\"] = model.predict([test_user_i[\"user\"], test_user_i[\"product\"], test_user_i[features], test_user_i[context]])\n",
        "    \n",
        "    print(\"--- user\", i, \"---\")\n",
        "    top = 5\n",
        "    y_test = test_user_i.sort_values(\"y\", ascending=False)[\"product\"].values[:top]\n",
        "    print(\"y_test:\", y_test)\n",
        "    \n",
        "    predicted = test_user_i.sort_values(\"yhat\", ascending=False)[\"product\"].values[:top]\n",
        "    print(\"predicted:\", predicted)\n",
        "    \n",
        "    true_positive = len(list(set(y_test) & set(predicted)))\n",
        "    print(\"true positive:\", true_positive, \"(\"+str(round(true_positive/top*100,1))+\"%)\")\n",
        "    \n",
        "    # Accuracy might not make sense for this kind of problem because it's not a classification problem.\n",
        "    #print(\"accuracy:\", str(round(metrics.accuracy_score(y_test,predicted)*100,1))+\"%\")\n",
        "    \n",
        "    print(\"mrr:\", mean_reciprocal_rank(y_test, predicted))\n"
      ],
      "metadata": {
        "id": "n-x09MweJI_S"
      },
      "execution_count": 21,
      "outputs": []
    },
    {
      "cell_type": "code",
      "source": [
        "#takes about 6 minutes\n",
        "model = build_model()\n",
        "model = train_model(model)                                            "
      ],
      "metadata": {
        "id": "1xGiBLTcOWuu"
      },
      "execution_count": 25,
      "outputs": []
    },
    {
      "cell_type": "code",
      "source": [
        "# Assuming that 'model' is your trained model.\n",
        "model.save('recommendation_model.h5')  # creates a HDF5 file 'my_model.h5'"
      ],
      "metadata": {
        "id": "KtLdajYpP2XW"
      },
      "execution_count": 27,
      "outputs": []
    },
    {
      "cell_type": "code",
      "source": [
        "model1 = load_model('/content/recommendation_model.h5')"
      ],
      "metadata": {
        "id": "8ILOLDRkQAqq"
      },
      "execution_count": 28,
      "outputs": []
    },
    {
      "cell_type": "code",
      "source": [
        "evaluate_model(model1,2)"
      ],
      "metadata": {
        "colab": {
          "base_uri": "https://localhost:8080/"
        },
        "id": "nkT8ah1-QM3W",
        "outputId": "120f577b-f77f-4670-c621-0f948be181fc"
      },
      "execution_count": 29,
      "outputs": [
        {
          "output_type": "stream",
          "name": "stdout",
          "text": [
            "1/1 [==============================] - 0s 219ms/step\n",
            "--- user 2 ---\n",
            "y_test: [3483 3602 3352 3465 3798]\n",
            "predicted: [3465 3352 3602 3798 3550]\n",
            "true positive: 4 (80.0%)\n",
            "mrr: 0.41666666666666663\n"
          ]
        },
        {
          "output_type": "stream",
          "name": "stderr",
          "text": [
            "<ipython-input-21-ea1d453e2061>:6: SettingWithCopyWarning: \n",
            "A value is trying to be set on a copy of a slice from a DataFrame.\n",
            "Try using .loc[row_indexer,col_indexer] = value instead\n",
            "\n",
            "See the caveats in the documentation: https://pandas.pydata.org/pandas-docs/stable/user_guide/indexing.html#returning-a-view-versus-a-copy\n",
            "  test_user_i[\"yhat\"] = model.predict([test_user_i[\"user\"], test_user_i[\"product\"], test_user_i[features], test_user_i[context]])\n"
          ]
        }
      ]
    },
    {
      "cell_type": "code",
      "source": [
        "def train_model2(model):\n",
        "  # Define early stopping\n",
        " # early_stopping = callbacks.EarlyStopping(monitor='val_loss', patience=3)\n",
        "\n",
        "  model.fit(x=[train[\"user\"], train[\"product\"], train[features], train[context]], y=train[\"y\"], \n",
        "                     epochs=100, batch_size=128, shuffle=True, verbose=0, validation_split=0.3)\n",
        "  return model"
      ],
      "metadata": {
        "id": "AidOXnDfccxB"
      },
      "execution_count": 156,
      "outputs": []
    },
    {
      "cell_type": "code",
      "source": [
        "model = build_model()\n",
        "model = train_model2(model)"
      ],
      "metadata": {
        "id": "40Gs0xcfUr47"
      },
      "execution_count": null,
      "outputs": []
    },
    {
      "cell_type": "code",
      "source": [
        "# Assuming that 'model' is your trained model.\n",
        "model.save('recommendation_model2.h5')  # creates a HDF5 file 'my_model.h5'"
      ],
      "metadata": {
        "id": "3vnH6lb2cWo2"
      },
      "execution_count": 158,
      "outputs": []
    },
    {
      "cell_type": "code",
      "source": [
        "model2 = load_model('/content/recommendation_model2.h5')"
      ],
      "metadata": {
        "id": "w_QvEddscjoJ"
      },
      "execution_count": null,
      "outputs": []
    },
    {
      "cell_type": "code",
      "source": [
        "evaluate_model(model2,2)"
      ],
      "metadata": {
        "colab": {
          "base_uri": "https://localhost:8080/"
        },
        "id": "s7I9_OAYcpAS",
        "outputId": "ff5ef3dc-21e5-430e-9cc9-416627b1e0e1"
      },
      "execution_count": 160,
      "outputs": [
        {
          "output_type": "stream",
          "name": "stdout",
          "text": [
            "1/1 [==============================] - 0s 182ms/step\n",
            "--- user 2 ---\n",
            "y_test: [3483 3602 3352 3465 3798]\n",
            "predicted: [3483 3602 3352 3465 3798]\n",
            "true positive: 5 (100.0%)\n",
            "mrr: 0.45666666666666667\n"
          ]
        },
        {
          "output_type": "stream",
          "name": "stderr",
          "text": [
            "<ipython-input-148-ea1d453e2061>:6: SettingWithCopyWarning: \n",
            "A value is trying to be set on a copy of a slice from a DataFrame.\n",
            "Try using .loc[row_indexer,col_indexer] = value instead\n",
            "\n",
            "See the caveats in the documentation: https://pandas.pydata.org/pandas-docs/stable/user_guide/indexing.html#returning-a-view-versus-a-copy\n",
            "  test_user_i[\"yhat\"] = model.predict([test_user_i[\"user\"], test_user_i[\"product\"], test_user_i[features], test_user_i[context]])\n"
          ]
        }
      ]
    },
    {
      "cell_type": "code",
      "source": [
        "def train_model3(model):\n",
        "  # Define early stopping\n",
        "  early_stopping = callbacks.EarlyStopping(monitor='val_loss', patience=10)\n",
        "\n",
        "  model.fit(x=[train[\"user\"], train[\"product\"], train[features], train[context]], y=train[\"y\"], \n",
        "                     epochs=100, batch_size=128, shuffle=True, verbose=0, validation_split=0.3,callbacks=[early_stopping])\n",
        "  return model"
      ],
      "metadata": {
        "id": "hX9j7bLxdpAr"
      },
      "execution_count": 30,
      "outputs": []
    },
    {
      "cell_type": "code",
      "source": [
        "model = build_model()\n",
        "model = train_model3(model) "
      ],
      "metadata": {
        "id": "y_kUzmyMUmtQ"
      },
      "execution_count": null,
      "outputs": []
    },
    {
      "cell_type": "code",
      "source": [
        "model.save('recommendation_model3.h5')"
      ],
      "metadata": {
        "id": "WkVQKb9Hdw-i"
      },
      "execution_count": null,
      "outputs": []
    },
    {
      "cell_type": "code",
      "source": [
        "model3 = load_model('/content/recommendation_model3.h5')"
      ],
      "metadata": {
        "id": "xJSEp-aMd2-A"
      },
      "execution_count": 164,
      "outputs": []
    },
    {
      "cell_type": "code",
      "source": [
        "evaluate_model(model2,3)"
      ],
      "metadata": {
        "colab": {
          "base_uri": "https://localhost:8080/"
        },
        "id": "G-uETcasd8sP",
        "outputId": "fb05c0d8-5349-4a32-c3a2-f3159e630712"
      },
      "execution_count": 165,
      "outputs": [
        {
          "output_type": "stream",
          "name": "stdout",
          "text": [
            "1/1 [==============================] - 0s 28ms/step\n",
            "--- user 3 ---\n",
            "y_test: [3399 3349 3633 3458]\n",
            "predicted: [3399 3349 3633 3458]\n",
            "true positive: 4 (80.0%)\n",
            "mrr: 0.5208333333333333\n"
          ]
        },
        {
          "output_type": "stream",
          "name": "stderr",
          "text": [
            "<ipython-input-148-ea1d453e2061>:6: SettingWithCopyWarning: \n",
            "A value is trying to be set on a copy of a slice from a DataFrame.\n",
            "Try using .loc[row_indexer,col_indexer] = value instead\n",
            "\n",
            "See the caveats in the documentation: https://pandas.pydata.org/pandas-docs/stable/user_guide/indexing.html#returning-a-view-versus-a-copy\n",
            "  test_user_i[\"yhat\"] = model.predict([test_user_i[\"user\"], test_user_i[\"product\"], test_user_i[features], test_user_i[context]])\n"
          ]
        }
      ]
    }
  ]
}