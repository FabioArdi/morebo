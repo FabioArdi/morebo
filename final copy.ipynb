{
 "cells": [
  {
   "attachments": {},
   "cell_type": "markdown",
   "metadata": {},
   "source": [
    "# MoReBo\n",
    "MoReBo welcomes you!\n",
    "\n",
    "![MoReBo Logo](MoReBo.jpg)\n",
    "\n",
    "MoReBo Logo source: https://campk12.com/project/joydeep.chanda/movie-bot"
   ]
  },
  {
   "attachments": {},
   "cell_type": "markdown",
   "metadata": {},
   "source": [
    "- [Context](#context)\n",
    "    - [Introduction](#introduction)\n",
    "    - [Background](#background)\n",
    "    - [Problem Statement](#problem-statement)\n",
    "    - [Goals](#goals)\n",
    "    - [Approach](#approach)\n",
    "- [Explorative Data Analysis](#explorative-data-analysis)\n",
    "    - [Overview of Data](#overview-of-data)\n",
    "    - [Data Visualization](#data-visualization)\n",
    "    - [Statistical Analysis](#statistical-analysis)\n",
    "    - [Hypothesis Testing](#hypothesis-testing)\n",
    "- [Unifying & Transformation](#unifying--transformation)\n",
    "    - [Data Integration](#data-integration)\n",
    "    - [Data Transformation](#data-transformation)\n",
    "    - [Data Normalization](#data-normalization)\n",
    "    - [Data Scaling](#data-scaling)\n",
    "- [Data Cleansing](#data-cleansing)\n",
    "    - [Data Cleaning](#data-cleaning)\n",
    "    - [Outlier Detection](#outlier-detection)\n",
    "    - [Missing Value Imputation](#missing-value-imputation)\n",
    "    - [Duplicate Removal](#duplicate-removal)\n",
    "- [Analysis & Validation](#analysis--validation)\n",
    "    - [Model Selection](#model-selection)\n",
    "    - [Model Validation](#model-validation)\n",
    "    - [Model Evaluation Metrics](#model-evaluation-metrics)\n",
    "    - [Cross-Validation](#cross-validation)\n",
    "- [Feature Selection & Engineering](#feature-selection--engineering)\n",
    "- [Appliance in Machine Learning](#appliance-in-machine-learning)\n",
    "- [Appliance of XAI-Techniques](#appliance-of-xai-techniques)"
   ]
  },
  {
   "attachments": {},
   "cell_type": "markdown",
   "metadata": {},
   "source": [
    "## Context"
   ]
  },
  {
   "attachments": {},
   "cell_type": "markdown",
   "metadata": {},
   "source": [
    "### Introduction\n",
    "\n",
    "The goal of this project is to create a machine learning model that recommends movies to users based on their movie preferences. This model will function similarly to popular VOD providers like Netflix, Amazon Prime, and Disney Plus. To make movie recommendations, users will be required to select a minimum number of movies to be used as input to the model. Two different models, Support Vector Machine and Logistic Regression, will be evaluated to determine which is better suited for this task. Additional models may also be explored as part of this project. The final goal is to deploy the model in a user-friendly web application, which can be hosted on platforms such as heroku.com."
   ]
  },
  {
   "attachments": {},
   "cell_type": "markdown",
   "metadata": {},
   "source": [
    "### Background\n",
    "\n",
    "The rise of online streaming services has led to an explosion of movie choices for users. However, this abundance of choice can be overwhelming, and users may have difficulty finding movies that match their tastes. Machine learning models can be used to provide personalized recommendations to users, based on their movie preferences. Popular VOD providers like Netflix and Amazon Prime already use such models to make movie recommendations to their users. This project aims to create a similar model for recommending movies to users."
   ]
  },
  {
   "attachments": {},
   "cell_type": "markdown",
   "metadata": {},
   "source": [
    "### Problem Statement\n",
    "\n",
    "The problem we are trying to solve is to create a machine learning model that can accurately recommend movies to users based on their movie preferences. We want to provide users with personalized movie recommendations to make their movie-watching experience more enjoyable. To achieve this goal, we will be using Support Vector Machine and Logistic Regression models to predict which movies users will enjoy based on their movie preferences. We will evaluate the performance of these models and select the best one for the task. Finally, we will deploy the model in a user-friendly web application to make it accessible to a wide range of users."
   ]
  },
  {
   "attachments": {},
   "cell_type": "markdown",
   "metadata": {},
   "source": [
    "### Installing packages based on Requirements.txt"
   ]
  },
  {
   "cell_type": "code",
   "execution_count": 1,
   "metadata": {},
   "outputs": [],
   "source": [
    "# %pip install -r requirements.txt #TODO: add requirements.txt"
   ]
  },
  {
   "attachments": {},
   "cell_type": "markdown",
   "metadata": {},
   "source": [
    "## Explorative Data Analysis"
   ]
  },
  {
   "attachments": {},
   "cell_type": "markdown",
   "metadata": {},
   "source": [
    "To get enough data we are using the MovieLens 1M dataset from https://grouplens.org/datasets/movielens/. This dataset contains 1M ratings\n",
    "made by 6'040 users for 3'900 movies. Additionally we aggregated our movies with metadata from omdbapi.com."
   ]
  },
  {
   "attachments": {},
   "cell_type": "markdown",
   "metadata": {},
   "source": [
    "### Overview of Data"
   ]
  },
  {
   "attachments": {},
   "cell_type": "markdown",
   "metadata": {},
   "source": [
    "We import our data using pandas and then save the three datasets as dataframes."
   ]
  },
  {
   "cell_type": "code",
   "execution_count": 2,
   "metadata": {},
   "outputs": [],
   "source": [
    "import pandas as pd\n",
    "\n",
    "movies = pd.read_csv('data/movies_meta_data.csv', sep=';', engine='python')\n",
    "users = pd.read_csv('data/users.dat', sep='::', engine='python', names=['userId', 'gender', 'age', 'occupation', 'zip-code'])\n",
    "ratings = pd.read_csv('data/ratings.dat', sep='::', engine='python', names=['userId', 'movieId', 'rating', 'timestamp'])"
   ]
  },
  {
   "attachments": {},
   "cell_type": "markdown",
   "metadata": {},
   "source": [
    "Now let's take a closer look at the movies dataset."
   ]
  },
  {
   "cell_type": "code",
   "execution_count": 3,
   "metadata": {},
   "outputs": [
    {
     "data": {
      "text/html": [
       "<div>\n",
       "<style scoped>\n",
       "    .dataframe tbody tr th:only-of-type {\n",
       "        vertical-align: middle;\n",
       "    }\n",
       "\n",
       "    .dataframe tbody tr th {\n",
       "        vertical-align: top;\n",
       "    }\n",
       "\n",
       "    .dataframe thead th {\n",
       "        text-align: right;\n",
       "    }\n",
       "</style>\n",
       "<table border=\"1\" class=\"dataframe\">\n",
       "  <thead>\n",
       "    <tr style=\"text-align: right;\">\n",
       "      <th></th>\n",
       "      <th>ml_movieId</th>\n",
       "      <th>ml_title</th>\n",
       "      <th>ml_genres</th>\n",
       "      <th>Title</th>\n",
       "      <th>Year</th>\n",
       "      <th>Rated</th>\n",
       "      <th>Released</th>\n",
       "      <th>Runtime</th>\n",
       "      <th>Genre</th>\n",
       "      <th>Director</th>\n",
       "      <th>...</th>\n",
       "      <th>imdbVotes</th>\n",
       "      <th>imdbID</th>\n",
       "      <th>Type</th>\n",
       "      <th>DVD</th>\n",
       "      <th>BoxOffice</th>\n",
       "      <th>Production</th>\n",
       "      <th>Website</th>\n",
       "      <th>Response</th>\n",
       "      <th>ml_year</th>\n",
       "      <th>totalSeasons</th>\n",
       "    </tr>\n",
       "  </thead>\n",
       "  <tbody>\n",
       "    <tr>\n",
       "      <th>0</th>\n",
       "      <td>1</td>\n",
       "      <td>Toy Story</td>\n",
       "      <td>Animation|Children's|Comedy</td>\n",
       "      <td>Toy Story</td>\n",
       "      <td>1995</td>\n",
       "      <td>G</td>\n",
       "      <td>22 Nov 1995</td>\n",
       "      <td>81 min</td>\n",
       "      <td>Animation, Adventure, Comedy</td>\n",
       "      <td>John Lasseter</td>\n",
       "      <td>...</td>\n",
       "      <td>1,009,377</td>\n",
       "      <td>tt0114709</td>\n",
       "      <td>movie</td>\n",
       "      <td>23 Mar 2010</td>\n",
       "      <td>$223,225,679</td>\n",
       "      <td>NaN</td>\n",
       "      <td>NaN</td>\n",
       "      <td>True</td>\n",
       "      <td>1995</td>\n",
       "      <td>NaN</td>\n",
       "    </tr>\n",
       "    <tr>\n",
       "      <th>1</th>\n",
       "      <td>2</td>\n",
       "      <td>Jumanji</td>\n",
       "      <td>Adventure|Children's|Fantasy</td>\n",
       "      <td>Jumanji</td>\n",
       "      <td>1995</td>\n",
       "      <td>PG</td>\n",
       "      <td>15 Dec 1995</td>\n",
       "      <td>104 min</td>\n",
       "      <td>Adventure, Comedy, Family</td>\n",
       "      <td>Joe Johnston</td>\n",
       "      <td>...</td>\n",
       "      <td>354,984</td>\n",
       "      <td>tt0113497</td>\n",
       "      <td>movie</td>\n",
       "      <td>NaN</td>\n",
       "      <td>$100,499,940</td>\n",
       "      <td>NaN</td>\n",
       "      <td>NaN</td>\n",
       "      <td>True</td>\n",
       "      <td>1995</td>\n",
       "      <td>NaN</td>\n",
       "    </tr>\n",
       "    <tr>\n",
       "      <th>2</th>\n",
       "      <td>3</td>\n",
       "      <td>Grumpier Old Men</td>\n",
       "      <td>Comedy|Romance</td>\n",
       "      <td>Grumpier Old Men</td>\n",
       "      <td>1995</td>\n",
       "      <td>PG-13</td>\n",
       "      <td>22 Dec 1995</td>\n",
       "      <td>101 min</td>\n",
       "      <td>Comedy, Romance</td>\n",
       "      <td>Howard Deutch</td>\n",
       "      <td>...</td>\n",
       "      <td>28,520</td>\n",
       "      <td>tt0113228</td>\n",
       "      <td>movie</td>\n",
       "      <td>15 May 2007</td>\n",
       "      <td>$71,518,503</td>\n",
       "      <td>NaN</td>\n",
       "      <td>NaN</td>\n",
       "      <td>True</td>\n",
       "      <td>1995</td>\n",
       "      <td>NaN</td>\n",
       "    </tr>\n",
       "    <tr>\n",
       "      <th>3</th>\n",
       "      <td>4</td>\n",
       "      <td>Waiting to Exhale</td>\n",
       "      <td>Comedy|Drama</td>\n",
       "      <td>Waiting to Exhale</td>\n",
       "      <td>1995</td>\n",
       "      <td>R</td>\n",
       "      <td>22 Dec 1995</td>\n",
       "      <td>124 min</td>\n",
       "      <td>Comedy, Drama, Romance</td>\n",
       "      <td>Forest Whitaker</td>\n",
       "      <td>...</td>\n",
       "      <td>11,434</td>\n",
       "      <td>tt0114885</td>\n",
       "      <td>movie</td>\n",
       "      <td>20 Jul 1999</td>\n",
       "      <td>$67,052,156</td>\n",
       "      <td>NaN</td>\n",
       "      <td>NaN</td>\n",
       "      <td>True</td>\n",
       "      <td>1995</td>\n",
       "      <td>NaN</td>\n",
       "    </tr>\n",
       "    <tr>\n",
       "      <th>4</th>\n",
       "      <td>5</td>\n",
       "      <td>Father of the Bride Part II</td>\n",
       "      <td>Comedy</td>\n",
       "      <td>Father of the Bride Part II</td>\n",
       "      <td>1995</td>\n",
       "      <td>PG</td>\n",
       "      <td>08 Dec 1995</td>\n",
       "      <td>106 min</td>\n",
       "      <td>Comedy, Family, Romance</td>\n",
       "      <td>Charles Shyer</td>\n",
       "      <td>...</td>\n",
       "      <td>39,573</td>\n",
       "      <td>tt0113041</td>\n",
       "      <td>movie</td>\n",
       "      <td>25 Jan 2005</td>\n",
       "      <td>$76,594,107</td>\n",
       "      <td>NaN</td>\n",
       "      <td>NaN</td>\n",
       "      <td>True</td>\n",
       "      <td>1995</td>\n",
       "      <td>NaN</td>\n",
       "    </tr>\n",
       "  </tbody>\n",
       "</table>\n",
       "<p>5 rows × 30 columns</p>\n",
       "</div>"
      ],
      "text/plain": [
       "   ml_movieId                     ml_title                     ml_genres  \\\n",
       "0           1                    Toy Story   Animation|Children's|Comedy   \n",
       "1           2                      Jumanji  Adventure|Children's|Fantasy   \n",
       "2           3             Grumpier Old Men                Comedy|Romance   \n",
       "3           4            Waiting to Exhale                  Comedy|Drama   \n",
       "4           5  Father of the Bride Part II                        Comedy   \n",
       "\n",
       "                         Title  Year  Rated     Released  Runtime  \\\n",
       "0                    Toy Story  1995      G  22 Nov 1995   81 min   \n",
       "1                      Jumanji  1995     PG  15 Dec 1995  104 min   \n",
       "2             Grumpier Old Men  1995  PG-13  22 Dec 1995  101 min   \n",
       "3            Waiting to Exhale  1995      R  22 Dec 1995  124 min   \n",
       "4  Father of the Bride Part II  1995     PG  08 Dec 1995  106 min   \n",
       "\n",
       "                          Genre         Director  ...  imdbVotes     imdbID  \\\n",
       "0  Animation, Adventure, Comedy    John Lasseter  ...  1,009,377  tt0114709   \n",
       "1     Adventure, Comedy, Family     Joe Johnston  ...    354,984  tt0113497   \n",
       "2               Comedy, Romance    Howard Deutch  ...     28,520  tt0113228   \n",
       "3        Comedy, Drama, Romance  Forest Whitaker  ...     11,434  tt0114885   \n",
       "4       Comedy, Family, Romance    Charles Shyer  ...     39,573  tt0113041   \n",
       "\n",
       "    Type          DVD     BoxOffice Production Website Response  ml_year  \\\n",
       "0  movie  23 Mar 2010  $223,225,679        NaN     NaN     True     1995   \n",
       "1  movie          NaN  $100,499,940        NaN     NaN     True     1995   \n",
       "2  movie  15 May 2007   $71,518,503        NaN     NaN     True     1995   \n",
       "3  movie  20 Jul 1999   $67,052,156        NaN     NaN     True     1995   \n",
       "4  movie  25 Jan 2005   $76,594,107        NaN     NaN     True     1995   \n",
       "\n",
       "   totalSeasons  \n",
       "0           NaN  \n",
       "1           NaN  \n",
       "2           NaN  \n",
       "3           NaN  \n",
       "4           NaN  \n",
       "\n",
       "[5 rows x 30 columns]"
      ]
     },
     "execution_count": 3,
     "metadata": {},
     "output_type": "execute_result"
    }
   ],
   "source": [
    "movies.head()"
   ]
  },
  {
   "attachments": {},
   "cell_type": "markdown",
   "metadata": {},
   "source": [
    "The dataset from movielens contains movies with the following 3 columns:\n",
    "- MovieID: ID which movielens gave the movie\n",
    "- Genres: A pipe seperated list of genres\n",
    "- Titles: The title of the movie which corresponds to the title in IMDB. The title also includes the release year in brackets.\n",
    "    \n",
    "As this dataset lacks additional data we decided to aggregate it using data provided by omdbapi.com. This API can be queried with\n",
    "a movie title and a year. The result contains additional data like the director, actors, ratings from IMDB. To fetch the data from the \n",
    "API we wrote and executed the script \"get_meta_data.py\" residing in this directory. The script reads all movies from our original movielens\n",
    "dataset and queries the API using the title and the year. The results are saved to a new .csv file called movies_meta_data.csv. The new\n",
    "dataset contains our original columns plus the new ones from omdbapi.com. Some movies were not found on omdbapi.com. These movies are\n",
    "saved to the not_found_movies.csv file so they could be added manually. \n",
    "How much of the additional data is relevant will be examined at a later stage."
   ]
  },
  {
   "cell_type": "code",
   "execution_count": 4,
   "metadata": {},
   "outputs": [
    {
     "data": {
      "text/html": [
       "<div>\n",
       "<style scoped>\n",
       "    .dataframe tbody tr th:only-of-type {\n",
       "        vertical-align: middle;\n",
       "    }\n",
       "\n",
       "    .dataframe tbody tr th {\n",
       "        vertical-align: top;\n",
       "    }\n",
       "\n",
       "    .dataframe thead th {\n",
       "        text-align: right;\n",
       "    }\n",
       "</style>\n",
       "<table border=\"1\" class=\"dataframe\">\n",
       "  <thead>\n",
       "    <tr style=\"text-align: right;\">\n",
       "      <th></th>\n",
       "      <th>userId</th>\n",
       "      <th>gender</th>\n",
       "      <th>age</th>\n",
       "      <th>occupation</th>\n",
       "      <th>zip-code</th>\n",
       "    </tr>\n",
       "  </thead>\n",
       "  <tbody>\n",
       "    <tr>\n",
       "      <th>0</th>\n",
       "      <td>1</td>\n",
       "      <td>F</td>\n",
       "      <td>1</td>\n",
       "      <td>10</td>\n",
       "      <td>48067</td>\n",
       "    </tr>\n",
       "    <tr>\n",
       "      <th>1</th>\n",
       "      <td>2</td>\n",
       "      <td>M</td>\n",
       "      <td>56</td>\n",
       "      <td>16</td>\n",
       "      <td>70072</td>\n",
       "    </tr>\n",
       "    <tr>\n",
       "      <th>2</th>\n",
       "      <td>3</td>\n",
       "      <td>M</td>\n",
       "      <td>25</td>\n",
       "      <td>15</td>\n",
       "      <td>55117</td>\n",
       "    </tr>\n",
       "    <tr>\n",
       "      <th>3</th>\n",
       "      <td>4</td>\n",
       "      <td>M</td>\n",
       "      <td>45</td>\n",
       "      <td>7</td>\n",
       "      <td>02460</td>\n",
       "    </tr>\n",
       "    <tr>\n",
       "      <th>4</th>\n",
       "      <td>5</td>\n",
       "      <td>M</td>\n",
       "      <td>25</td>\n",
       "      <td>20</td>\n",
       "      <td>55455</td>\n",
       "    </tr>\n",
       "  </tbody>\n",
       "</table>\n",
       "</div>"
      ],
      "text/plain": [
       "   userId gender  age  occupation zip-code\n",
       "0       1      F    1          10    48067\n",
       "1       2      M   56          16    70072\n",
       "2       3      M   25          15    55117\n",
       "3       4      M   45           7    02460\n",
       "4       5      M   25          20    55455"
      ]
     },
     "execution_count": 4,
     "metadata": {},
     "output_type": "execute_result"
    }
   ],
   "source": [
    "users.head()"
   ]
  },
  {
   "attachments": {},
   "cell_type": "markdown",
   "metadata": {},
   "source": [
    "The users dataset contains 5 columns.\n",
    "\n",
    "-   userID: Helps to identify the user which rated the movie\n",
    "\n",
    "\n",
    "-   gender: Shows the gender of the user\n",
    "\n",
    "\n",
    "-   age: Gives the age group of the user. There are the following age groups:\n",
    "\n",
    "    -   1 = 0-17\n",
    "    -   18 = 18-24\n",
    "    -   25 = 25-34\n",
    "    -   35 = 35-44\n",
    "    -   45 = 45-49\n",
    "    -   50 = 50-55\n",
    "    -   56 = 56+\n",
    "    \n",
    "\n",
    "     </p>\n",
    "\n",
    "-   occupation: Display the occupation of the users. Here are the 20 different occupations:\n",
    "\n",
    "    -   0:  other or not specified\n",
    "    -   1:  academic/educator\n",
    "    -   2:  artist\n",
    "    -   3:  clerical/admin\n",
    "    -   4:  college/grad student\n",
    "    -   5:  customer service\n",
    "    -   6:  doctor/health care\n",
    "    -   7:  executive/managerial\n",
    "    -   8:  farmer\n",
    "    -   9:  homemaker\n",
    "    -   10: K-12 student\n",
    "    -   11: lawyer\n",
    "    -   12: programmer\n",
    "    -   13: retired\n",
    "    -   14: sales/marketing\n",
    "    -   15: scientist\n",
    "    -   16: self-employed\n",
    "    -   17: technician/engineer\n",
    "    -   18: tradesman/craftsman\n",
    "    -   19: unemployed\n",
    "    -   20: writer\n",
    "    </p>\n",
    "\n",
    "-   zip-code: US-Zip-Codes from the village/city the user lives in "
   ]
  },
  {
   "cell_type": "code",
   "execution_count": 5,
   "metadata": {},
   "outputs": [
    {
     "data": {
      "text/html": [
       "<div>\n",
       "<style scoped>\n",
       "    .dataframe tbody tr th:only-of-type {\n",
       "        vertical-align: middle;\n",
       "    }\n",
       "\n",
       "    .dataframe tbody tr th {\n",
       "        vertical-align: top;\n",
       "    }\n",
       "\n",
       "    .dataframe thead th {\n",
       "        text-align: right;\n",
       "    }\n",
       "</style>\n",
       "<table border=\"1\" class=\"dataframe\">\n",
       "  <thead>\n",
       "    <tr style=\"text-align: right;\">\n",
       "      <th></th>\n",
       "      <th>userId</th>\n",
       "      <th>movieId</th>\n",
       "      <th>rating</th>\n",
       "      <th>timestamp</th>\n",
       "    </tr>\n",
       "  </thead>\n",
       "  <tbody>\n",
       "    <tr>\n",
       "      <th>0</th>\n",
       "      <td>1</td>\n",
       "      <td>1193</td>\n",
       "      <td>5</td>\n",
       "      <td>978300760</td>\n",
       "    </tr>\n",
       "    <tr>\n",
       "      <th>1</th>\n",
       "      <td>1</td>\n",
       "      <td>661</td>\n",
       "      <td>3</td>\n",
       "      <td>978302109</td>\n",
       "    </tr>\n",
       "    <tr>\n",
       "      <th>2</th>\n",
       "      <td>1</td>\n",
       "      <td>914</td>\n",
       "      <td>3</td>\n",
       "      <td>978301968</td>\n",
       "    </tr>\n",
       "    <tr>\n",
       "      <th>3</th>\n",
       "      <td>1</td>\n",
       "      <td>3408</td>\n",
       "      <td>4</td>\n",
       "      <td>978300275</td>\n",
       "    </tr>\n",
       "    <tr>\n",
       "      <th>4</th>\n",
       "      <td>1</td>\n",
       "      <td>2355</td>\n",
       "      <td>5</td>\n",
       "      <td>978824291</td>\n",
       "    </tr>\n",
       "  </tbody>\n",
       "</table>\n",
       "</div>"
      ],
      "text/plain": [
       "   userId  movieId  rating  timestamp\n",
       "0       1     1193       5  978300760\n",
       "1       1      661       3  978302109\n",
       "2       1      914       3  978301968\n",
       "3       1     3408       4  978300275\n",
       "4       1     2355       5  978824291"
      ]
     },
     "execution_count": 5,
     "metadata": {},
     "output_type": "execute_result"
    }
   ],
   "source": [
    "ratings.head()"
   ]
  },
  {
   "attachments": {},
   "cell_type": "markdown",
   "metadata": {},
   "source": [
    "The ratings dataset contains 4 columns.\n",
    "\n",
    "- userId: Shows the userID which User gave the rating\n",
    "\n",
    "- movieId: Shows the movieId from the rated movie\n",
    "\n",
    "- rating: Shows the given rating, which is in range between 0-5\n",
    "\n",
    "- timestamp: Shows the timestamp in seconds since the epoch as returned by time"
   ]
  },
  {
   "attachments": {},
   "cell_type": "markdown",
   "metadata": {},
   "source": [
    "### Data Visualization"
   ]
  },
  {
   "attachments": {},
   "cell_type": "markdown",
   "metadata": {},
   "source": [
    "Introduction text TODO\n",
    "\n",
    "Explain Genres TODO"
   ]
  },
  {
   "cell_type": "code",
   "execution_count": 6,
   "metadata": {},
   "outputs": [
    {
     "data": {
      "image/png": "[encoded data removed]",
      "text/plain": [
       "<Figure size 2000x1000 with 1 Axes>"
      ]
     },
     "metadata": {},
     "output_type": "display_data"
    }
   ],
   "source": [
    "import matplotlib.pyplot as plt\n",
    "\n",
    "# Create a barchart for the number of movies for every genre\n",
    "movies['Genre'].str.get_dummies(sep=', ').sum().sort_values(ascending=False).plot(kind='bar', figsize=(20,10))\n",
    "plt.xticks(rotation=45)\n",
    "plt.show()"
   ]
  },
  {
   "attachments": {},
   "cell_type": "markdown",
   "metadata": {},
   "source": [
    "Explain TODO"
   ]
  },
  {
   "cell_type": "code",
   "execution_count": 7,
   "metadata": {},
   "outputs": [
    {
     "data": {
      "image/png": "[encoded data removed]",
      "text/plain": [
       "<Figure size 640x480 with 1 Axes>"
      ]
     },
     "metadata": {},
     "output_type": "display_data"
    }
   ],
   "source": [
    "# define a custom function to map each year to its corresponding year range\n",
    "def year_to_range(year):\n",
    "    if isinstance(year, str):\n",
    "        # extract the first four characters from the year string\n",
    "        year = int(year[:4])\n",
    "    if year >= 1919 and year <= 1930:\n",
    "        return '1919-1930'\n",
    "    elif year >= 1931 and year <= 1940:\n",
    "        return '1931-1940'\n",
    "    elif year >= 1941 and year <= 1950:\n",
    "        return '1941-1950'\n",
    "    elif year >= 1951 and year <= 1960:\n",
    "        return '1951-1960'\n",
    "    elif year >= 1961 and year <= 1970:\n",
    "        return '1961-1970'\n",
    "    elif year >= 1971 and year <= 1980:\n",
    "        return '1971-1980'\n",
    "    elif year >= 1981 and year <= 1990:\n",
    "        return '1981-1990'\n",
    "    elif year >= 1991 and year <= 2000:\n",
    "        return '1991-2000'\n",
    "    elif year >= 2001 and year <= 2010:\n",
    "        return '2001-2010'\n",
    "    elif year >= 2011 and year <= 2022:\n",
    "        return '2011-2022'\n",
    "\n",
    "# create a new column in the dataframe to group the years into year ranges\n",
    "movies['Year Range'] = movies['Year'].apply(year_to_range)\n",
    "\n",
    "# use pandas value_counts function to count the number of movies in each year range\n",
    "movies_per_year_range = movies['Year Range'].value_counts().sort_index()\n",
    "\n",
    "# create a bar chart using matplotlib\n",
    "plt.bar(movies_per_year_range.index, movies_per_year_range.values)\n",
    "\n",
    "# add labels to the bars\n",
    "for i, value in enumerate(movies_per_year_range.values):\n",
    "    plt.text(i, value, str(value), ha='center', va='bottom')\n",
    "\n",
    "# set the chart title and axis labels\n",
    "plt.title('Number of Movies Released by Year Range')\n",
    "plt.xlabel('Year Range')\n",
    "plt.ylabel('Number of Movies')\n",
    "plt.xticks(rotation=45)\n",
    "\n",
    "# display the chart\n",
    "plt.show()"
   ]
  },
  {
   "attachments": {},
   "cell_type": "markdown",
   "metadata": {},
   "source": [
    "Explain TODO"
   ]
  },
  {
   "attachments": {},
   "cell_type": "markdown",
   "metadata": {},
   "source": [
    "Explain TODO"
   ]
  },
  {
   "cell_type": "code",
   "execution_count": 8,
   "metadata": {},
   "outputs": [
    {
     "data": {
      "image/png": "[encoded data removed]",
      "text/plain": [
       "<Figure size 2000x1000 with 1 Axes>"
      ]
     },
     "metadata": {},
     "output_type": "display_data"
    }
   ],
   "source": [
    "# Map gender codes to labels\n",
    "gender_labels = {'M': 'Male', 'F': 'Female'}\n",
    "\n",
    "# Create a barchart for the genders in the users dataframe\n",
    "ax = users['gender'].map(gender_labels).value_counts().plot(kind='bar', figsize=(20,10))\n",
    "\n",
    "# Set the x- and y-axis labels\n",
    "ax.set_xlabel('Gender')\n",
    "ax.set_ylabel('Count')\n",
    "\n",
    "# Add annotations for the count above each bar\n",
    "for i, v in enumerate(users['gender'].map(gender_labels).value_counts()):\n",
    "    ax.annotate(str(v), xy=(i, v + 20), ha='center', fontsize=12)\n",
    "\n",
    "plt.xticks(rotation=45)\n",
    "plt.show()"
   ]
  },
  {
   "attachments": {},
   "cell_type": "markdown",
   "metadata": {},
   "source": [
    "Explain TODO"
   ]
  },
  {
   "cell_type": "code",
   "execution_count": 9,
   "metadata": {},
   "outputs": [
    {
     "data": {
      "image/png": "[encoded data removed]",
      "text/plain": [
       "<Figure size 2000x1000 with 1 Axes>"
      ]
     },
     "metadata": {},
     "output_type": "display_data"
    }
   ],
   "source": [
    "# Define the age categories\n",
    "age_categories = ['<18', '18-24', '25-34', '35-44', '45-49', '50-55', '56+']\n",
    "\n",
    "# Create a barchart for the ages in the users dataframe\n",
    "ax = users['age'].value_counts().sort_index().plot(kind='bar', figsize=(20,10))\n",
    "\n",
    "# Set the x-axis labels to the age categories\n",
    "ax.set_xticklabels(age_categories)\n",
    "\n",
    "# Set the x- and y-axis labels\n",
    "ax.set_xlabel('Age')\n",
    "ax.set_ylabel('Count')\n",
    "\n",
    "# Add annotations for the count above each bar\n",
    "for i, v in enumerate(users['age'].value_counts().sort_index()):\n",
    "    ax.annotate(str(v), xy=(i, v + 20), ha='center', fontsize=12)\n",
    "    \n",
    "plt.xticks(rotation=45)\n",
    "plt.show()"
   ]
  },
  {
   "attachments": {},
   "cell_type": "markdown",
   "metadata": {},
   "source": [
    "Explain TODO"
   ]
  },
  {
   "cell_type": "code",
   "execution_count": 10,
   "metadata": {},
   "outputs": [
    {
     "data": {
      "image/png": "[encoded data removed]",
      "text/plain": [
       "<Figure size 2000x1000 with 1 Axes>"
      ]
     },
     "metadata": {},
     "output_type": "display_data"
    }
   ],
   "source": [
    "# Define a dictionary to map numeric occupation values to text labels\n",
    "occupation_labels = {0: \"other or not specified\",\n",
    "                     1: \"academic/educator\",\n",
    "                     2: \"artist\",\n",
    "                     3: \"clerical/admin\",\n",
    "                     4: \"college/grad student\",\n",
    "                     5: \"customer service\",\n",
    "                     6: \"doctor/health care\",\n",
    "                     7: \"executive/managerial\",\n",
    "                     8: \"farmer\",\n",
    "                     9: \"homemaker\",\n",
    "                     10: \"K-12 student\",\n",
    "                     11: \"lawyer\",\n",
    "                     12: \"programmer\",\n",
    "                     13: \"retired\",\n",
    "                     14: \"sales/marketing\",\n",
    "                     15: \"scientist\",\n",
    "                     16: \"self-employed\",\n",
    "                     17: \"technician/engineer\",\n",
    "                     18: \"tradesman/craftsman\",\n",
    "                     19: \"unemployed\",\n",
    "                     20: \"writer\"}\n",
    "\n",
    "# Replace the numeric occupation values with text labels using the map method\n",
    "users_plt = users.copy()\n",
    "users_plt['occupation'] = users_plt['occupation'].map(occupation_labels)\n",
    "\n",
    "# Plot a bar chart of the occupations in the users dataframe\n",
    "fig, ax = plt.subplots(figsize=(20, 10))\n",
    "users_plt['occupation'].value_counts().plot(kind='bar', ax=ax)\n",
    "\n",
    "# Add annotations for the count above each bar\n",
    "for i, v in enumerate(users_plt['occupation'].value_counts()):\n",
    "    ax.annotate(str(v), xy=(i, v + 20), ha='center', fontsize=12)\n",
    "\n",
    "# Set the x- and y-axis labels\n",
    "ax.set_xlabel('Occupation')\n",
    "ax.set_ylabel('Count')\n",
    "\n",
    "plt.xticks(rotation=45)\n",
    "plt.show()"
   ]
  },
  {
   "attachments": {},
   "cell_type": "markdown",
   "metadata": {},
   "source": [
    "Explain TODO"
   ]
  },
  {
   "cell_type": "code",
   "execution_count": 11,
   "metadata": {},
   "outputs": [
    {
     "data": {
      "image/png": "[encoded data removed]",
      "text/plain": [
       "<Figure size 2000x1000 with 1 Axes>"
      ]
     },
     "metadata": {},
     "output_type": "display_data"
    }
   ],
   "source": [
    "#create a barchart for the ratings in the ratings dataframe\n",
    "ax = ratings['rating'].value_counts().sort_index().plot(kind='bar', figsize=(20,10))\n",
    "\n",
    "# Set the x- and y-axis labels\n",
    "ax.set_xlabel('Rating')\n",
    "ax.set_ylabel('Count')\n",
    "\n",
    "# Add annotations for the count above each bar\n",
    "for i, v in enumerate(ratings['rating'].value_counts().sort_index()):\n",
    "    ax.annotate(str(v), xy=(i, v + 20), ha='center', fontsize=12)\n",
    "\n",
    "plt.xticks(rotation=45)\n",
    "plt.show()\n"
   ]
  },
  {
   "attachments": {},
   "cell_type": "markdown",
   "metadata": {},
   "source": [
    "TODO Plot 3x2 grid\n",
    "\n",
    "Final explanation TODO"
   ]
  },
  {
   "attachments": {},
   "cell_type": "markdown",
   "metadata": {},
   "source": [
    "### Statistical Analysis"
   ]
  },
  {
   "attachments": {},
   "cell_type": "markdown",
   "metadata": {},
   "source": [
    "### Hypothesis Testing"
   ]
  },
  {
   "attachments": {},
   "cell_type": "markdown",
   "metadata": {},
   "source": [
    "## Unifying & Transformation"
   ]
  },
  {
   "attachments": {},
   "cell_type": "markdown",
   "metadata": {},
   "source": [
    "### Data Transformation"
   ]
  },
  {
   "attachments": {},
   "cell_type": "markdown",
   "metadata": {},
   "source": [
    "Explanation TODO"
   ]
  },
  {
   "cell_type": "code",
   "execution_count": 12,
   "metadata": {},
   "outputs": [],
   "source": [
    "# Define a dictionary to map numeric occupation values to text labels\n",
    "occupation_labels = {0: \"other or not specified\",\n",
    "                     1: \"academic/educator\",\n",
    "                     2: \"artist\",\n",
    "                     3: \"clerical/admin\",\n",
    "                     4: \"college/grad student\",\n",
    "                     5: \"customer service\",\n",
    "                     6: \"doctor/health care\",\n",
    "                     7: \"executive/managerial\",\n",
    "                     8: \"farmer\",\n",
    "                     9: \"homemaker\",\n",
    "                     10: \"K-12 student\",\n",
    "                     11: \"lawyer\",\n",
    "                     12: \"programmer\",\n",
    "                     13: \"retired\",\n",
    "                     14: \"sales/marketing\",\n",
    "                     15: \"scientist\",\n",
    "                     16: \"self-employed\",\n",
    "                     17: \"technician/engineer\",\n",
    "                     18: \"tradesman/craftsman\",\n",
    "                     19: \"unemployed\",\n",
    "                     20: \"writer\"}\n",
    "\n",
    "# Replace the numeric occupation values with text labels using the map method\n",
    "users['occupation'] = users['occupation'].map(occupation_labels)"
   ]
  },
  {
   "cell_type": "code",
   "execution_count": 40,
   "metadata": {},
   "outputs": [
    {
     "name": "stdout",
     "output_type": "stream",
     "text": [
      "Index(['Rated', 'Released', 'Runtime', 'Genre', 'Director', 'Writer', 'Actors',\n",
      "       'Plot', 'Language', 'Country', 'Awards', 'Poster', 'Metascore',\n",
      "       'imdbRating', 'imdbVotes', 'DVD', 'BoxOffice', 'Production', 'Website',\n",
      "       'totalSeasons'],\n",
      "      dtype='object')\n"
     ]
    }
   ],
   "source": [
    "missing_values_movies = movies.isnull().any()\n",
    "\n",
    "missing_cols_mov = movies.columns[missing_values_movies]\n",
    "\n",
    "print(missing_cols_mov)"
   ]
  },
  {
   "cell_type": "code",
   "execution_count": 6,
   "metadata": {},
   "outputs": [],
   "source": [
    "import re\n",
    "\n",
    "# Fill missing 'imdbRating' values with the mean\n",
    "movies['imdbRating'].fillna(movies['imdbRating'].mean(), inplace=True)\n",
    "\n",
    "# Round the 'imdbRating' values to one decimal place\n",
    "movies['imdbRating'] = movies['imdbRating'].round(decimals=1)\n",
    "\n",
    "# Convert the 'imdbVotes' column to float type using regular expressions\n",
    "movies['imdbVotes'] = movies['imdbVotes'].apply(lambda x: float(re.sub(r'[^\\d.]', '', x)) if isinstance(x, str) else x)\n",
    "\n",
    "# Fill in missing values with mean\n",
    "movies['imdbVotes'].fillna(movies['imdbVotes'].mean(), inplace=True)\n",
    "\n",
    "# Round the 'imdbVotes' values to zero decimal places\n",
    "movies['imdbVotes'] = movies['imdbVotes'].round(decimals=0)\n",
    "\n",
    "# Convert the 'BoxOffice' column to float type using regular expressions\n",
    "movies['BoxOffice'] = movies['BoxOffice'].apply(lambda x: float(re.sub(r'[^\\d.]', '', x)) if isinstance(x, str) else x)\n",
    "\n",
    "# Fill in missing values with mean\n",
    "movies['BoxOffice'].fillna(movies['BoxOffice'].mean(), inplace=True)\n",
    "\n",
    "#Round the 'BoxOffice' values to zero decimal places\n",
    "movies['BoxOffice'] = movies['BoxOffice'].round(decimals=0)\n",
    "\n",
    "# Convert the 'Runtime' column from minutes to hours\n",
    "movies['Runtime'] = movies['Runtime'].apply(lambda x: int(re.sub(r'\\D', '', x)) / 60 if isinstance(x, str) else x)\n",
    "\n",
    "# Fill in missing values with mean\n",
    "movies['Runtime'].fillna(movies['Runtime'].mean(), inplace=True)\n",
    "\n",
    "# Round the 'Runtime' values to zero decimal places\n",
    "movies['Runtime'] = movies['Runtime'].round(decimals=0)"
   ]
  },
  {
   "cell_type": "code",
   "execution_count": null,
   "metadata": {},
   "outputs": [],
   "source": [
    "import re\n",
    "\n",
    "# Fill missing 'imdbRating' values with the mean\n",
    "movies_dropped['imdbRating'].fillna(movies_dropped['imdbRating'].mean(), inplace=True)\n",
    "\n",
    "# Round the 'imdbRating' values to one decimal place\n",
    "movies_dropped['imdbRating'] = movies_dropped['imdbRating'].round(decimals=1)\n",
    "\n",
    "# Convert the 'imdbVotes' column to float type using regular expressions\n",
    "movies_dropped['imdbVotes'] = movies_dropped['imdbVotes'].apply(lambda x: float(re.sub(r'[^\\d.]', '', x)) if isinstance(x, str) else x)\n",
    "\n",
    "# Fill in missing values with mean\n",
    "movies_dropped['imdbVotes'].fillna(movies_dropped['imdbVotes'].mean(), inplace=True)\n",
    "\n",
    "# Round the 'imdbVotes' values to zero decimal places\n",
    "movies_dropped['imdbVotes'] = movies_dropped['imdbVotes'].round(decimals=0)\n",
    "\n",
    "# Convert the 'BoxOffice' column to float type using regular expressions\n",
    "movies_dropped['BoxOffice'] = movies_dropped['BoxOffice'].apply(lambda x: float(re.sub(r'[^\\d.]', '', x)) if isinstance(x, str) else x)\n",
    "\n",
    "# Fill in missing values with mean\n",
    "movies_dropped['BoxOffice'].fillna(movies_dropped['BoxOffice'].mean(), inplace=True)\n",
    "\n",
    "# Round the 'BoxOffice' values to zero decimal places\n",
    "movies_dropped['BoxOffice'] = movies_dropped['BoxOffice'].round(decimals=0)\n",
    "\n",
    "# Convert the 'Runtime' column from minutes to hours\n",
    "movies_dropped['Runtime'] = movies_dropped['Runtime'].apply(lambda x: int(re.sub(r'\\D', '', x)) / 60 if isinstance(x, str) else x)\n",
    "\n",
    "# Fill in missing values with mean\n",
    "movies_dropped['Runtime'].fillna(movies_dropped['Runtime'].mean(), inplace=True)\n",
    "\n",
    "# Round the 'Runtime' values to zero decimal places\n",
    "movies_dropped['Runtime'] = movies_dropped['Runtime'].round(decimals=0)\n"
   ]
  },
  {
   "cell_type": "code",
   "execution_count": 42,
   "metadata": {},
   "outputs": [
    {
     "name": "stdout",
     "output_type": "stream",
     "text": [
      "Index(['Rated', 'Released', 'Genre', 'Director', 'Writer', 'Actors', 'Plot',\n",
      "       'Language', 'Country', 'Awards', 'Poster', 'DVD', 'Production',\n",
      "       'Website', 'totalSeasons'],\n",
      "      dtype='object')\n"
     ]
    }
   ],
   "source": [
    "missing_values_movies = movies.isnull().any()\n",
    "\n",
    "missing_cols_mov = movies.columns[missing_values_movies]\n",
    "\n",
    "print(missing_cols_mov)"
   ]
  },
  {
   "cell_type": "code",
   "execution_count": 4,
   "metadata": {},
   "outputs": [
    {
     "name": "stdout",
     "output_type": "stream",
     "text": [
      "100.0    1.0\n"
     ]
    }
   ],
   "source": [
    "movies['Metascore']\n",
    "max_score = movies['Metascore'].max()\n",
    "min_score = movies['Metascore'].min()\n",
    "\n",
    "print(max_score, \"  \", min_score)"
   ]
  },
  {
   "cell_type": "code",
   "execution_count": 56,
   "metadata": {},
   "outputs": [
    {
     "data": {
      "text/plain": [
       "ml_movieId         0\n",
       "ml_title           0\n",
       "ml_genres          0\n",
       "Title              0\n",
       "Year               0\n",
       "Rated            145\n",
       "Released          26\n",
       "Runtime           12\n",
       "Genre              3\n",
       "Director          38\n",
       "Writer            72\n",
       "Actors            10\n",
       "Plot              22\n",
       "Language           6\n",
       "Country            5\n",
       "Awards           683\n",
       "Poster            26\n",
       "Ratings            0\n",
       "Metascore       1189\n",
       "imdbRating        20\n",
       "imdbVotes         19\n",
       "imdbID             0\n",
       "Type               0\n",
       "DVD              318\n",
       "BoxOffice        716\n",
       "Production      3168\n",
       "Website         3331\n",
       "Response           0\n",
       "ml_year            0\n",
       "totalSeasons    3305\n",
       "dtype: int64"
      ]
     },
     "execution_count": 56,
     "metadata": {},
     "output_type": "execute_result"
    }
   ],
   "source": [
    "count_NaN = movies.isna().sum()\n",
    "\n",
    "count_NaN"
   ]
  },
  {
   "cell_type": "code",
   "execution_count": null,
   "metadata": {},
   "outputs": [],
   "source": [
    "count_Genre_rows = movies['Genre'].isna().sum()\n",
    "count_Genre_rows"
   ]
  },
  {
   "cell_type": "code",
   "execution_count": 43,
   "metadata": {},
   "outputs": [],
   "source": [
    "for index, row in movies.iterrows():\n",
    "    if pd.isna(row['Genre']):\n",
    "        movies.drop(index, inplace=True)"
   ]
  },
  {
   "cell_type": "code",
   "execution_count": 44,
   "metadata": {},
   "outputs": [
    {
     "name": "stdout",
     "output_type": "stream",
     "text": [
      "Index(['Rated', 'Released', 'Director', 'Writer', 'Actors', 'Plot', 'Language',\n",
      "       'Country', 'Awards', 'Poster', 'DVD', 'Production', 'Website',\n",
      "       'totalSeasons'],\n",
      "      dtype='object')\n"
     ]
    }
   ],
   "source": [
    "missing_values_movies = movies.isnull().any()\n",
    "\n",
    "missing_cols_mov = movies.columns[missing_values_movies]\n",
    "\n",
    "print(missing_cols_mov)"
   ]
  },
  {
   "cell_type": "code",
   "execution_count": 47,
   "metadata": {},
   "outputs": [],
   "source": [
    "drop_na = pd.DataFrame()\n",
    "drop_na = movies[movies['Rated'].isna()]\n",
    "drop_na.to_csv('data/drop_na.csv', index=False)"
   ]
  },
  {
   "cell_type": "code",
   "execution_count": 48,
   "metadata": {},
   "outputs": [],
   "source": [
    "movies.drop(['Rated', 'Director', 'Writer', 'Actors', 'Plot', 'Language',\n",
    "       'Country', 'Awards', 'Poster', 'DVD', 'Production', 'Website',\n",
    "       'totalSeasons'] , axis=1, inplace=True)"
   ]
  },
  {
   "cell_type": "code",
   "execution_count": 49,
   "metadata": {},
   "outputs": [
    {
     "name": "stdout",
     "output_type": "stream",
     "text": [
      "Index(['Released'], dtype='object')\n"
     ]
    }
   ],
   "source": [
    "missing_values_movies = movies.isnull().any()\n",
    "\n",
    "missing_cols_mov = movies.columns[missing_values_movies]\n",
    "\n",
    "print(missing_cols_mov)"
   ]
  },
  {
   "cell_type": "code",
   "execution_count": 50,
   "metadata": {},
   "outputs": [],
   "source": [
    "drop_na = pd.DataFrame()\n",
    "drop_na = movies[movies['Released'].isna()]\n",
    "drop_na.to_csv('data/drop_na.csv', index=False)"
   ]
  },
  {
   "cell_type": "code",
   "execution_count": 37,
   "metadata": {},
   "outputs": [
    {
     "data": {
      "text/html": [
       "<div>\n",
       "<style scoped>\n",
       "    .dataframe tbody tr th:only-of-type {\n",
       "        vertical-align: middle;\n",
       "    }\n",
       "\n",
       "    .dataframe tbody tr th {\n",
       "        vertical-align: top;\n",
       "    }\n",
       "\n",
       "    .dataframe thead th {\n",
       "        text-align: right;\n",
       "    }\n",
       "</style>\n",
       "<table border=\"1\" class=\"dataframe\">\n",
       "  <thead>\n",
       "    <tr style=\"text-align: right;\">\n",
       "      <th></th>\n",
       "      <th>ml_movieId</th>\n",
       "      <th>ml_title</th>\n",
       "      <th>ml_genres</th>\n",
       "      <th>Title</th>\n",
       "      <th>Year</th>\n",
       "      <th>Rated</th>\n",
       "      <th>Released</th>\n",
       "      <th>Runtime</th>\n",
       "      <th>Genre</th>\n",
       "      <th>Director</th>\n",
       "      <th>...</th>\n",
       "      <th>News</th>\n",
       "      <th>Reality-TV</th>\n",
       "      <th>Romance</th>\n",
       "      <th>Sci-Fi</th>\n",
       "      <th>Short</th>\n",
       "      <th>Sport</th>\n",
       "      <th>Talk-Show</th>\n",
       "      <th>Thriller</th>\n",
       "      <th>War</th>\n",
       "      <th>Western</th>\n",
       "    </tr>\n",
       "  </thead>\n",
       "  <tbody>\n",
       "    <tr>\n",
       "      <th>0</th>\n",
       "      <td>1</td>\n",
       "      <td>Toy Story</td>\n",
       "      <td>Animation|Children's|Comedy</td>\n",
       "      <td>Toy Story</td>\n",
       "      <td>1995</td>\n",
       "      <td>G</td>\n",
       "      <td>22 Nov 1995</td>\n",
       "      <td>81 min</td>\n",
       "      <td>Animation, Adventure, Comedy</td>\n",
       "      <td>John Lasseter</td>\n",
       "      <td>...</td>\n",
       "      <td>0</td>\n",
       "      <td>0</td>\n",
       "      <td>0</td>\n",
       "      <td>0</td>\n",
       "      <td>0</td>\n",
       "      <td>0</td>\n",
       "      <td>0</td>\n",
       "      <td>0</td>\n",
       "      <td>0</td>\n",
       "      <td>0</td>\n",
       "    </tr>\n",
       "    <tr>\n",
       "      <th>1</th>\n",
       "      <td>2</td>\n",
       "      <td>Jumanji</td>\n",
       "      <td>Adventure|Children's|Fantasy</td>\n",
       "      <td>Jumanji</td>\n",
       "      <td>1995</td>\n",
       "      <td>PG</td>\n",
       "      <td>15 Dec 1995</td>\n",
       "      <td>104 min</td>\n",
       "      <td>Adventure, Comedy, Family</td>\n",
       "      <td>Joe Johnston</td>\n",
       "      <td>...</td>\n",
       "      <td>0</td>\n",
       "      <td>0</td>\n",
       "      <td>0</td>\n",
       "      <td>0</td>\n",
       "      <td>0</td>\n",
       "      <td>0</td>\n",
       "      <td>0</td>\n",
       "      <td>0</td>\n",
       "      <td>0</td>\n",
       "      <td>0</td>\n",
       "    </tr>\n",
       "    <tr>\n",
       "      <th>2</th>\n",
       "      <td>3</td>\n",
       "      <td>Grumpier Old Men</td>\n",
       "      <td>Comedy|Romance</td>\n",
       "      <td>Grumpier Old Men</td>\n",
       "      <td>1995</td>\n",
       "      <td>PG-13</td>\n",
       "      <td>22 Dec 1995</td>\n",
       "      <td>101 min</td>\n",
       "      <td>Comedy, Romance</td>\n",
       "      <td>Howard Deutch</td>\n",
       "      <td>...</td>\n",
       "      <td>0</td>\n",
       "      <td>0</td>\n",
       "      <td>1</td>\n",
       "      <td>0</td>\n",
       "      <td>0</td>\n",
       "      <td>0</td>\n",
       "      <td>0</td>\n",
       "      <td>0</td>\n",
       "      <td>0</td>\n",
       "      <td>0</td>\n",
       "    </tr>\n",
       "    <tr>\n",
       "      <th>3</th>\n",
       "      <td>4</td>\n",
       "      <td>Waiting to Exhale</td>\n",
       "      <td>Comedy|Drama</td>\n",
       "      <td>Waiting to Exhale</td>\n",
       "      <td>1995</td>\n",
       "      <td>R</td>\n",
       "      <td>22 Dec 1995</td>\n",
       "      <td>124 min</td>\n",
       "      <td>Comedy, Drama, Romance</td>\n",
       "      <td>Forest Whitaker</td>\n",
       "      <td>...</td>\n",
       "      <td>0</td>\n",
       "      <td>0</td>\n",
       "      <td>1</td>\n",
       "      <td>0</td>\n",
       "      <td>0</td>\n",
       "      <td>0</td>\n",
       "      <td>0</td>\n",
       "      <td>0</td>\n",
       "      <td>0</td>\n",
       "      <td>0</td>\n",
       "    </tr>\n",
       "    <tr>\n",
       "      <th>4</th>\n",
       "      <td>5</td>\n",
       "      <td>Father of the Bride Part II</td>\n",
       "      <td>Comedy</td>\n",
       "      <td>Father of the Bride Part II</td>\n",
       "      <td>1995</td>\n",
       "      <td>PG</td>\n",
       "      <td>08 Dec 1995</td>\n",
       "      <td>106 min</td>\n",
       "      <td>Comedy, Family, Romance</td>\n",
       "      <td>Charles Shyer</td>\n",
       "      <td>...</td>\n",
       "      <td>0</td>\n",
       "      <td>0</td>\n",
       "      <td>1</td>\n",
       "      <td>0</td>\n",
       "      <td>0</td>\n",
       "      <td>0</td>\n",
       "      <td>0</td>\n",
       "      <td>0</td>\n",
       "      <td>0</td>\n",
       "      <td>0</td>\n",
       "    </tr>\n",
       "  </tbody>\n",
       "</table>\n",
       "<p>5 rows × 57 columns</p>\n",
       "</div>"
      ],
      "text/plain": [
       "   ml_movieId                     ml_title                     ml_genres  \\\n",
       "0           1                    Toy Story   Animation|Children's|Comedy   \n",
       "1           2                      Jumanji  Adventure|Children's|Fantasy   \n",
       "2           3             Grumpier Old Men                Comedy|Romance   \n",
       "3           4            Waiting to Exhale                  Comedy|Drama   \n",
       "4           5  Father of the Bride Part II                        Comedy   \n",
       "\n",
       "                         Title  Year  Rated     Released  Runtime  \\\n",
       "0                    Toy Story  1995      G  22 Nov 1995   81 min   \n",
       "1                      Jumanji  1995     PG  15 Dec 1995  104 min   \n",
       "2             Grumpier Old Men  1995  PG-13  22 Dec 1995  101 min   \n",
       "3            Waiting to Exhale  1995      R  22 Dec 1995  124 min   \n",
       "4  Father of the Bride Part II  1995     PG  08 Dec 1995  106 min   \n",
       "\n",
       "                          Genre         Director  ... News Reality-TV Romance  \\\n",
       "0  Animation, Adventure, Comedy    John Lasseter  ...    0          0       0   \n",
       "1     Adventure, Comedy, Family     Joe Johnston  ...    0          0       0   \n",
       "2               Comedy, Romance    Howard Deutch  ...    0          0       1   \n",
       "3        Comedy, Drama, Romance  Forest Whitaker  ...    0          0       1   \n",
       "4       Comedy, Family, Romance    Charles Shyer  ...    0          0       1   \n",
       "\n",
       "  Sci-Fi Short Sport Talk-Show Thriller  War  Western  \n",
       "0      0     0     0         0        0    0        0  \n",
       "1      0     0     0         0        0    0        0  \n",
       "2      0     0     0         0        0    0        0  \n",
       "3      0     0     0         0        0    0        0  \n",
       "4      0     0     0         0        0    0        0  \n",
       "\n",
       "[5 rows x 57 columns]"
      ]
     },
     "execution_count": 37,
     "metadata": {},
     "output_type": "execute_result"
    }
   ],
   "source": [
    "# Create dummy variables for the genres\n",
    "movies = movies.join(movies['Genre'].str.get_dummies(sep=', '))\n",
    "movies.head()"
   ]
  },
  {
   "cell_type": "code",
   "execution_count": null,
   "metadata": {},
   "outputs": [],
   "source": []
  },
  {
   "attachments": {},
   "cell_type": "markdown",
   "metadata": {},
   "source": [
    "### Data Integration"
   ]
  },
  {
   "attachments": {},
   "cell_type": "markdown",
   "metadata": {},
   "source": [
    "Explanation TODO"
   ]
  },
  {
   "cell_type": "code",
   "execution_count": null,
   "metadata": {},
   "outputs": [],
   "source": []
  },
  {
   "cell_type": "code",
   "execution_count": 32,
   "metadata": {},
   "outputs": [
    {
     "data": {
      "text/html": [
       "<div>\n",
       "<style scoped>\n",
       "    .dataframe tbody tr th:only-of-type {\n",
       "        vertical-align: middle;\n",
       "    }\n",
       "\n",
       "    .dataframe tbody tr th {\n",
       "        vertical-align: top;\n",
       "    }\n",
       "\n",
       "    .dataframe thead th {\n",
       "        text-align: right;\n",
       "    }\n",
       "</style>\n",
       "<table border=\"1\" class=\"dataframe\">\n",
       "  <thead>\n",
       "    <tr style=\"text-align: right;\">\n",
       "      <th></th>\n",
       "      <th>ml_movieId</th>\n",
       "      <th>ml_title</th>\n",
       "      <th>ml_genres</th>\n",
       "      <th>Title</th>\n",
       "      <th>Year</th>\n",
       "      <th>Rated</th>\n",
       "      <th>Released</th>\n",
       "      <th>Runtime</th>\n",
       "      <th>Genre</th>\n",
       "      <th>Director</th>\n",
       "      <th>...</th>\n",
       "      <th>War</th>\n",
       "      <th>Western</th>\n",
       "      <th>userId</th>\n",
       "      <th>movieId</th>\n",
       "      <th>rating</th>\n",
       "      <th>timestamp</th>\n",
       "      <th>gender</th>\n",
       "      <th>age</th>\n",
       "      <th>occupation</th>\n",
       "      <th>zip-code</th>\n",
       "    </tr>\n",
       "  </thead>\n",
       "  <tbody>\n",
       "    <tr>\n",
       "      <th>0</th>\n",
       "      <td>1</td>\n",
       "      <td>Toy Story</td>\n",
       "      <td>Animation|Children's|Comedy</td>\n",
       "      <td>Toy Story</td>\n",
       "      <td>1995</td>\n",
       "      <td>G</td>\n",
       "      <td>22 Nov 1995</td>\n",
       "      <td>81 min</td>\n",
       "      <td>Animation, Adventure, Comedy</td>\n",
       "      <td>John Lasseter</td>\n",
       "      <td>...</td>\n",
       "      <td>0</td>\n",
       "      <td>0</td>\n",
       "      <td>1</td>\n",
       "      <td>1</td>\n",
       "      <td>5</td>\n",
       "      <td>978824268</td>\n",
       "      <td>F</td>\n",
       "      <td>1</td>\n",
       "      <td>K-12 student</td>\n",
       "      <td>48067</td>\n",
       "    </tr>\n",
       "    <tr>\n",
       "      <th>1</th>\n",
       "      <td>48</td>\n",
       "      <td>Pocahontas</td>\n",
       "      <td>Animation|Children's|Musical|Romance</td>\n",
       "      <td>Pocahontas</td>\n",
       "      <td>1995</td>\n",
       "      <td>G</td>\n",
       "      <td>23 Jun 1995</td>\n",
       "      <td>81 min</td>\n",
       "      <td>Animation, Adventure, Drama</td>\n",
       "      <td>Mike Gabriel, Eric Goldberg</td>\n",
       "      <td>...</td>\n",
       "      <td>0</td>\n",
       "      <td>0</td>\n",
       "      <td>1</td>\n",
       "      <td>48</td>\n",
       "      <td>5</td>\n",
       "      <td>978824351</td>\n",
       "      <td>F</td>\n",
       "      <td>1</td>\n",
       "      <td>K-12 student</td>\n",
       "      <td>48067</td>\n",
       "    </tr>\n",
       "    <tr>\n",
       "      <th>2</th>\n",
       "      <td>150</td>\n",
       "      <td>Apollo 13</td>\n",
       "      <td>Drama</td>\n",
       "      <td>Apollo 13</td>\n",
       "      <td>1995</td>\n",
       "      <td>PG</td>\n",
       "      <td>30 Jun 1995</td>\n",
       "      <td>140 min</td>\n",
       "      <td>Adventure, Drama, History</td>\n",
       "      <td>Ron Howard</td>\n",
       "      <td>...</td>\n",
       "      <td>0</td>\n",
       "      <td>0</td>\n",
       "      <td>1</td>\n",
       "      <td>150</td>\n",
       "      <td>5</td>\n",
       "      <td>978301777</td>\n",
       "      <td>F</td>\n",
       "      <td>1</td>\n",
       "      <td>K-12 student</td>\n",
       "      <td>48067</td>\n",
       "    </tr>\n",
       "    <tr>\n",
       "      <th>3</th>\n",
       "      <td>260</td>\n",
       "      <td>Star Wars: Episode IV - A New Hope</td>\n",
       "      <td>Action|Adventure|Fantasy|Sci-Fi</td>\n",
       "      <td>Star Wars: Episode IV - A New Hope</td>\n",
       "      <td>1977</td>\n",
       "      <td>PG</td>\n",
       "      <td>25 May 1977</td>\n",
       "      <td>121 min</td>\n",
       "      <td>Action, Adventure, Fantasy</td>\n",
       "      <td>George Lucas</td>\n",
       "      <td>...</td>\n",
       "      <td>0</td>\n",
       "      <td>0</td>\n",
       "      <td>1</td>\n",
       "      <td>260</td>\n",
       "      <td>4</td>\n",
       "      <td>978300760</td>\n",
       "      <td>F</td>\n",
       "      <td>1</td>\n",
       "      <td>K-12 student</td>\n",
       "      <td>48067</td>\n",
       "    </tr>\n",
       "    <tr>\n",
       "      <th>4</th>\n",
       "      <td>527</td>\n",
       "      <td>Schindler's List</td>\n",
       "      <td>Drama|War</td>\n",
       "      <td>Schindler's List</td>\n",
       "      <td>1993</td>\n",
       "      <td>R</td>\n",
       "      <td>04 Feb 1994</td>\n",
       "      <td>195 min</td>\n",
       "      <td>Biography, Drama, History</td>\n",
       "      <td>Steven Spielberg</td>\n",
       "      <td>...</td>\n",
       "      <td>0</td>\n",
       "      <td>0</td>\n",
       "      <td>1</td>\n",
       "      <td>527</td>\n",
       "      <td>5</td>\n",
       "      <td>978824195</td>\n",
       "      <td>F</td>\n",
       "      <td>1</td>\n",
       "      <td>K-12 student</td>\n",
       "      <td>48067</td>\n",
       "    </tr>\n",
       "  </tbody>\n",
       "</table>\n",
       "<p>5 rows × 66 columns</p>\n",
       "</div>"
      ],
      "text/plain": [
       "   ml_movieId                            ml_title  \\\n",
       "0           1                           Toy Story   \n",
       "1          48                          Pocahontas   \n",
       "2         150                           Apollo 13   \n",
       "3         260  Star Wars: Episode IV - A New Hope   \n",
       "4         527                    Schindler's List   \n",
       "\n",
       "                              ml_genres                               Title  \\\n",
       "0           Animation|Children's|Comedy                           Toy Story   \n",
       "1  Animation|Children's|Musical|Romance                          Pocahontas   \n",
       "2                                 Drama                           Apollo 13   \n",
       "3       Action|Adventure|Fantasy|Sci-Fi  Star Wars: Episode IV - A New Hope   \n",
       "4                             Drama|War                    Schindler's List   \n",
       "\n",
       "   Year Rated     Released  Runtime                         Genre  \\\n",
       "0  1995     G  22 Nov 1995   81 min  Animation, Adventure, Comedy   \n",
       "1  1995     G  23 Jun 1995   81 min   Animation, Adventure, Drama   \n",
       "2  1995    PG  30 Jun 1995  140 min     Adventure, Drama, History   \n",
       "3  1977    PG  25 May 1977  121 min    Action, Adventure, Fantasy   \n",
       "4  1993     R  04 Feb 1994  195 min     Biography, Drama, History   \n",
       "\n",
       "                      Director  ... War Western userId movieId rating  \\\n",
       "0                John Lasseter  ...   0       0      1       1      5   \n",
       "1  Mike Gabriel, Eric Goldberg  ...   0       0      1      48      5   \n",
       "2                   Ron Howard  ...   0       0      1     150      5   \n",
       "3                 George Lucas  ...   0       0      1     260      4   \n",
       "4             Steven Spielberg  ...   0       0      1     527      5   \n",
       "\n",
       "   timestamp gender age    occupation  zip-code  \n",
       "0  978824268      F   1  K-12 student     48067  \n",
       "1  978824351      F   1  K-12 student     48067  \n",
       "2  978301777      F   1  K-12 student     48067  \n",
       "3  978300760      F   1  K-12 student     48067  \n",
       "4  978824195      F   1  K-12 student     48067  \n",
       "\n",
       "[5 rows x 66 columns]"
      ]
     },
     "execution_count": 32,
     "metadata": {},
     "output_type": "execute_result"
    }
   ],
   "source": [
    "# Merge the data\n",
    "merged = pd.merge(movies, ratings, left_on='ml_movieId', right_on='movieId', how='inner')\n",
    "merged = pd.merge(merged, users, on='userId', how='inner')\n",
    "merged.head()"
   ]
  },
  {
   "attachments": {},
   "cell_type": "markdown",
   "metadata": {},
   "source": [
    "TODO"
   ]
  },
  {
   "cell_type": "code",
   "execution_count": null,
   "metadata": {},
   "outputs": [],
   "source": []
  },
  {
   "attachments": {},
   "cell_type": "markdown",
   "metadata": {},
   "source": [
    "### Data Normalization"
   ]
  },
  {
   "attachments": {},
   "cell_type": "markdown",
   "metadata": {},
   "source": [
    "### Data Scaling"
   ]
  },
  {
   "attachments": {},
   "cell_type": "markdown",
   "metadata": {},
   "source": [
    "## Data Cleansing"
   ]
  },
  {
   "attachments": {},
   "cell_type": "markdown",
   "metadata": {},
   "source": [
    "### Data Cleaning"
   ]
  },
  {
   "attachments": {},
   "cell_type": "markdown",
   "metadata": {},
   "source": [
    "### Outlier Detection"
   ]
  },
  {
   "cell_type": "code",
   "execution_count": null,
   "metadata": {},
   "outputs": [],
   "source": [
    "import numpy as np\n",
    "\n",
    "# Calculate z-scores for each value in 'imdbRating' column\n",
    "z_scores = np.abs((movies_dropped['imdbRating'] - movies_dropped['imdbRating'].mean()) / movies_dropped['imdbRating'].std())\n",
    "\n",
    "# Set a threshold for identifying outliers (3 standard deviations from the mean)\n",
    "threshold = 3\n",
    "\n",
    "# Identify outliers as values with z-scores greater than the threshold\n",
    "outliers = movies_dropped[z_scores > threshold]\n",
    "\n",
    "# Count the number of movies with outliers\n",
    "num_outliers = outliers.shape[0]\n",
    "\n",
    "# Display the outliers and the count\n",
    "print(\"Outliers:\")\n",
    "#print(outliers)\n",
    "print(\"Number of movies with outliers:\", num_outliers)\n"
   ]
  },
  {
   "cell_type": "code",
   "execution_count": null,
   "metadata": {},
   "outputs": [],
   "source": [
    "# Calculate z-scores for each value in 'Runtime' column\n",
    "z_scores = np.abs((movies_dropped['Runtime'] - movies_dropped['Runtime'].mean()) / movies_dropped['Runtime'].std())\n",
    "\n",
    "# Set a threshold for identifying outliers (3 standard deviations from the mean)\n",
    "threshold = 3\n",
    "\n",
    "# Identify outliers as values with z-scores greater than the threshold\n",
    "outliers = movies_dropped[z_scores > threshold]\n",
    "\n",
    "# Count the number of movies with outliers\n",
    "num_outliers = outliers.shape[0]\n",
    "\n",
    "# Display the outliers and the count\n",
    "print(\"Outliers:\")\n",
    "#print(outliers)\n",
    "print(\"Number of movies with outliers:\", num_outliers)\n"
   ]
  },
  {
   "cell_type": "code",
   "execution_count": null,
   "metadata": {},
   "outputs": [],
   "source": [
    "# Calculate z-scores for each value in 'timestamp' column\n",
    "z_scores = np.abs((movies_dropped['timestamp'] - movies_dropped['timestamp'].mean()) / movies_dropped['timestamp'].std())\n",
    "\n",
    "# Set a threshold for identifying outliers (3 standard deviations from the mean)\n",
    "threshold = 3\n",
    "\n",
    "# Identify outliers as values with z-scores greater than the threshold\n",
    "outliers = movies_dropped[z_scores > threshold]\n",
    "\n",
    "# Count the number of movies with outliers\n",
    "num_outliers = outliers.shape[0]\n",
    "\n",
    "# Display the outliers and the count\n",
    "print(\"Outliers:\")\n",
    "#print(outliers)\n",
    "print(\"Number of movies with outliers:\", num_outliers)\n"
   ]
  },
  {
   "cell_type": "code",
   "execution_count": null,
   "metadata": {},
   "outputs": [],
   "source": [
    "# Calculate z-scores for each value in 'BoxOffice' column\n",
    "z_scores = np.abs((movies_dropped['BoxOffice'] - movies_dropped['BoxOffice'].mean()) / movies_dropped['BoxOffice'].std())\n",
    "\n",
    "# Set a threshold for identifying outliers (3 standard deviations from the mean)\n",
    "threshold = 3\n",
    "\n",
    "# Identify outliers as values with z-scores greater than the threshold\n",
    "outliers = movies_dropped[z_scores > threshold]\n",
    "\n",
    "# Count the number of movies with outliers\n",
    "num_outliers = outliers.shape[0]\n",
    "\n",
    "# Display the outliers and the count\n",
    "print(\"Outliers:\")\n",
    "#print(outliers)\n",
    "print(\"Number of movies with outliers:\", num_outliers)"
   ]
  },
  {
   "cell_type": "code",
   "execution_count": null,
   "metadata": {},
   "outputs": [],
   "source": [
    "# Calculate z-scores for each value in 'imdbVotes' column\n",
    "z_scores = np.abs((movies_dropped['imdbVotes'] - movies_dropped['imdbVotes'].mean()) / movies_dropped['imdbVotes'].std())\n",
    "\n",
    "# Set a threshold for identifying outliers (3 standard deviations from the mean)\n",
    "threshold = 3\n",
    "\n",
    "# Identify outliers as values with z-scores greater than the threshold\n",
    "outliers = movies_dropped[z_scores > threshold]\n",
    "\n",
    "# Count the number of movies with outliers\n",
    "num_outliers = outliers.shape[0]\n",
    "\n",
    "# Display the outliers and the count\n",
    "print(\"Outliers:\")\n",
    "#print(outliers)\n",
    "print(\"Number of movies with outliers:\", num_outliers)"
   ]
  },
  {
   "attachments": {},
   "cell_type": "markdown",
   "metadata": {},
   "source": [
    "### Missing Value Imputation"
   ]
  },
  {
   "cell_type": "code",
   "execution_count": 26,
   "metadata": {},
   "outputs": [
    {
     "name": "stdout",
     "output_type": "stream",
     "text": [
      "Index(['Rated', 'Released', 'Runtime', 'Genre', 'Director', 'Writer', 'Actors',\n",
      "       'Plot', 'Language', 'Country', 'Awards', 'Poster', 'Metascore',\n",
      "       'imdbRating', 'imdbVotes', 'DVD', 'BoxOffice', 'Production', 'Website',\n",
      "       'totalSeasons'],\n",
      "      dtype='object')\n",
      "0    $223,225,679\n",
      "1    $141,579,773\n",
      "2    $173,837,933\n",
      "3    $460,998,507\n",
      "Name: BoxOffice, dtype: object\n"
     ]
    }
   ],
   "source": [
    "missing_values = merged.isnull().any()\n",
    "\n",
    "missing_cols = merged.columns[missing_values]\n",
    "\n",
    "print(missing_cols)\n",
    "\n",
    "print(merged.loc[0:3,'BoxOffice'])"
   ]
  },
  {
   "cell_type": "code",
   "execution_count": 38,
   "metadata": {},
   "outputs": [],
   "source": [
    "drop_na = pd.DataFrame()\n",
    "drop_na = movies[movies['Genre'].isna()]"
   ]
  },
  {
   "cell_type": "code",
   "execution_count": 39,
   "metadata": {},
   "outputs": [
    {
     "name": "stdout",
     "output_type": "stream",
     "text": [
      "      ml_movieId           ml_title            ml_genres              Title  \\\n",
      "398          465     Heaven & Earth     Action|Drama|War             Heaven   \n",
      "639          770        Costa Brava                Drama        Costa Brava   \n",
      "1305        1568  MURDER and murder  Crime|Drama|Mystery  MURDER and murder   \n",
      "\n",
      "      Year    Rated     Released  Runtime Genre             Director  ...  \\\n",
      "398   1993      NaN          NaN   83 min   NaN            Petar Zec  ...   \n",
      "639   1946      NaN          NaN   77 min   NaN  Julio de Fleischner  ...   \n",
      "1305  1996  Unrated  20 Jun 1997  113 min   NaN        Yvonne Rainer  ...   \n",
      "\n",
      "     News Reality-TV Romance Sci-Fi Short Sport Talk-Show Thriller  War  \\\n",
      "398     0          0       0      0     0     0         0        0    0   \n",
      "639     0          0       0      0     0     0         0        0    0   \n",
      "1305    0          0       0      0     0     0         0        0    0   \n",
      "\n",
      "      Western  \n",
      "398         0  \n",
      "639         0  \n",
      "1305        0  \n",
      "\n",
      "[3 rows x 57 columns]\n"
     ]
    }
   ],
   "source": [
    "drop_na = pd.DataFrame()\n",
    "drop_na = movies[movies['Genre'].isna()]\n",
    "drop_na.to_csv('data/drop_na.csv', index=False)"
   ]
  },
  {
   "cell_type": "code",
   "execution_count": 22,
   "metadata": {},
   "outputs": [],
   "source": [
    "\n"
   ]
  },
  {
   "cell_type": "code",
   "execution_count": 23,
   "metadata": {},
   "outputs": [
    {
     "name": "stdout",
     "output_type": "stream",
     "text": [
      "Index(['Rated', 'Released', 'Runtime', 'Genre', 'Director', 'Writer', 'Actors',\n",
      "       'Plot', 'Language', 'Country', 'Awards', 'Poster', 'Metascore',\n",
      "       'imdbRating', 'imdbVotes', 'DVD', 'BoxOffice', 'Production', 'Website',\n",
      "       'totalSeasons'],\n",
      "      dtype='object')\n",
      "0     G\n",
      "1     G\n",
      "2    PG\n",
      "3    PG\n",
      "Name: Rated, dtype: object\n"
     ]
    }
   ],
   "source": [
    "\n",
    "missing_cols = merged.columns[missing_values]\n",
    "\n",
    "print(missing_cols)\n",
    "\n",
    "print(merged.loc[0:3,'Rated'])"
   ]
  },
  {
   "attachments": {},
   "cell_type": "markdown",
   "metadata": {},
   "source": [
    "### Duplicate Removal"
   ]
  },
  {
   "cell_type": "code",
   "execution_count": null,
   "metadata": {},
   "outputs": [],
   "source": [
    "merged.drop(['ml_title', 'ml_genres', 'DVD', 'Language'], axis=1, inplace=True)\n"
   ]
  },
  {
   "attachments": {},
   "cell_type": "markdown",
   "metadata": {},
   "source": [
    "## Analysis & Validation"
   ]
  },
  {
   "attachments": {},
   "cell_type": "markdown",
   "metadata": {},
   "source": [
    "### Model Selection"
   ]
  },
  {
   "attachments": {},
   "cell_type": "markdown",
   "metadata": {},
   "source": [
    "https://towardsdatascience.com/movielens-1m-deep-dive-part-ii-tensorflow-recommenders-4ca358cc886e"
   ]
  },
  {
   "attachments": {},
   "cell_type": "markdown",
   "metadata": {},
   "source": [
    "### Model Validation"
   ]
  },
  {
   "attachments": {},
   "cell_type": "markdown",
   "metadata": {},
   "source": [
    "### Model Evaluation Metrics"
   ]
  },
  {
   "attachments": {},
   "cell_type": "markdown",
   "metadata": {},
   "source": [
    "### Cross-Validation"
   ]
  },
  {
   "attachments": {},
   "cell_type": "markdown",
   "metadata": {},
   "source": [
    "## Feature Selection & Engineering"
   ]
  },
  {
   "attachments": {},
   "cell_type": "markdown",
   "metadata": {},
   "source": [
    "## Appliance in Machine Learning"
   ]
  },
  {
   "attachments": {},
   "cell_type": "markdown",
   "metadata": {},
   "source": [
    "## Appliance of XAI-Techniques"
   ]
  }
 ],
 "metadata": {
  "kernelspec": {
   "display_name": "venv",
   "language": "python",
   "name": "python3"
  },
  "language_info": {
   "codemirror_mode": {
    "name": "ipython",
    "version": 3
   },
   "file_extension": ".py",
   "mimetype": "text/x-python",
   "name": "python",
   "nbconvert_exporter": "python",
   "pygments_lexer": "ipython3",
   "version": "3.9.12"
  },
  "orig_nbformat": 4
 },
 "nbformat": 4,
 "nbformat_minor": 2
}
