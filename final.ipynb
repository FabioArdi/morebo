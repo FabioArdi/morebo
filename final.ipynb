{
 "cells": [
  {
   "attachments": {},
   "cell_type": "markdown",
   "metadata": {},
   "source": [
    "# MoReBo\n",
    "MoReBo welcomes you!\n",
    "\n",
    "![MoReBo Logo](MoReBo.jpg)\n",
    "\n",
    "MoReBo Logo source: https://campk12.com/project/joydeep.chanda/movie-bot"
   ]
  },
  {
   "attachments": {},
   "cell_type": "markdown",
   "metadata": {},
   "source": [
    "- [Context](#context)\n",
    "    - [Introduction](#introduction)\n",
    "    - [Background](#background)\n",
    "    - [Problem Statement](#problem-statement)\n",
    "- [Explorative Data Analysis](#explorative-data-analysis)\n",
    "    - [Overview of Data](#overview-of-data)\n",
    "    - [Data Visualization](#data-visualization)\n",
    "    - [Statistical Analysis](#statistical-analysis)\n",
    "    - [Hypothesis Testing](#hypothesis-testing)\n",
    "- [Unifying & Transformation](#unifying--transformation)\n",
    "    - [Data Integration](#data-integration)\n",
    "    - [Data Transformation](#data-transformation)\n",
    "    - [Data Normalization](#data-normalization)\n",
    "    - [Data Scaling](#data-scaling)\n",
    "- [Data Cleansing](#data-cleansing)\n",
    "    - [Data Cleaning](#data-cleaning)\n",
    "    - [Outlier Detection](#outlier-detection)\n",
    "    - [Missing Value Imputation](#missing-value-imputation)\n",
    "    - [Duplicate Removal](#duplicate-removal)\n",
    "- [Analysis & Validation](#analysis--validation)\n",
    "    - [Model Selection](#model-selection)\n",
    "    - [Model Validation](#model-validation)\n",
    "    - [Model Evaluation Metrics](#model-evaluation-metrics)\n",
    "    - [Cross-Validation](#cross-validation)\n",
    "- [Feature Selection & Engineering](#feature-selection--engineering)\n",
    "- [Appliance in Machine Learning](#appliance-in-machine-learning)\n",
    "- [Appliance of XAI-Techniques](#appliance-of-xai-techniques)"
   ]
  },
  {
   "attachments": {},
   "cell_type": "markdown",
   "metadata": {},
   "source": [
    "## Context"
   ]
  },
  {
   "attachments": {},
   "cell_type": "markdown",
   "metadata": {},
   "source": [
    "### Introduction\n",
    "\n",
    "The goal of this project is to create a machine learning model that recommends movies to users based on their movie preferences. This model will function similarly to popular VOD providers like Netflix, Amazon Prime, and Disney Plus. To make movie recommendations, users will be required to select a minimum number of movies to be used as input to the model. Two different models, Support Vector Machine and Logistic Regression, will be evaluated to determine which is better suited for this task. Additional models may also be explored as part of this project. The final goal is to deploy the model in a user-friendly web application, which can be hosted on platforms such as heroku.com."
   ]
  },
  {
   "attachments": {},
   "cell_type": "markdown",
   "metadata": {},
   "source": [
    "### Background\n",
    "\n",
    "The rise of online streaming services has led to an explosion of movie choices for users. However, this abundance of choice can be overwhelming, and users may have difficulty finding movies that match their tastes. Machine learning models can be used to provide personalized recommendations to users, based on their movie preferences. Popular VOD providers like Netflix and Amazon Prime already use such models to make movie recommendations to their users. This project aims to create a similar model for recommending movies to users."
   ]
  },
  {
   "attachments": {},
   "cell_type": "markdown",
   "metadata": {},
   "source": [
    "### Problem Statement\n",
    "\n",
    "The problem we are trying to solve is to create a machine learning model that can accurately recommend movies to users based on their movie preferences. We want to provide users with personalized movie recommendations to make their movie-watching experience more enjoyable. To achieve this goal, we will be using Support Vector Machine and Logistic Regression models to predict which movies users will enjoy based on their movie preferences. We will evaluate the performance of these models and select the best one for the task. Finally, we will deploy the model in a user-friendly web application to make it accessible to a wide range of users."
   ]
  },
  {
   "attachments": {},
   "cell_type": "markdown",
   "metadata": {},
   "source": [
    "## Explorative Data Analysis"
   ]
  },
  {
   "attachments": {},
   "cell_type": "markdown",
   "metadata": {},
   "source": [
    "### Overview of Data"
   ]
  },
  {
   "attachments": {},
   "cell_type": "markdown",
   "metadata": {},
   "source": [
    "### Data Visualization"
   ]
  },
  {
   "attachments": {},
   "cell_type": "markdown",
   "metadata": {},
   "source": [
    "### Statistical Analysis"
   ]
  },
  {
   "attachments": {},
   "cell_type": "markdown",
   "metadata": {},
   "source": [
    "### Hypothesis Testing"
   ]
  },
  {
   "attachments": {},
   "cell_type": "markdown",
   "metadata": {},
   "source": [
    "## Unifying & Transformation"
   ]
  },
  {
   "attachments": {},
   "cell_type": "markdown",
   "metadata": {},
   "source": [
    "### Data Integration"
   ]
  },
  {
   "attachments": {},
   "cell_type": "markdown",
   "metadata": {},
   "source": [
    "### Data Transformation"
   ]
  },
  {
   "attachments": {},
   "cell_type": "markdown",
   "metadata": {},
   "source": [
    "### Data Normalization"
   ]
  },
  {
   "attachments": {},
   "cell_type": "markdown",
   "metadata": {},
   "source": [
    "### Data Scaling"
   ]
  },
  {
   "attachments": {},
   "cell_type": "markdown",
   "metadata": {},
   "source": [
    "## Data Cleansing"
   ]
  },
  {
   "attachments": {},
   "cell_type": "markdown",
   "metadata": {},
   "source": [
    "### Data Cleaning"
   ]
  },
  {
   "attachments": {},
   "cell_type": "markdown",
   "metadata": {},
   "source": [
    "### Outlier Detection"
   ]
  },
  {
   "attachments": {},
   "cell_type": "markdown",
   "metadata": {},
   "source": [
    "### Missing Value Imputation"
   ]
  },
  {
   "attachments": {},
   "cell_type": "markdown",
   "metadata": {},
   "source": [
    "### Duplicate Removal"
   ]
  },
  {
   "attachments": {},
   "cell_type": "markdown",
   "metadata": {},
   "source": [
    "## Analysis & Validation"
   ]
  },
  {
   "attachments": {},
   "cell_type": "markdown",
   "metadata": {},
   "source": [
    "### Model Selection"
   ]
  },
  {
   "attachments": {},
   "cell_type": "markdown",
   "metadata": {},
   "source": [
    "### Model Validation"
   ]
  },
  {
   "attachments": {},
   "cell_type": "markdown",
   "metadata": {},
   "source": [
    "### Model Evaluation Metrics"
   ]
  },
  {
   "attachments": {},
   "cell_type": "markdown",
   "metadata": {},
   "source": [
    "### Cross-Validation"
   ]
  },
  {
   "attachments": {},
   "cell_type": "markdown",
   "metadata": {},
   "source": [
    "## Feature Selection & Engineering"
   ]
  },
  {
   "attachments": {},
   "cell_type": "markdown",
   "metadata": {},
   "source": [
    "## Appliance in Machine Learning"
   ]
  },
  {
   "attachments": {},
   "cell_type": "markdown",
   "metadata": {},
   "source": [
    "## Appliance of XAI-Techniques"
   ]
  }
 ],
 "metadata": {
  "language_info": {
   "name": "python"
  },
  "orig_nbformat": 4
 },
 "nbformat": 4,
 "nbformat_minor": 2
}
