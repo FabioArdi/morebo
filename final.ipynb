{
 "cells": [
  {
   "attachments": {},
   "cell_type": "markdown",
   "metadata": {},
   "source": [
    "# MoReBo\n",
    "MoReBo welcomes you!\n",
    "\n",
    "![MoReBo Logo](MoReBo.jpg)\n",
    "\n",
    "MoReBo Logo source: https://campk12.com/project/joydeep.chanda/movie-bot"
   ]
  },
  {
   "attachments": {},
   "cell_type": "markdown",
   "metadata": {},
   "source": [
    "- [Context](#context)\n",
    "    - [Introduction](#introduction)\n",
    "    - [Background](#background)\n",
    "    - [Problem Statement](#problem-statement)\n",
    "- [Explorative Data Analysis](#explorative-data-analysis)\n",
    "    - [Overview of Data](#overview-of-data)\n",
    "    - [Data Visualization](#data-visualization)\n",
    "    - [Statistical Analysis](#statistical-analysis)\n",
    "    - [Hypothesis Testing](#hypothesis-testing)\n",
    "- [Unifying & Transformation](#unifying--transformation)\n",
    "    - [Data Integration](#data-integration)\n",
    "    - [Data Transformation](#data-transformation)\n",
    "    - [Data Normalization](#data-normalization)\n",
    "    - [Data Scaling](#data-scaling)\n",
    "- [Data Cleansing](#data-cleansing)\n",
    "    - [Data Cleaning](#data-cleaning)\n",
    "    - [Outlier Detection](#outlier-detection)\n",
    "    - [Missing Value Imputation](#missing-value-imputation)\n",
    "    - [Duplicate Removal](#duplicate-removal)\n",
    "- [Analysis & Validation](#analysis--validation)\n",
    "    - [Model Selection](#model-selection)\n",
    "    - [Model Validation](#model-validation)\n",
    "    - [Model Evaluation Metrics](#model-evaluation-metrics)\n",
    "    - [Cross-Validation](#cross-validation)\n",
    "- [Feature Selection & Engineering](#feature-selection--engineering)\n",
    "- [Appliance in Machine Learning](#appliance-in-machine-learning)\n",
    "- [Appliance of XAI-Techniques](#appliance-of-xai-techniques)"
   ]
  },
  {
   "attachments": {},
   "cell_type": "markdown",
   "metadata": {},
   "source": [
    "## Context"
   ]
  },
  {
   "attachments": {},
   "cell_type": "markdown",
   "metadata": {},
   "source": [
    "### Introduction\n",
    "\n",
    "The goal of this project is to create a machine learning model that recommends movies to users based on their movie preferences. This model will function similarly to popular VOD providers like Netflix, Amazon Prime, and Disney Plus. To make movie recommendations, users will be required to select a minimum number of movies to be used as input to the model. Two different models, Support Vector Machine and Logistic Regression, will be evaluated to determine which is better suited for this task. Additional models may also be explored as part of this project. The final goal is to deploy the model in a user-friendly web application, which can be hosted on platforms such as heroku.com."
   ]
  },
  {
   "attachments": {},
   "cell_type": "markdown",
   "metadata": {},
   "source": [
    "### Background\n",
    "\n",
    "The rise of online streaming services has led to an explosion of movie choices for users. However, this abundance of choice can be overwhelming, and users may have difficulty finding movies that match their tastes. Machine learning models can be used to provide personalized recommendations to users, based on their movie preferences. Popular VOD providers like Netflix and Amazon Prime already use such models to make movie recommendations to their users. This project aims to create a similar model for recommending movies to users."
   ]
  },
  {
   "attachments": {},
   "cell_type": "markdown",
   "metadata": {},
   "source": [
    "### Problem Statement\n",
    "\n",
    "The problem we are trying to solve is to create a machine learning model that can accurately recommend movies to users based on their movie preferences. We want to provide users with personalized movie recommendations to make their movie-watching experience more enjoyable. To achieve this goal, we will be using Support Vector Machine and Logistic Regression models to predict which movies users will enjoy based on their movie preferences. We will evaluate the performance of these models and select the best one for the task. Finally, we will deploy the model in a user-friendly web application to make it accessible to a wide range of users."
   ]
  },
  {
   "attachments": {},
   "cell_type": "markdown",
   "metadata": {},
   "source": [
    "### Installing packages based on Requirements.txt"
   ]
  },
  {
   "cell_type": "code",
   "execution_count": null,
   "metadata": {},
   "outputs": [],
   "source": [
    "# %pip install -r requirements.txt #TODO: add requirements.txt"
   ]
  },
  {
   "attachments": {},
   "cell_type": "markdown",
   "metadata": {},
   "source": [
    "## Explorative Data Analysis"
   ]
  },
  {
   "attachments": {},
   "cell_type": "markdown",
   "metadata": {},
   "source": [
    "To get enough data we are using the MovieLens 1M dataset from https://grouplens.org/datasets/movielens/. This dataset contains 1M ratings\n",
    "made by 6'040 users for 3'900 movies. Additionally we aggregated our movies with metadata from omdbapi.com."
   ]
  },
  {
   "attachments": {},
   "cell_type": "markdown",
   "metadata": {},
   "source": [
    "### Overview of Data"
   ]
  },
  {
   "attachments": {},
   "cell_type": "markdown",
   "metadata": {},
   "source": [
    "We import our data using pandas and then save the three datasets as dataframes."
   ]
  },
  {
   "cell_type": "code",
   "execution_count": 14,
   "metadata": {},
   "outputs": [],
   "source": [
    "import pandas as pd\n",
    "\n",
    "movies = pd.read_csv('data/movies_meta_data.csv', sep=';', engine='python')\n",
    "users = pd.read_csv('data/users.dat', sep='::', engine='python', names=['userId', 'gender', 'age', 'occupation', 'zip-code'])\n",
    "ratings = pd.read_csv('data/ratings.dat', sep='::', engine='python', names=['userId', 'movieId', 'rating', 'timestamp'])"
   ]
  },
  {
   "attachments": {},
   "cell_type": "markdown",
   "metadata": {},
   "source": [
    "Now let's take a closer look at the movies dataset."
   ]
  },
  {
   "cell_type": "code",
   "execution_count": 10,
   "metadata": {},
   "outputs": [
    {
     "data": {
      "text/html": [
       "<div>\n",
       "<style scoped>\n",
       "    .dataframe tbody tr th:only-of-type {\n",
       "        vertical-align: middle;\n",
       "    }\n",
       "\n",
       "    .dataframe tbody tr th {\n",
       "        vertical-align: top;\n",
       "    }\n",
       "\n",
       "    .dataframe thead th {\n",
       "        text-align: right;\n",
       "    }\n",
       "</style>\n",
       "<table border=\"1\" class=\"dataframe\">\n",
       "  <thead>\n",
       "    <tr style=\"text-align: right;\">\n",
       "      <th></th>\n",
       "      <th>ml_movieId</th>\n",
       "      <th>ml_title</th>\n",
       "      <th>ml_genres</th>\n",
       "      <th>Title</th>\n",
       "      <th>Year</th>\n",
       "      <th>Rated</th>\n",
       "      <th>Released</th>\n",
       "      <th>Runtime</th>\n",
       "      <th>Genre</th>\n",
       "      <th>Director</th>\n",
       "      <th>...</th>\n",
       "      <th>imdbVotes</th>\n",
       "      <th>imdbID</th>\n",
       "      <th>Type</th>\n",
       "      <th>DVD</th>\n",
       "      <th>BoxOffice</th>\n",
       "      <th>Production</th>\n",
       "      <th>Website</th>\n",
       "      <th>Response</th>\n",
       "      <th>ml_year</th>\n",
       "      <th>totalSeasons</th>\n",
       "    </tr>\n",
       "  </thead>\n",
       "  <tbody>\n",
       "    <tr>\n",
       "      <th>0</th>\n",
       "      <td>1</td>\n",
       "      <td>Toy Story</td>\n",
       "      <td>Animation|Children's|Comedy</td>\n",
       "      <td>Toy Story</td>\n",
       "      <td>1995</td>\n",
       "      <td>G</td>\n",
       "      <td>22 Nov 1995</td>\n",
       "      <td>81 min</td>\n",
       "      <td>Animation, Adventure, Comedy</td>\n",
       "      <td>John Lasseter</td>\n",
       "      <td>...</td>\n",
       "      <td>1,009,377</td>\n",
       "      <td>tt0114709</td>\n",
       "      <td>movie</td>\n",
       "      <td>23 Mar 2010</td>\n",
       "      <td>$223,225,679</td>\n",
       "      <td>NaN</td>\n",
       "      <td>NaN</td>\n",
       "      <td>True</td>\n",
       "      <td>1995</td>\n",
       "      <td>NaN</td>\n",
       "    </tr>\n",
       "    <tr>\n",
       "      <th>1</th>\n",
       "      <td>2</td>\n",
       "      <td>Jumanji</td>\n",
       "      <td>Adventure|Children's|Fantasy</td>\n",
       "      <td>Jumanji</td>\n",
       "      <td>1995</td>\n",
       "      <td>PG</td>\n",
       "      <td>15 Dec 1995</td>\n",
       "      <td>104 min</td>\n",
       "      <td>Adventure, Comedy, Family</td>\n",
       "      <td>Joe Johnston</td>\n",
       "      <td>...</td>\n",
       "      <td>354,984</td>\n",
       "      <td>tt0113497</td>\n",
       "      <td>movie</td>\n",
       "      <td>NaN</td>\n",
       "      <td>$100,499,940</td>\n",
       "      <td>NaN</td>\n",
       "      <td>NaN</td>\n",
       "      <td>True</td>\n",
       "      <td>1995</td>\n",
       "      <td>NaN</td>\n",
       "    </tr>\n",
       "    <tr>\n",
       "      <th>2</th>\n",
       "      <td>3</td>\n",
       "      <td>Grumpier Old Men</td>\n",
       "      <td>Comedy|Romance</td>\n",
       "      <td>Grumpier Old Men</td>\n",
       "      <td>1995</td>\n",
       "      <td>PG-13</td>\n",
       "      <td>22 Dec 1995</td>\n",
       "      <td>101 min</td>\n",
       "      <td>Comedy, Romance</td>\n",
       "      <td>Howard Deutch</td>\n",
       "      <td>...</td>\n",
       "      <td>28,520</td>\n",
       "      <td>tt0113228</td>\n",
       "      <td>movie</td>\n",
       "      <td>15 May 2007</td>\n",
       "      <td>$71,518,503</td>\n",
       "      <td>NaN</td>\n",
       "      <td>NaN</td>\n",
       "      <td>True</td>\n",
       "      <td>1995</td>\n",
       "      <td>NaN</td>\n",
       "    </tr>\n",
       "    <tr>\n",
       "      <th>3</th>\n",
       "      <td>4</td>\n",
       "      <td>Waiting to Exhale</td>\n",
       "      <td>Comedy|Drama</td>\n",
       "      <td>Waiting to Exhale</td>\n",
       "      <td>1995</td>\n",
       "      <td>R</td>\n",
       "      <td>22 Dec 1995</td>\n",
       "      <td>124 min</td>\n",
       "      <td>Comedy, Drama, Romance</td>\n",
       "      <td>Forest Whitaker</td>\n",
       "      <td>...</td>\n",
       "      <td>11,434</td>\n",
       "      <td>tt0114885</td>\n",
       "      <td>movie</td>\n",
       "      <td>20 Jul 1999</td>\n",
       "      <td>$67,052,156</td>\n",
       "      <td>NaN</td>\n",
       "      <td>NaN</td>\n",
       "      <td>True</td>\n",
       "      <td>1995</td>\n",
       "      <td>NaN</td>\n",
       "    </tr>\n",
       "    <tr>\n",
       "      <th>4</th>\n",
       "      <td>5</td>\n",
       "      <td>Father of the Bride Part II</td>\n",
       "      <td>Comedy</td>\n",
       "      <td>Father of the Bride Part II</td>\n",
       "      <td>1995</td>\n",
       "      <td>PG</td>\n",
       "      <td>08 Dec 1995</td>\n",
       "      <td>106 min</td>\n",
       "      <td>Comedy, Family, Romance</td>\n",
       "      <td>Charles Shyer</td>\n",
       "      <td>...</td>\n",
       "      <td>39,573</td>\n",
       "      <td>tt0113041</td>\n",
       "      <td>movie</td>\n",
       "      <td>25 Jan 2005</td>\n",
       "      <td>$76,594,107</td>\n",
       "      <td>NaN</td>\n",
       "      <td>NaN</td>\n",
       "      <td>True</td>\n",
       "      <td>1995</td>\n",
       "      <td>NaN</td>\n",
       "    </tr>\n",
       "  </tbody>\n",
       "</table>\n",
       "<p>5 rows × 30 columns</p>\n",
       "</div>"
      ],
      "text/plain": [
       "   ml_movieId                     ml_title                     ml_genres   \n",
       "0           1                    Toy Story   Animation|Children's|Comedy  \\\n",
       "1           2                      Jumanji  Adventure|Children's|Fantasy   \n",
       "2           3             Grumpier Old Men                Comedy|Romance   \n",
       "3           4            Waiting to Exhale                  Comedy|Drama   \n",
       "4           5  Father of the Bride Part II                        Comedy   \n",
       "\n",
       "                         Title  Year  Rated     Released  Runtime   \n",
       "0                    Toy Story  1995      G  22 Nov 1995   81 min  \\\n",
       "1                      Jumanji  1995     PG  15 Dec 1995  104 min   \n",
       "2             Grumpier Old Men  1995  PG-13  22 Dec 1995  101 min   \n",
       "3            Waiting to Exhale  1995      R  22 Dec 1995  124 min   \n",
       "4  Father of the Bride Part II  1995     PG  08 Dec 1995  106 min   \n",
       "\n",
       "                          Genre         Director  ...  imdbVotes     imdbID   \n",
       "0  Animation, Adventure, Comedy    John Lasseter  ...  1,009,377  tt0114709  \\\n",
       "1     Adventure, Comedy, Family     Joe Johnston  ...    354,984  tt0113497   \n",
       "2               Comedy, Romance    Howard Deutch  ...     28,520  tt0113228   \n",
       "3        Comedy, Drama, Romance  Forest Whitaker  ...     11,434  tt0114885   \n",
       "4       Comedy, Family, Romance    Charles Shyer  ...     39,573  tt0113041   \n",
       "\n",
       "    Type          DVD     BoxOffice Production Website Response  ml_year   \n",
       "0  movie  23 Mar 2010  $223,225,679        NaN     NaN     True     1995  \\\n",
       "1  movie          NaN  $100,499,940        NaN     NaN     True     1995   \n",
       "2  movie  15 May 2007   $71,518,503        NaN     NaN     True     1995   \n",
       "3  movie  20 Jul 1999   $67,052,156        NaN     NaN     True     1995   \n",
       "4  movie  25 Jan 2005   $76,594,107        NaN     NaN     True     1995   \n",
       "\n",
       "   totalSeasons  \n",
       "0           NaN  \n",
       "1           NaN  \n",
       "2           NaN  \n",
       "3           NaN  \n",
       "4           NaN  \n",
       "\n",
       "[5 rows x 30 columns]"
      ]
     },
     "execution_count": 10,
     "metadata": {},
     "output_type": "execute_result"
    }
   ],
   "source": [
    "movies.head()"
   ]
  },
  {
   "attachments": {},
   "cell_type": "markdown",
   "metadata": {},
   "source": [
    "The dataset from movielens contains movies with the following 3 columns:\n",
    "- MovieID: ID which movielens gave the movie\n",
    "- Genres: A pipe seperated list of genres\n",
    "- Titles: The title of the movie which corresponds to the title in IMDB. The title also includes the release year in brackets.\n",
    "    \n",
    "As this dataset lacks additional data we decided to aggregate it using data provided by omdbapi.com. This API can be queried with\n",
    "a movie title and a year. The result contains additional data like the director, actors, ratings from IMDB. To fetch the data from the \n",
    "API we wrote and executed the script \"get_meta_data.py\" residing in this directory. The script reads all movies from our original movielens\n",
    "dataset and queries the API using the title and the year. The results are saved to a new .csv file called movies_meta_data.csv. The new\n",
    "dataset contains our original columns plus the new ones from omdbapi.com. Some movies were not found on omdbapi.com. These movies are\n",
    "saved to the not_found_movies.csv file so they could be added manually. \n",
    "How much of the additional data is relevant will be examined at a later stage."
   ]
  },
  {
   "cell_type": "code",
   "execution_count": 11,
   "metadata": {},
   "outputs": [
    {
     "data": {
      "text/html": [
       "<div>\n",
       "<style scoped>\n",
       "    .dataframe tbody tr th:only-of-type {\n",
       "        vertical-align: middle;\n",
       "    }\n",
       "\n",
       "    .dataframe tbody tr th {\n",
       "        vertical-align: top;\n",
       "    }\n",
       "\n",
       "    .dataframe thead th {\n",
       "        text-align: right;\n",
       "    }\n",
       "</style>\n",
       "<table border=\"1\" class=\"dataframe\">\n",
       "  <thead>\n",
       "    <tr style=\"text-align: right;\">\n",
       "      <th></th>\n",
       "      <th>userId</th>\n",
       "      <th>gender</th>\n",
       "      <th>age</th>\n",
       "      <th>occupation</th>\n",
       "      <th>zip-code</th>\n",
       "    </tr>\n",
       "  </thead>\n",
       "  <tbody>\n",
       "    <tr>\n",
       "      <th>0</th>\n",
       "      <td>1</td>\n",
       "      <td>F</td>\n",
       "      <td>1</td>\n",
       "      <td>10</td>\n",
       "      <td>48067</td>\n",
       "    </tr>\n",
       "    <tr>\n",
       "      <th>1</th>\n",
       "      <td>2</td>\n",
       "      <td>M</td>\n",
       "      <td>56</td>\n",
       "      <td>16</td>\n",
       "      <td>70072</td>\n",
       "    </tr>\n",
       "    <tr>\n",
       "      <th>2</th>\n",
       "      <td>3</td>\n",
       "      <td>M</td>\n",
       "      <td>25</td>\n",
       "      <td>15</td>\n",
       "      <td>55117</td>\n",
       "    </tr>\n",
       "    <tr>\n",
       "      <th>3</th>\n",
       "      <td>4</td>\n",
       "      <td>M</td>\n",
       "      <td>45</td>\n",
       "      <td>7</td>\n",
       "      <td>02460</td>\n",
       "    </tr>\n",
       "    <tr>\n",
       "      <th>4</th>\n",
       "      <td>5</td>\n",
       "      <td>M</td>\n",
       "      <td>25</td>\n",
       "      <td>20</td>\n",
       "      <td>55455</td>\n",
       "    </tr>\n",
       "  </tbody>\n",
       "</table>\n",
       "</div>"
      ],
      "text/plain": [
       "   userId gender  age  occupation zip-code\n",
       "0       1      F    1          10    48067\n",
       "1       2      M   56          16    70072\n",
       "2       3      M   25          15    55117\n",
       "3       4      M   45           7    02460\n",
       "4       5      M   25          20    55455"
      ]
     },
     "execution_count": 11,
     "metadata": {},
     "output_type": "execute_result"
    }
   ],
   "source": [
    "users.head()"
   ]
  },
  {
   "attachments": {},
   "cell_type": "markdown",
   "metadata": {},
   "source": [
    "The users dataset contains 5 columns.\n",
    "\n",
    "-   userID: Helps to identify the user which rated the movie\n",
    "\n",
    "\n",
    "-   gender: Shows the gender of the user\n",
    "\n",
    "\n",
    "-   age: Gives the age group of the user. There are the following age groups:\n",
    "\n",
    "    -   1 = 0-17\n",
    "    -   18 = 18-24\n",
    "    -   25 = 25-34\n",
    "    -   35 = 35-44\n",
    "    -   45 = 45-49\n",
    "    -   50 = 50-55\n",
    "    -   56 = 56+\n",
    "    \n",
    "\n",
    "     </p>\n",
    "\n",
    "-   occupation: Display the occupation of the users. Here are the 20 different occupations:\n",
    "\n",
    "    -   0:  other or not specified\n",
    "    -   1:  academic/educator\n",
    "    -   2:  artist\n",
    "    -   3:  clerical/admin\n",
    "    -   4:  college/grad student\n",
    "    -   5:  customer service\n",
    "    -   6:  doctor/health care\n",
    "    -   7:  executive/managerial\n",
    "    -   8:  farmer\n",
    "    -   9:  homemaker\n",
    "    -   10: K-12 student\n",
    "    -   11: lawyer\n",
    "    -   12: programmer\n",
    "    -   13: retired\n",
    "    -   14: sales/marketing\n",
    "    -   15: scientist\n",
    "    -   16: self-employed\n",
    "    -   17: technician/engineer\n",
    "    -   18: tradesman/craftsman\n",
    "    -   19: unemployed\n",
    "    -   20: writer\n",
    "    </p>\n",
    "\n",
    "-   zip-code: US-Zip-Codes from the village/city the user lives in "
   ]
  },
  {
   "cell_type": "code",
   "execution_count": 12,
   "metadata": {},
   "outputs": [
    {
     "data": {
      "text/html": [
       "<div>\n",
       "<style scoped>\n",
       "    .dataframe tbody tr th:only-of-type {\n",
       "        vertical-align: middle;\n",
       "    }\n",
       "\n",
       "    .dataframe tbody tr th {\n",
       "        vertical-align: top;\n",
       "    }\n",
       "\n",
       "    .dataframe thead th {\n",
       "        text-align: right;\n",
       "    }\n",
       "</style>\n",
       "<table border=\"1\" class=\"dataframe\">\n",
       "  <thead>\n",
       "    <tr style=\"text-align: right;\">\n",
       "      <th></th>\n",
       "      <th>userId</th>\n",
       "      <th>movieId</th>\n",
       "      <th>rating</th>\n",
       "      <th>timestamp</th>\n",
       "    </tr>\n",
       "  </thead>\n",
       "  <tbody>\n",
       "    <tr>\n",
       "      <th>0</th>\n",
       "      <td>1</td>\n",
       "      <td>1193</td>\n",
       "      <td>5</td>\n",
       "      <td>978300760</td>\n",
       "    </tr>\n",
       "    <tr>\n",
       "      <th>1</th>\n",
       "      <td>1</td>\n",
       "      <td>661</td>\n",
       "      <td>3</td>\n",
       "      <td>978302109</td>\n",
       "    </tr>\n",
       "    <tr>\n",
       "      <th>2</th>\n",
       "      <td>1</td>\n",
       "      <td>914</td>\n",
       "      <td>3</td>\n",
       "      <td>978301968</td>\n",
       "    </tr>\n",
       "    <tr>\n",
       "      <th>3</th>\n",
       "      <td>1</td>\n",
       "      <td>3408</td>\n",
       "      <td>4</td>\n",
       "      <td>978300275</td>\n",
       "    </tr>\n",
       "    <tr>\n",
       "      <th>4</th>\n",
       "      <td>1</td>\n",
       "      <td>2355</td>\n",
       "      <td>5</td>\n",
       "      <td>978824291</td>\n",
       "    </tr>\n",
       "  </tbody>\n",
       "</table>\n",
       "</div>"
      ],
      "text/plain": [
       "   userId  movieId  rating  timestamp\n",
       "0       1     1193       5  978300760\n",
       "1       1      661       3  978302109\n",
       "2       1      914       3  978301968\n",
       "3       1     3408       4  978300275\n",
       "4       1     2355       5  978824291"
      ]
     },
     "execution_count": 12,
     "metadata": {},
     "output_type": "execute_result"
    }
   ],
   "source": [
    "ratings.head()"
   ]
  },
  {
   "attachments": {},
   "cell_type": "markdown",
   "metadata": {},
   "source": [
    "The ratings dataset contains 4 columns.\n",
    "\n",
    "- userId: Shows the userID which User gave the rating\n",
    "\n",
    "- movieId: Shows the movieId from the rated movie\n",
    "\n",
    "- rating: Shows the given rating, which is in range between 0-5\n",
    "\n",
    "- timestamp: Shows the timestamp in seconds since the epoch as returned by time"
   ]
  },
  {
   "attachments": {},
   "cell_type": "markdown",
   "metadata": {},
   "source": [
    "### Data Visualization"
   ]
  },
  {
   "cell_type": "markdown",
   "metadata": {},
   "source": []
  },
  {
   "cell_type": "code",
   "execution_count": 16,
   "metadata": {},
   "outputs": [
    {
     "data": {
      "image/png": "[encoded data removed]",
      "text/plain": [
       "<Figure size 2000x1000 with 1 Axes>"
      ]
     },
     "metadata": {},
     "output_type": "display_data"
    }
   ],
   "source": [
    "import matplotlib.pyplot as plt\n",
    "\n",
    "# Create a barchart for the number of movies for every genre\n",
    "movies['Genre'].str.get_dummies(sep=', ').sum().sort_values(ascending=False).plot(kind='bar', figsize=(20,10))\n",
    "plt.xticks(rotation=45)\n",
    "plt.show()"
   ]
  },
  {
   "cell_type": "code",
   "execution_count": 17,
   "metadata": {},
   "outputs": [
    {
     "data": {
      "image/png": "[encoded data removed]",
      "text/plain": [
       "<Figure size 640x480 with 1 Axes>"
      ]
     },
     "metadata": {},
     "output_type": "display_data"
    }
   ],
   "source": [
    "# define a custom function to map each year to its corresponding year range\n",
    "def year_to_range(year):\n",
    "    if isinstance(year, str):\n",
    "        # extract the first four characters from the year string\n",
    "        year = int(year[:4])\n",
    "    if year >= 1919 and year <= 1930:\n",
    "        return '1919-1930'\n",
    "    elif year >= 1931 and year <= 1940:\n",
    "        return '1931-1940'\n",
    "    elif year >= 1941 and year <= 1950:\n",
    "        return '1941-1950'\n",
    "    elif year >= 1951 and year <= 1960:\n",
    "        return '1951-1960'\n",
    "    elif year >= 1961 and year <= 1970:\n",
    "        return '1961-1970'\n",
    "    elif year >= 1971 and year <= 1980:\n",
    "        return '1971-1980'\n",
    "    elif year >= 1981 and year <= 1990:\n",
    "        return '1981-1990'\n",
    "    elif year >= 1991 and year <= 2000:\n",
    "        return '1991-2000'\n",
    "    elif year >= 2001 and year <= 2010:\n",
    "        return '2001-2010'\n",
    "    elif year >= 2011 and year <= 2022:\n",
    "        return '2011-2022'\n",
    "\n",
    "# create a new column in the dataframe to group the years into year ranges\n",
    "movies['Year Range'] = movies['Year'].apply(year_to_range)\n",
    "\n",
    "# use pandas value_counts function to count the number of movies in each year range\n",
    "movies_per_year_range = movies['Year Range'].value_counts().sort_index()\n",
    "\n",
    "# create a bar chart using matplotlib\n",
    "plt.bar(movies_per_year_range.index, movies_per_year_range.values)\n",
    "\n",
    "# add labels to the bars\n",
    "for i, value in enumerate(movies_per_year_range.values):\n",
    "    plt.text(i, value, str(value), ha='center', va='bottom')\n",
    "\n",
    "# set the chart title and axis labels\n",
    "plt.title('Number of Movies Released by Year Range')\n",
    "plt.xlabel('Year Range')\n",
    "plt.ylabel('Number of Movies')\n",
    "plt.xticks(rotation=45)\n",
    "\n",
    "# display the chart\n",
    "plt.show()"
   ]
  },
  {
   "attachments": {},
   "cell_type": "markdown",
   "metadata": {},
   "source": [
    "### Statistical Analysis"
   ]
  },
  {
   "attachments": {},
   "cell_type": "markdown",
   "metadata": {},
   "source": [
    "### Hypothesis Testing"
   ]
  },
  {
   "attachments": {},
   "cell_type": "markdown",
   "metadata": {},
   "source": [
    "## Unifying & Transformation"
   ]
  },
  {
   "attachments": {},
   "cell_type": "markdown",
   "metadata": {},
   "source": [
    "### Data Integration"
   ]
  },
  {
   "attachments": {},
   "cell_type": "markdown",
   "metadata": {},
   "source": [
    "### Data Transformation"
   ]
  },
  {
   "attachments": {},
   "cell_type": "markdown",
   "metadata": {},
   "source": [
    "### Data Normalization"
   ]
  },
  {
   "attachments": {},
   "cell_type": "markdown",
   "metadata": {},
   "source": [
    "### Data Scaling"
   ]
  },
  {
   "attachments": {},
   "cell_type": "markdown",
   "metadata": {},
   "source": [
    "## Data Cleansing"
   ]
  },
  {
   "attachments": {},
   "cell_type": "markdown",
   "metadata": {},
   "source": [
    "### Data Cleaning"
   ]
  },
  {
   "attachments": {},
   "cell_type": "markdown",
   "metadata": {},
   "source": [
    "### Outlier Detection"
   ]
  },
  {
   "attachments": {},
   "cell_type": "markdown",
   "metadata": {},
   "source": [
    "### Missing Value Imputation"
   ]
  },
  {
   "attachments": {},
   "cell_type": "markdown",
   "metadata": {},
   "source": [
    "### Duplicate Removal"
   ]
  },
  {
   "attachments": {},
   "cell_type": "markdown",
   "metadata": {},
   "source": [
    "## Analysis & Validation"
   ]
  },
  {
   "attachments": {},
   "cell_type": "markdown",
   "metadata": {},
   "source": [
    "### Model Selection"
   ]
  },
  {
   "attachments": {},
   "cell_type": "markdown",
   "metadata": {},
   "source": [
    "### Model Validation"
   ]
  },
  {
   "attachments": {},
   "cell_type": "markdown",
   "metadata": {},
   "source": [
    "### Model Evaluation Metrics"
   ]
  },
  {
   "attachments": {},
   "cell_type": "markdown",
   "metadata": {},
   "source": [
    "### Cross-Validation"
   ]
  },
  {
   "attachments": {},
   "cell_type": "markdown",
   "metadata": {},
   "source": [
    "## Feature Selection & Engineering"
   ]
  },
  {
   "attachments": {},
   "cell_type": "markdown",
   "metadata": {},
   "source": [
    "## Appliance in Machine Learning"
   ]
  },
  {
   "attachments": {},
   "cell_type": "markdown",
   "metadata": {},
   "source": [
    "## Appliance of XAI-Techniques"
   ]
  }
 ],
 "metadata": {
  "kernelspec": {
   "display_name": "venv",
   "language": "python",
   "name": "python3"
  },
  "language_info": {
   "codemirror_mode": {
    "name": "ipython",
    "version": 3
   },
   "file_extension": ".py",
   "mimetype": "text/x-python",
   "name": "python",
   "nbconvert_exporter": "python",
   "pygments_lexer": "ipython3",
   "version": "3.10.4"
  },
  "orig_nbformat": 4
 },
 "nbformat": 4,
 "nbformat_minor": 2
}
