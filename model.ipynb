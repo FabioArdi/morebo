{
  "cells": [
    {
      "cell_type": "code",
      "execution_count": 126,
      "metadata": {
        "colab": {
          "base_uri": "https://localhost:8080/"
        },
        "id": "Zizi8Rl8UYRs",
        "outputId": "9284b661-7617-4d35-d852-3c74828b1d11"
      },
      "outputs": [
        {
          "name": "stdout",
          "output_type": "stream",
          "text": [
            "Requirement already satisfied: tensorflow_recommenders in c:\\users\\jansc\\appdata\\local\\programs\\python\\python39\\lib\\site-packages (0.7.3)"
          ]
        },
        {
          "name": "stderr",
          "output_type": "stream",
          "text": [
            "\n",
            "[notice] A new release of pip is available: 23.0.1 -> 23.1.2\n",
            "[notice] To update, run: python.exe -m pip install --upgrade pip\n"
          ]
        },
        {
          "name": "stdout",
          "output_type": "stream",
          "text": [
            "\n",
            "Requirement already satisfied: absl-py>=0.1.6 in c:\\users\\jansc\\appdata\\local\\programs\\python\\python39\\lib\\site-packages (from tensorflow_recommenders) (1.4.0)\n",
            "Requirement already satisfied: tensorflow>=2.9.0 in c:\\users\\jansc\\appdata\\local\\programs\\python\\python39\\lib\\site-packages (from tensorflow_recommenders) (2.11.1)\n",
            "Requirement already satisfied: tensorflow-intel==2.11.1 in c:\\users\\jansc\\appdata\\local\\programs\\python\\python39\\lib\\site-packages (from tensorflow>=2.9.0->tensorflow_recommenders) (2.11.1)\n",
            "Requirement already satisfied: grpcio<2.0,>=1.24.3 in c:\\users\\jansc\\appdata\\local\\programs\\python\\python39\\lib\\site-packages (from tensorflow-intel==2.11.1->tensorflow>=2.9.0->tensorflow_recommenders) (1.51.3)\n",
            "Requirement already satisfied: packaging in c:\\users\\jansc\\appdata\\local\\programs\\python\\python39\\lib\\site-packages (from tensorflow-intel==2.11.1->tensorflow>=2.9.0->tensorflow_recommenders) (23.0)\n",
            "Requirement already satisfied: tensorflow-estimator<2.12,>=2.11.0 in c:\\users\\jansc\\appdata\\local\\programs\\python\\python39\\lib\\site-packages (from tensorflow-intel==2.11.1->tensorflow>=2.9.0->tensorflow_recommenders) (2.11.0)\n",
            "Requirement already satisfied: wrapt>=1.11.0 in c:\\users\\jansc\\appdata\\local\\programs\\python\\python39\\lib\\site-packages (from tensorflow-intel==2.11.1->tensorflow>=2.9.0->tensorflow_recommenders) (1.15.0)\n",
            "Requirement already satisfied: keras<2.12,>=2.11.0 in c:\\users\\jansc\\appdata\\local\\programs\\python\\python39\\lib\\site-packages (from tensorflow-intel==2.11.1->tensorflow>=2.9.0->tensorflow_recommenders) (2.11.0)\n",
            "Requirement already satisfied: typing-extensions>=3.6.6 in c:\\users\\jansc\\appdata\\local\\programs\\python\\python39\\lib\\site-packages (from tensorflow-intel==2.11.1->tensorflow>=2.9.0->tensorflow_recommenders) (4.5.0)\n",
            "Requirement already satisfied: flatbuffers>=2.0 in c:\\users\\jansc\\appdata\\local\\programs\\python\\python39\\lib\\site-packages (from tensorflow-intel==2.11.1->tensorflow>=2.9.0->tensorflow_recommenders) (23.3.3)\n",
            "Requirement already satisfied: libclang>=13.0.0 in c:\\users\\jansc\\appdata\\local\\programs\\python\\python39\\lib\\site-packages (from tensorflow-intel==2.11.1->tensorflow>=2.9.0->tensorflow_recommenders) (15.0.6.1)\n",
            "Requirement already satisfied: numpy>=1.20 in c:\\users\\jansc\\appdata\\local\\programs\\python\\python39\\lib\\site-packages (from tensorflow-intel==2.11.1->tensorflow>=2.9.0->tensorflow_recommenders) (1.24.2)\n",
            "Requirement already satisfied: tensorflow-io-gcs-filesystem>=0.23.1 in c:\\users\\jansc\\appdata\\local\\programs\\python\\python39\\lib\\site-packages (from tensorflow-intel==2.11.1->tensorflow>=2.9.0->tensorflow_recommenders) (0.31.0)\n",
            "Requirement already satisfied: protobuf<3.20,>=3.9.2 in c:\\users\\jansc\\appdata\\local\\programs\\python\\python39\\lib\\site-packages (from tensorflow-intel==2.11.1->tensorflow>=2.9.0->tensorflow_recommenders) (3.19.6)\n",
            "Requirement already satisfied: astunparse>=1.6.0 in c:\\users\\jansc\\appdata\\local\\programs\\python\\python39\\lib\\site-packages (from tensorflow-intel==2.11.1->tensorflow>=2.9.0->tensorflow_recommenders) (1.6.3)\n",
            "Requirement already satisfied: tensorboard<2.12,>=2.11 in c:\\users\\jansc\\appdata\\local\\programs\\python\\python39\\lib\\site-packages (from tensorflow-intel==2.11.1->tensorflow>=2.9.0->tensorflow_recommenders) (2.11.2)\n",
            "Requirement already satisfied: gast<=0.4.0,>=0.2.1 in c:\\users\\jansc\\appdata\\local\\programs\\python\\python39\\lib\\site-packages (from tensorflow-intel==2.11.1->tensorflow>=2.9.0->tensorflow_recommenders) (0.4.0)\n",
            "Requirement already satisfied: six>=1.12.0 in c:\\users\\jansc\\appdata\\local\\programs\\python\\python39\\lib\\site-packages (from tensorflow-intel==2.11.1->tensorflow>=2.9.0->tensorflow_recommenders) (1.16.0)\n",
            "Requirement already satisfied: opt-einsum>=2.3.2 in c:\\users\\jansc\\appdata\\local\\programs\\python\\python39\\lib\\site-packages (from tensorflow-intel==2.11.1->tensorflow>=2.9.0->tensorflow_recommenders) (3.3.0)\n",
            "Requirement already satisfied: google-pasta>=0.1.1 in c:\\users\\jansc\\appdata\\local\\programs\\python\\python39\\lib\\site-packages (from tensorflow-intel==2.11.1->tensorflow>=2.9.0->tensorflow_recommenders) (0.2.0)\n",
            "Requirement already satisfied: termcolor>=1.1.0 in c:\\users\\jansc\\appdata\\local\\programs\\python\\python39\\lib\\site-packages (from tensorflow-intel==2.11.1->tensorflow>=2.9.0->tensorflow_recommenders) (2.2.0)\n",
            "Requirement already satisfied: h5py>=2.9.0 in c:\\users\\jansc\\appdata\\local\\programs\\python\\python39\\lib\\site-packages (from tensorflow-intel==2.11.1->tensorflow>=2.9.0->tensorflow_recommenders) (3.8.0)\n",
            "Requirement already satisfied: setuptools in c:\\users\\jansc\\appdata\\local\\programs\\python\\python39\\lib\\site-packages (from tensorflow-intel==2.11.1->tensorflow>=2.9.0->tensorflow_recommenders) (58.1.0)\n",
            "Requirement already satisfied: wheel<1.0,>=0.23.0 in c:\\users\\jansc\\appdata\\local\\programs\\python\\python39\\lib\\site-packages (from astunparse>=1.6.0->tensorflow-intel==2.11.1->tensorflow>=2.9.0->tensorflow_recommenders) (0.40.0)\n",
            "Requirement already satisfied: tensorboard-plugin-wit>=1.6.0 in c:\\users\\jansc\\appdata\\local\\programs\\python\\python39\\lib\\site-packages (from tensorboard<2.12,>=2.11->tensorflow-intel==2.11.1->tensorflow>=2.9.0->tensorflow_recommenders) (1.8.1)\n",
            "Requirement already satisfied: google-auth-oauthlib<0.5,>=0.4.1 in c:\\users\\jansc\\appdata\\local\\programs\\python\\python39\\lib\\site-packages (from tensorboard<2.12,>=2.11->tensorflow-intel==2.11.1->tensorflow>=2.9.0->tensorflow_recommenders) (0.4.6)\n",
            "Requirement already satisfied: requests<3,>=2.21.0 in c:\\users\\jansc\\appdata\\local\\programs\\python\\python39\\lib\\site-packages (from tensorboard<2.12,>=2.11->tensorflow-intel==2.11.1->tensorflow>=2.9.0->tensorflow_recommenders) (2.28.2)\n",
            "Requirement already satisfied: google-auth<3,>=1.6.3 in c:\\users\\jansc\\appdata\\local\\programs\\python\\python39\\lib\\site-packages (from tensorboard<2.12,>=2.11->tensorflow-intel==2.11.1->tensorflow>=2.9.0->tensorflow_recommenders) (2.16.2)\n",
            "Requirement already satisfied: werkzeug>=1.0.1 in c:\\users\\jansc\\appdata\\local\\programs\\python\\python39\\lib\\site-packages (from tensorboard<2.12,>=2.11->tensorflow-intel==2.11.1->tensorflow>=2.9.0->tensorflow_recommenders) (2.2.3)\n",
            "Requirement already satisfied: tensorboard-data-server<0.7.0,>=0.6.0 in c:\\users\\jansc\\appdata\\local\\programs\\python\\python39\\lib\\site-packages (from tensorboard<2.12,>=2.11->tensorflow-intel==2.11.1->tensorflow>=2.9.0->tensorflow_recommenders) (0.6.1)\n",
            "Requirement already satisfied: markdown>=2.6.8 in c:\\users\\jansc\\appdata\\local\\programs\\python\\python39\\lib\\site-packages (from tensorboard<2.12,>=2.11->tensorflow-intel==2.11.1->tensorflow>=2.9.0->tensorflow_recommenders) (3.4.1)\n",
            "Requirement already satisfied: pyasn1-modules>=0.2.1 in c:\\users\\jansc\\appdata\\local\\programs\\python\\python39\\lib\\site-packages (from google-auth<3,>=1.6.3->tensorboard<2.12,>=2.11->tensorflow-intel==2.11.1->tensorflow>=2.9.0->tensorflow_recommenders) (0.2.8)\n",
            "Requirement already satisfied: cachetools<6.0,>=2.0.0 in c:\\users\\jansc\\appdata\\local\\programs\\python\\python39\\lib\\site-packages (from google-auth<3,>=1.6.3->tensorboard<2.12,>=2.11->tensorflow-intel==2.11.1->tensorflow>=2.9.0->tensorflow_recommenders) (5.3.0)\n",
            "Requirement already satisfied: rsa<5,>=3.1.4 in c:\\users\\jansc\\appdata\\local\\programs\\python\\python39\\lib\\site-packages (from google-auth<3,>=1.6.3->tensorboard<2.12,>=2.11->tensorflow-intel==2.11.1->tensorflow>=2.9.0->tensorflow_recommenders) (4.9)\n",
            "Requirement already satisfied: requests-oauthlib>=0.7.0 in c:\\users\\jansc\\appdata\\local\\programs\\python\\python39\\lib\\site-packages (from google-auth-oauthlib<0.5,>=0.4.1->tensorboard<2.12,>=2.11->tensorflow-intel==2.11.1->tensorflow>=2.9.0->tensorflow_recommenders) (1.3.1)\n",
            "Requirement already satisfied: importlib-metadata>=4.4 in c:\\users\\jansc\\appdata\\local\\programs\\python\\python39\\lib\\site-packages (from markdown>=2.6.8->tensorboard<2.12,>=2.11->tensorflow-intel==2.11.1->tensorflow>=2.9.0->tensorflow_recommenders) (6.0.0)\n",
            "Requirement already satisfied: idna<4,>=2.5 in c:\\users\\jansc\\appdata\\local\\programs\\python\\python39\\lib\\site-packages (from requests<3,>=2.21.0->tensorboard<2.12,>=2.11->tensorflow-intel==2.11.1->tensorflow>=2.9.0->tensorflow_recommenders) (3.4)\n",
            "Requirement already satisfied: charset-normalizer<4,>=2 in c:\\users\\jansc\\appdata\\local\\programs\\python\\python39\\lib\\site-packages (from requests<3,>=2.21.0->tensorboard<2.12,>=2.11->tensorflow-intel==2.11.1->tensorflow>=2.9.0->tensorflow_recommenders) (3.1.0)\n",
            "Requirement already satisfied: urllib3<1.27,>=1.21.1 in c:\\users\\jansc\\appdata\\local\\programs\\python\\python39\\lib\\site-packages (from requests<3,>=2.21.0->tensorboard<2.12,>=2.11->tensorflow-intel==2.11.1->tensorflow>=2.9.0->tensorflow_recommenders) (1.26.15)\n",
            "Requirement already satisfied: certifi>=2017.4.17 in c:\\users\\jansc\\appdata\\local\\programs\\python\\python39\\lib\\site-packages (from requests<3,>=2.21.0->tensorboard<2.12,>=2.11->tensorflow-intel==2.11.1->tensorflow>=2.9.0->tensorflow_recommenders) (2022.12.7)\n",
            "Requirement already satisfied: MarkupSafe>=2.1.1 in c:\\users\\jansc\\appdata\\local\\programs\\python\\python39\\lib\\site-packages (from werkzeug>=1.0.1->tensorboard<2.12,>=2.11->tensorflow-intel==2.11.1->tensorflow>=2.9.0->tensorflow_recommenders) (2.1.2)\n",
            "Requirement already satisfied: zipp>=0.5 in c:\\users\\jansc\\appdata\\local\\programs\\python\\python39\\lib\\site-packages (from importlib-metadata>=4.4->markdown>=2.6.8->tensorboard<2.12,>=2.11->tensorflow-intel==2.11.1->tensorflow>=2.9.0->tensorflow_recommenders) (3.15.0)\n",
            "Requirement already satisfied: pyasn1<0.5.0,>=0.4.6 in c:\\users\\jansc\\appdata\\local\\programs\\python\\python39\\lib\\site-packages (from pyasn1-modules>=0.2.1->google-auth<3,>=1.6.3->tensorboard<2.12,>=2.11->tensorflow-intel==2.11.1->tensorflow>=2.9.0->tensorflow_recommenders) (0.4.8)\n",
            "Requirement already satisfied: oauthlib>=3.0.0 in c:\\users\\jansc\\appdata\\local\\programs\\python\\python39\\lib\\site-packages (from requests-oauthlib>=0.7.0->google-auth-oauthlib<0.5,>=0.4.1->tensorboard<2.12,>=2.11->tensorflow-intel==2.11.1->tensorflow>=2.9.0->tensorflow_recommenders) (3.2.2)\n"
          ]
        }
      ],
      "source": [
        "!pip install tensorflow_recommenders\n",
        "\n",
        "import numpy as np\n",
        "import pandas as pd\n",
        "import tensorflow as tf\n",
        "import tensorflow_recommenders as tfrs\n",
        "from typing import List, Union, Dict, Text"
      ]
    },
    {
      "cell_type": "code",
      "execution_count": 107,
      "metadata": {
        "id": "xaD9Mqy1U7Hi"
      },
      "outputs": [],
      "source": [
        "movies_df = pd.read_csv('data/movies_cleaned.csv')\n",
        "users_df = pd.read_csv('data/users_cleaned.csv')\n",
        "ratings_df = pd.read_csv('data/ratings_cleaned.csv' )"
      ]
    },
    {
      "cell_type": "code",
      "execution_count": 108,
      "metadata": {
        "id": "w2yLukovZaYC"
      },
      "outputs": [],
      "source": [
        "# Merge all data into a single DataFrame\n",
        "merged_df = pd.merge(ratings_df, users_df, on='userId')\n",
        "merged_df = pd.merge(merged_df, movies_df, left_on='movieId', right_on='ml_movieId')\n",
        "\n",
        "merged_df['userId']=merged_df['userId'].astype(str)\n",
        "merged_df['Title']=merged_df['Title'].astype(str)\n",
        "\n",
        "# Convert the merged DataFrame to a TensorFlow Dataset\n",
        "ratings = tf.data.Dataset.from_tensor_slices(dict(merged_df))"
      ]
    },
    {
      "cell_type": "code",
      "execution_count": 109,
      "metadata": {
        "id": "oD-BdFRDZqIM"
      },
      "outputs": [],
      "source": [
        "# Select the basic features.\n",
        "ratings = ratings.map(lambda x: {\n",
        "    \"movie_title\": x[\"Title\"],\n",
        "    \"user_id\": x[\"userId\"],\n",
        "    \"user_rating\": x[\"rating\"],\n",
        "})\n",
        "movies = tf.data.Dataset.from_tensor_slices(movies_df[\"Title\"].unique())"
      ]
    },
    {
      "cell_type": "code",
      "execution_count": 110,
      "metadata": {
        "id": "D74utrzwZtg8"
      },
      "outputs": [],
      "source": [
        "# Randomly shuffle data and split between train and test.\n",
        "tf.random.set_seed(42)\n",
        "shuffled = ratings.shuffle(100_000, seed=42, reshuffle_each_iteration=False)\n",
        "\n",
        "train = shuffled.take(80_000)\n",
        "test = shuffled.skip(80_000).take(20_000)\n",
        "\n",
        "movie_titles = movies.batch(1_000)\n",
        "user_ids = ratings.batch(1_000_000).map(lambda x: x[\"user_id\"])\n",
        "\n",
        "unique_movie_titles = np.unique(np.concatenate(list(movie_titles)))\n",
        "unique_user_ids = np.unique(np.concatenate(list(user_ids)))\n",
        "\n",
        "embedding_dimension = 32\n",
        "\n",
        "user_model = tf.keras.Sequential([\n",
        "  tf.keras.layers.StringLookup(\n",
        "      vocabulary=unique_user_ids, mask_token=None),\n",
        "  tf.keras.layers.Embedding(len(unique_user_ids) + 1, embedding_dimension)\n",
        "])\n",
        "\n",
        "movie_model = tf.keras.Sequential([\n",
        "  tf.keras.layers.StringLookup(\n",
        "      vocabulary=unique_movie_titles, mask_token=None),\n",
        "  tf.keras.layers.Embedding(len(unique_movie_titles) + 1, embedding_dimension)\n",
        "])"
      ]
    },
    {
      "cell_type": "code",
      "execution_count": 111,
      "metadata": {
        "id": "kqXpRqn_ahjl"
      },
      "outputs": [],
      "source": [
        "class MovielensModel(tfrs.models.Model):\n",
        "\n",
        "    def __init__(self, user_model, movie_model, rating_weight: float, retrieval_weight: float) -> None:\n",
        "        super().__init__()\n",
        "\n",
        "        self.movie_model: tf.keras.layers.Layer = movie_model\n",
        "        self.user_model: tf.keras.layers.Layer = user_model\n",
        "\n",
        "        self.rating_model = tf.keras.Sequential([\n",
        "            tf.keras.layers.Dense(256, activation=\"relu\"),\n",
        "            tf.keras.layers.Dense(128, activation=\"relu\"),\n",
        "            tf.keras.layers.Dense(1),\n",
        "        ])\n",
        "\n",
        "        self.rating_task: tf.keras.layers.Layer = tfrs.tasks.Ranking(\n",
        "            loss=tf.keras.losses.MeanSquaredError(),\n",
        "            metrics=[tf.keras.metrics.RootMeanSquaredError()],\n",
        "        )\n",
        "        self.retrieval_task: tf.keras.layers.Layer = tfrs.tasks.Retrieval(\n",
        "            metrics=tfrs.metrics.FactorizedTopK(\n",
        "                candidates=movies.batch(128).map(self.movie_model)\n",
        "            )\n",
        "        )\n",
        "\n",
        "        self.rating_weight = rating_weight\n",
        "        self.retrieval_weight = retrieval_weight\n",
        "\n",
        "    def call(self, features: Dict[str, tf.Tensor]) -> tf.Tensor:\n",
        "        user_embeddings = self.user_model(features[\"user_id\"])\n",
        "        movie_embeddings = self.movie_model(features[\"movie_title\"])\n",
        "\n",
        "        return (\n",
        "            user_embeddings,\n",
        "            movie_embeddings,\n",
        "            self.rating_model(\n",
        "                tf.concat([user_embeddings, movie_embeddings], axis=1)\n",
        "            ),\n",
        "        )\n",
        "\n",
        "    def compute_loss(self, features: Dict[str, tf.Tensor], training=False) -> tf.Tensor:\n",
        "        ratings = features.pop(\"user_rating\")\n",
        "\n",
        "        user_embeddings, movie_embeddings, rating_predictions = self(features)\n",
        "\n",
        "        rating_loss = self.rating_task(\n",
        "            labels=ratings,\n",
        "            predictions=rating_predictions,\n",
        "        )\n",
        "        retrieval_loss = self.retrieval_task(user_embeddings, movie_embeddings)\n",
        "\n",
        "        return (self.rating_weight * rating_loss\n",
        "                + self.retrieval_weight * retrieval_loss)\n",
        "\n",
        "    def recommend(self, user_id: str, k: int = 5):\n",
        "        user_id_tensor = tf.convert_to_tensor([user_id])\n",
        "        user_embedding = self.user_model(user_id_tensor)\n",
        "        movie_embeddings = self.movie_model.layers[-1].embeddings\n",
        "        scores = tf.linalg.matmul(user_embedding, movie_embeddings, transpose_b=True)\n",
        "        top_k_movie_indices = tf.nn.top_k(scores, k=k).indices.numpy()\n",
        "        return [unique_movie_titles[i] for i in top_k_movie_indices[0]]\n",
        "    \n",
        "    "
      ]
    },
    {
      "cell_type": "code",
      "execution_count": 127,
      "metadata": {},
      "outputs": [],
      "source": [
        "def add_new_user_ratings(user_id: str, watched_movies: List[str], user_ratings: List[Union[int, float]]):\n",
        "    # Declare global variables at the beginning of the function\n",
        "    global ratings\n",
        "    global unique_user_ids\n",
        "\n",
        "    # Ensure the user is new\n",
        "    assert user_id not in unique_user_ids, \"The new user id already exists in the data.\"\n",
        "\n",
        "    # Ensure the movies exist in the dataset\n",
        "    for movie in watched_movies:\n",
        "        assert movie in unique_movie_titles, f\"The movie {movie} does not exist in the data.\"\n",
        "\n",
        "    # Convert user_ratings to integers\n",
        "    user_ratings = [int(rating) for rating in user_ratings]\n",
        "\n",
        "    # Create new user data\n",
        "    new_user_data = pd.DataFrame({\n",
        "        'user_id': [user_id] * len(watched_movies),\n",
        "        'movie_title': watched_movies,\n",
        "        'user_rating': user_ratings,\n",
        "    })\n",
        "\n",
        "    # Convert the DataFrame to a TensorFlow Dataset\n",
        "    new_ratings = tf.data.Dataset.from_tensor_slices(dict(new_user_data))\n",
        "\n",
        "    # Update the global 'ratings' variable\n",
        "    ratings = ratings.concatenate(new_ratings)\n",
        "\n",
        "    # Update the global 'unique_user_ids' variable\n",
        "    unique_user_ids = np.concatenate([unique_user_ids, np.array([user_id])])"
      ]
    },
    {
      "cell_type": "code",
      "execution_count": 128,
      "metadata": {
        "id": "NfBq2QOVeycc"
      },
      "outputs": [],
      "source": [
        "cached_train = train.shuffle(100_000).batch(8192).cache()\n",
        "cached_test = test.batch(4096).cache()"
      ]
    },
    {
      "cell_type": "code",
      "execution_count": 129,
      "metadata": {},
      "outputs": [],
      "source": [
        "# Define model checkpoints and early stopping\n",
        "checkpoint_callback = tf.keras.callbacks.ModelCheckpoint(\n",
        "    filepath=\"model_checkpoint\",\n",
        "    save_weights_only=True,\n",
        "    monitor=\"val_loss\",\n",
        "    mode=\"min\",\n",
        "    save_best_only=True\n",
        ")\n",
        "\n",
        "early_stopping_callback = tf.keras.callbacks.EarlyStopping(\n",
        "    monitor=\"val_loss\",\n",
        "    patience=3,\n",
        "    mode=\"min\",\n",
        "    restore_best_weights=True\n",
        ")"
      ]
    },
    {
      "cell_type": "code",
      "execution_count": 116,
      "metadata": {
        "colab": {
          "base_uri": "https://localhost:8080/",
          "height": 1000
        },
        "id": "KX4FPitBfTG6",
        "outputId": "0eb625be-c19b-47d5-ea8e-5844d1635436"
      },
      "outputs": [
        {
          "name": "stdout",
          "output_type": "stream",
          "text": [
            "Epoch 1/10\n",
            "10/10 [==============================] - 36s 3s/step - root_mean_squared_error: 2.3736 - factorized_top_k/top_1_categorical_accuracy: 1.7500e-04 - factorized_top_k/top_5_categorical_accuracy: 0.0013 - factorized_top_k/top_10_categorical_accuracy: 0.0029 - factorized_top_k/top_50_categorical_accuracy: 0.0154 - factorized_top_k/top_100_categorical_accuracy: 0.0309 - loss: 5.1141 - regularization_loss: 0.0000e+00 - total_loss: 5.1141 - val_root_mean_squared_error: 1.0030 - val_factorized_top_k/top_1_categorical_accuracy: 2.0000e-04 - val_factorized_top_k/top_5_categorical_accuracy: 0.0011 - val_factorized_top_k/top_10_categorical_accuracy: 0.0022 - val_factorized_top_k/top_50_categorical_accuracy: 0.0133 - val_factorized_top_k/top_100_categorical_accuracy: 0.0280 - val_loss: 1.0011 - val_regularization_loss: 0.0000e+00 - val_total_loss: 1.0011\n",
            "Epoch 2/10\n",
            "10/10 [==============================] - 28s 3s/step - root_mean_squared_error: 0.9877 - factorized_top_k/top_1_categorical_accuracy: 2.3750e-04 - factorized_top_k/top_5_categorical_accuracy: 0.0014 - factorized_top_k/top_10_categorical_accuracy: 0.0031 - factorized_top_k/top_50_categorical_accuracy: 0.0163 - factorized_top_k/top_100_categorical_accuracy: 0.0322 - loss: 0.9767 - regularization_loss: 0.0000e+00 - total_loss: 0.9767 - val_root_mean_squared_error: 0.9975 - val_factorized_top_k/top_1_categorical_accuracy: 1.5000e-04 - val_factorized_top_k/top_5_categorical_accuracy: 0.0014 - val_factorized_top_k/top_10_categorical_accuracy: 0.0025 - val_factorized_top_k/top_50_categorical_accuracy: 0.0150 - val_factorized_top_k/top_100_categorical_accuracy: 0.0295 - val_loss: 0.9902 - val_regularization_loss: 0.0000e+00 - val_total_loss: 0.9902\n",
            "Epoch 3/10\n",
            "10/10 [==============================] - 32s 3s/step - root_mean_squared_error: 0.9780 - factorized_top_k/top_1_categorical_accuracy: 3.5000e-04 - factorized_top_k/top_5_categorical_accuracy: 0.0020 - factorized_top_k/top_10_categorical_accuracy: 0.0042 - factorized_top_k/top_50_categorical_accuracy: 0.0190 - factorized_top_k/top_100_categorical_accuracy: 0.0360 - loss: 0.9573 - regularization_loss: 0.0000e+00 - total_loss: 0.9573 - val_root_mean_squared_error: 0.9879 - val_factorized_top_k/top_1_categorical_accuracy: 3.0000e-04 - val_factorized_top_k/top_5_categorical_accuracy: 0.0021 - val_factorized_top_k/top_10_categorical_accuracy: 0.0037 - val_factorized_top_k/top_50_categorical_accuracy: 0.0171 - val_factorized_top_k/top_100_categorical_accuracy: 0.0328 - val_loss: 0.9709 - val_regularization_loss: 0.0000e+00 - val_total_loss: 0.9709\n",
            "Epoch 4/10\n",
            "10/10 [==============================] - 48s 5s/step - root_mean_squared_error: 0.9621 - factorized_top_k/top_1_categorical_accuracy: 7.7500e-04 - factorized_top_k/top_5_categorical_accuracy: 0.0036 - factorized_top_k/top_10_categorical_accuracy: 0.0064 - factorized_top_k/top_50_categorical_accuracy: 0.0236 - factorized_top_k/top_100_categorical_accuracy: 0.0427 - loss: 0.9262 - regularization_loss: 0.0000e+00 - total_loss: 0.9262 - val_root_mean_squared_error: 0.9737 - val_factorized_top_k/top_1_categorical_accuracy: 8.5000e-04 - val_factorized_top_k/top_5_categorical_accuracy: 0.0034 - val_factorized_top_k/top_10_categorical_accuracy: 0.0059 - val_factorized_top_k/top_50_categorical_accuracy: 0.0207 - val_factorized_top_k/top_100_categorical_accuracy: 0.0384 - val_loss: 0.9425 - val_regularization_loss: 0.0000e+00 - val_total_loss: 0.9425\n",
            "Epoch 5/10\n",
            "10/10 [==============================] - 47s 5s/step - root_mean_squared_error: 0.9436 - factorized_top_k/top_1_categorical_accuracy: 0.0012 - factorized_top_k/top_5_categorical_accuracy: 0.0057 - factorized_top_k/top_10_categorical_accuracy: 0.0096 - factorized_top_k/top_50_categorical_accuracy: 0.0294 - factorized_top_k/top_100_categorical_accuracy: 0.0499 - loss: 0.8914 - regularization_loss: 0.0000e+00 - total_loss: 0.8914 - val_root_mean_squared_error: 0.9605 - val_factorized_top_k/top_1_categorical_accuracy: 0.0011 - val_factorized_top_k/top_5_categorical_accuracy: 0.0049 - val_factorized_top_k/top_10_categorical_accuracy: 0.0080 - val_factorized_top_k/top_50_categorical_accuracy: 0.0255 - val_factorized_top_k/top_100_categorical_accuracy: 0.0441 - val_loss: 0.9159 - val_regularization_loss: 0.0000e+00 - val_total_loss: 0.9159\n",
            "Epoch 6/10\n",
            "10/10 [==============================] - 44s 4s/step - root_mean_squared_error: 0.9306 - factorized_top_k/top_1_categorical_accuracy: 0.0015 - factorized_top_k/top_5_categorical_accuracy: 0.0072 - factorized_top_k/top_10_categorical_accuracy: 0.0113 - factorized_top_k/top_50_categorical_accuracy: 0.0332 - factorized_top_k/top_100_categorical_accuracy: 0.0549 - loss: 0.8681 - regularization_loss: 0.0000e+00 - total_loss: 0.8681 - val_root_mean_squared_error: 0.9527 - val_factorized_top_k/top_1_categorical_accuracy: 0.0013 - val_factorized_top_k/top_5_categorical_accuracy: 0.0054 - val_factorized_top_k/top_10_categorical_accuracy: 0.0087 - val_factorized_top_k/top_50_categorical_accuracy: 0.0279 - val_factorized_top_k/top_100_categorical_accuracy: 0.0468 - val_loss: 0.9002 - val_regularization_loss: 0.0000e+00 - val_total_loss: 0.9002\n",
            "Epoch 7/10\n",
            "10/10 [==============================] - 49s 5s/step - root_mean_squared_error: 0.9241 - factorized_top_k/top_1_categorical_accuracy: 0.0014 - factorized_top_k/top_5_categorical_accuracy: 0.0074 - factorized_top_k/top_10_categorical_accuracy: 0.0119 - factorized_top_k/top_50_categorical_accuracy: 0.0345 - factorized_top_k/top_100_categorical_accuracy: 0.0570 - loss: 0.8565 - regularization_loss: 0.0000e+00 - total_loss: 0.8565 - val_root_mean_squared_error: 0.9482 - val_factorized_top_k/top_1_categorical_accuracy: 0.0014 - val_factorized_top_k/top_5_categorical_accuracy: 0.0055 - val_factorized_top_k/top_10_categorical_accuracy: 0.0088 - val_factorized_top_k/top_50_categorical_accuracy: 0.0286 - val_factorized_top_k/top_100_categorical_accuracy: 0.0471 - val_loss: 0.8915 - val_regularization_loss: 0.0000e+00 - val_total_loss: 0.8915\n",
            "Epoch 8/10\n",
            "10/10 [==============================] - 36s 4s/step - root_mean_squared_error: 0.9207 - factorized_top_k/top_1_categorical_accuracy: 0.0013 - factorized_top_k/top_5_categorical_accuracy: 0.0072 - factorized_top_k/top_10_categorical_accuracy: 0.0117 - factorized_top_k/top_50_categorical_accuracy: 0.0347 - factorized_top_k/top_100_categorical_accuracy: 0.0577 - loss: 0.8503 - regularization_loss: 0.0000e+00 - total_loss: 0.8503 - val_root_mean_squared_error: 0.9453 - val_factorized_top_k/top_1_categorical_accuracy: 0.0014 - val_factorized_top_k/top_5_categorical_accuracy: 0.0058 - val_factorized_top_k/top_10_categorical_accuracy: 0.0083 - val_factorized_top_k/top_50_categorical_accuracy: 0.0288 - val_factorized_top_k/top_100_categorical_accuracy: 0.0474 - val_loss: 0.8861 - val_regularization_loss: 0.0000e+00 - val_total_loss: 0.8861\n",
            "Epoch 9/10\n",
            "10/10 [==============================] - 49s 5s/step - root_mean_squared_error: 0.9185 - factorized_top_k/top_1_categorical_accuracy: 0.0012 - factorized_top_k/top_5_categorical_accuracy: 0.0069 - factorized_top_k/top_10_categorical_accuracy: 0.0115 - factorized_top_k/top_50_categorical_accuracy: 0.0343 - factorized_top_k/top_100_categorical_accuracy: 0.0573 - loss: 0.8463 - regularization_loss: 0.0000e+00 - total_loss: 0.8463 - val_root_mean_squared_error: 0.9432 - val_factorized_top_k/top_1_categorical_accuracy: 0.0012 - val_factorized_top_k/top_5_categorical_accuracy: 0.0055 - val_factorized_top_k/top_10_categorical_accuracy: 0.0086 - val_factorized_top_k/top_50_categorical_accuracy: 0.0292 - val_factorized_top_k/top_100_categorical_accuracy: 0.0472 - val_loss: 0.8825 - val_regularization_loss: 0.0000e+00 - val_total_loss: 0.8825\n",
            "Epoch 10/10\n",
            "10/10 [==============================] - 46s 5s/step - root_mean_squared_error: 0.9170 - factorized_top_k/top_1_categorical_accuracy: 0.0013 - factorized_top_k/top_5_categorical_accuracy: 0.0066 - factorized_top_k/top_10_categorical_accuracy: 0.0113 - factorized_top_k/top_50_categorical_accuracy: 0.0340 - factorized_top_k/top_100_categorical_accuracy: 0.0567 - loss: 0.8434 - regularization_loss: 0.0000e+00 - total_loss: 0.8434 - val_root_mean_squared_error: 0.9415 - val_factorized_top_k/top_1_categorical_accuracy: 0.0013 - val_factorized_top_k/top_5_categorical_accuracy: 0.0058 - val_factorized_top_k/top_10_categorical_accuracy: 0.0086 - val_factorized_top_k/top_50_categorical_accuracy: 0.0293 - val_factorized_top_k/top_100_categorical_accuracy: 0.0472 - val_loss: 0.8797 - val_regularization_loss: 0.0000e+00 - val_total_loss: 0.8797\n",
            "5/5 [==============================] - 6s 1s/step - root_mean_squared_error: 0.9415 - factorized_top_k/top_1_categorical_accuracy: 0.0013 - factorized_top_k/top_5_categorical_accuracy: 0.0058 - factorized_top_k/top_10_categorical_accuracy: 0.0086 - factorized_top_k/top_50_categorical_accuracy: 0.0293 - factorized_top_k/top_100_categorical_accuracy: 0.0472 - loss: 0.8852 - regularization_loss: 0.0000e+00 - total_loss: 0.8852\n",
            "Retrieval top-100 accuracy: 0.047.\n",
            "Ranking RMSE: 0.941.\n"
          ]
        }
      ],
      "source": [
        "# Rating-focused model\n",
        "rating_model = MovielensModel(user_model, movie_model, rating_weight=1.0, retrieval_weight=0.0)\n",
        "rating_model.compile(optimizer=tf.keras.optimizers.Adagrad(0.1))\n",
        "rating_model.fit(\n",
        "    cached_train,\n",
        "    epochs=10,\n",
        "    validation_data=cached_test,\n",
        "    callbacks=[checkpoint_callback, early_stopping_callback]\n",
        ")\n",
        "rating_metrics = rating_model.evaluate(cached_test, return_dict=True)\n",
        "print(f\"Retrieval top-100 accuracy: {rating_metrics['factorized_top_k/top_100_categorical_accuracy']:.3f}.\")\n",
        "print(f\"Ranking RMSE: {rating_metrics['root_mean_squared_error']:.3f}.\")"
      ]
    },
    {
      "cell_type": "code",
      "execution_count": 117,
      "metadata": {
        "colab": {
          "base_uri": "https://localhost:8080/",
          "height": 1000
        },
        "id": "uyaqnwKefeny",
        "outputId": "43734218-a0c2-49c8-9d99-ac4d1d1f1476"
      },
      "outputs": [
        {
          "name": "stdout",
          "output_type": "stream",
          "text": [
            "Epoch 1/10\n",
            "10/10 [==============================] - 46s 5s/step - root_mean_squared_error: 4.0551 - factorized_top_k/top_1_categorical_accuracy: 0.0030 - factorized_top_k/top_5_categorical_accuracy: 0.0303 - factorized_top_k/top_10_categorical_accuracy: 0.0673 - factorized_top_k/top_50_categorical_accuracy: 0.2809 - factorized_top_k/top_100_categorical_accuracy: 0.3520 - loss: 70241.6733 - regularization_loss: 0.0000e+00 - total_loss: 70241.6733 - val_root_mean_squared_error: 4.0268 - val_factorized_top_k/top_1_categorical_accuracy: 0.0049 - val_factorized_top_k/top_5_categorical_accuracy: 0.0356 - val_factorized_top_k/top_10_categorical_accuracy: 0.0786 - val_factorized_top_k/top_50_categorical_accuracy: 0.3650 - val_factorized_top_k/top_100_categorical_accuracy: 0.4918 - val_loss: 29471.7871 - val_regularization_loss: 0.0000e+00 - val_total_loss: 29471.7871\n",
            "Epoch 2/10\n",
            "10/10 [==============================] - 57s 6s/step - root_mean_squared_error: 4.0462 - factorized_top_k/top_1_categorical_accuracy: 0.0104 - factorized_top_k/top_5_categorical_accuracy: 0.0776 - factorized_top_k/top_10_categorical_accuracy: 0.1495 - factorized_top_k/top_50_categorical_accuracy: 0.5215 - factorized_top_k/top_100_categorical_accuracy: 0.6689 - loss: 69091.2486 - regularization_loss: 0.0000e+00 - total_loss: 69091.2486 - val_root_mean_squared_error: 4.0159 - val_factorized_top_k/top_1_categorical_accuracy: 0.0037 - val_factorized_top_k/top_5_categorical_accuracy: 0.0344 - val_factorized_top_k/top_10_categorical_accuracy: 0.0786 - val_factorized_top_k/top_50_categorical_accuracy: 0.3929 - val_factorized_top_k/top_100_categorical_accuracy: 0.5559 - val_loss: 29398.6074 - val_regularization_loss: 0.0000e+00 - val_total_loss: 29398.6074\n",
            "Epoch 3/10\n",
            "10/10 [==============================] - 62s 6s/step - root_mean_squared_error: 4.0342 - factorized_top_k/top_1_categorical_accuracy: 0.0165 - factorized_top_k/top_5_categorical_accuracy: 0.1231 - factorized_top_k/top_10_categorical_accuracy: 0.2237 - factorized_top_k/top_50_categorical_accuracy: 0.6172 - factorized_top_k/top_100_categorical_accuracy: 0.7652 - loss: 67634.2990 - regularization_loss: 0.0000e+00 - total_loss: 67634.2990 - val_root_mean_squared_error: 4.0081 - val_factorized_top_k/top_1_categorical_accuracy: 0.0016 - val_factorized_top_k/top_5_categorical_accuracy: 0.0280 - val_factorized_top_k/top_10_categorical_accuracy: 0.0720 - val_factorized_top_k/top_50_categorical_accuracy: 0.3939 - val_factorized_top_k/top_100_categorical_accuracy: 0.5624 - val_loss: 29562.0039 - val_regularization_loss: 0.0000e+00 - val_total_loss: 29562.0039\n",
            "Epoch 4/10\n",
            "10/10 [==============================] - 57s 6s/step - root_mean_squared_error: 4.0270 - factorized_top_k/top_1_categorical_accuracy: 0.0216 - factorized_top_k/top_5_categorical_accuracy: 0.1588 - factorized_top_k/top_10_categorical_accuracy: 0.2758 - factorized_top_k/top_50_categorical_accuracy: 0.6781 - factorized_top_k/top_100_categorical_accuracy: 0.8183 - loss: 66350.9339 - regularization_loss: 0.0000e+00 - total_loss: 66350.9339 - val_root_mean_squared_error: 4.0032 - val_factorized_top_k/top_1_categorical_accuracy: 0.0011 - val_factorized_top_k/top_5_categorical_accuracy: 0.0215 - val_factorized_top_k/top_10_categorical_accuracy: 0.0637 - val_factorized_top_k/top_50_categorical_accuracy: 0.3859 - val_factorized_top_k/top_100_categorical_accuracy: 0.5538 - val_loss: 29874.6094 - val_regularization_loss: 0.0000e+00 - val_total_loss: 29874.6094\n",
            "Epoch 5/10\n",
            "10/10 [==============================] - 50s 5s/step - root_mean_squared_error: 4.0219 - factorized_top_k/top_1_categorical_accuracy: 0.0254 - factorized_top_k/top_5_categorical_accuracy: 0.1848 - factorized_top_k/top_10_categorical_accuracy: 0.3120 - factorized_top_k/top_50_categorical_accuracy: 0.7217 - factorized_top_k/top_100_categorical_accuracy: 0.8508 - loss: 65304.6847 - regularization_loss: 0.0000e+00 - total_loss: 65304.6847 - val_root_mean_squared_error: 3.9997 - val_factorized_top_k/top_1_categorical_accuracy: 9.0000e-04 - val_factorized_top_k/top_5_categorical_accuracy: 0.0181 - val_factorized_top_k/top_10_categorical_accuracy: 0.0569 - val_factorized_top_k/top_50_categorical_accuracy: 0.3747 - val_factorized_top_k/top_100_categorical_accuracy: 0.5449 - val_loss: 30248.0508 - val_regularization_loss: 0.0000e+00 - val_total_loss: 30248.0508\n",
            "5/5 [==============================] - 8s 2s/step - root_mean_squared_error: 4.0159 - factorized_top_k/top_1_categorical_accuracy: 0.0037 - factorized_top_k/top_5_categorical_accuracy: 0.0344 - factorized_top_k/top_10_categorical_accuracy: 0.0786 - factorized_top_k/top_50_categorical_accuracy: 0.3929 - factorized_top_k/top_100_categorical_accuracy: 0.5559 - loss: 32303.8607 - regularization_loss: 0.0000e+00 - total_loss: 32303.8607\n",
            "Retrieval top-100 accuracy: 0.556.\n",
            "Ranking RMSE: 4.016.\n"
          ]
        }
      ],
      "source": [
        "# Retrieval-focused model\n",
        "retrieval_model = MovielensModel(user_model, movie_model, rating_weight=0.0, retrieval_weight=1.0)\n",
        "retrieval_model.compile(optimizer=tf.keras.optimizers.Adagrad(0.1))\n",
        "retrieval_model.fit(\n",
        "    cached_train,\n",
        "    epochs=10,\n",
        "    validation_data=cached_test,\n",
        "    callbacks=[checkpoint_callback, early_stopping_callback]\n",
        ")\n",
        "retrieval_metrics = retrieval_model.evaluate(cached_test, return_dict=True)\n",
        "print(f\"Retrieval top-100 accuracy: {retrieval_metrics['factorized_top_k/top_100_categorical_accuracy']:.3f}.\")\n",
        "print(f\"Ranking RMSE: {retrieval_metrics['root_mean_squared_error']:.3f}.\")\n"
      ]
    },
    {
      "cell_type": "code",
      "execution_count": 149,
      "metadata": {
        "id": "3BiSfD0nfhaW"
      },
      "outputs": [
        {
          "name": "stdout",
          "output_type": "stream",
          "text": [
            "Epoch 1/10\n",
            "10/10 [==============================] - 46s 4s/step - root_mean_squared_error: 3.8120 - factorized_top_k/top_1_categorical_accuracy: 0.0183 - factorized_top_k/top_5_categorical_accuracy: 0.1573 - factorized_top_k/top_10_categorical_accuracy: 0.2806 - factorized_top_k/top_50_categorical_accuracy: 0.7030 - factorized_top_k/top_100_categorical_accuracy: 0.8380 - loss: 65971.2926 - regularization_loss: 0.0000e+00 - total_loss: 65971.2926 - val_root_mean_squared_error: 1.3101 - val_factorized_top_k/top_1_categorical_accuracy: 0.0010 - val_factorized_top_k/top_5_categorical_accuracy: 0.0144 - val_factorized_top_k/top_10_categorical_accuracy: 0.0501 - val_factorized_top_k/top_50_categorical_accuracy: 0.3556 - val_factorized_top_k/top_100_categorical_accuracy: 0.5261 - val_loss: 30644.0430 - val_regularization_loss: 0.0000e+00 - val_total_loss: 30644.0430\n",
            "Epoch 2/10\n",
            "10/10 [==============================] - 57s 6s/step - root_mean_squared_error: 1.1885 - factorized_top_k/top_1_categorical_accuracy: 0.0254 - factorized_top_k/top_5_categorical_accuracy: 0.2012 - factorized_top_k/top_10_categorical_accuracy: 0.3406 - factorized_top_k/top_50_categorical_accuracy: 0.7638 - factorized_top_k/top_100_categorical_accuracy: 0.8838 - loss: 64177.6768 - regularization_loss: 0.0000e+00 - total_loss: 64177.6768 - val_root_mean_squared_error: 1.0667 - val_factorized_top_k/top_1_categorical_accuracy: 0.0014 - val_factorized_top_k/top_5_categorical_accuracy: 0.0134 - val_factorized_top_k/top_10_categorical_accuracy: 0.0457 - val_factorized_top_k/top_50_categorical_accuracy: 0.3511 - val_factorized_top_k/top_100_categorical_accuracy: 0.5225 - val_loss: 31183.0156 - val_regularization_loss: 0.0000e+00 - val_total_loss: 31183.0156\n",
            "Epoch 3/10\n",
            "10/10 [==============================] - 55s 6s/step - root_mean_squared_error: 0.9618 - factorized_top_k/top_1_categorical_accuracy: 0.0266 - factorized_top_k/top_5_categorical_accuracy: 0.2130 - factorized_top_k/top_10_categorical_accuracy: 0.3608 - factorized_top_k/top_50_categorical_accuracy: 0.7826 - factorized_top_k/top_100_categorical_accuracy: 0.8987 - loss: 63468.2127 - regularization_loss: 0.0000e+00 - total_loss: 63468.2127 - val_root_mean_squared_error: 1.0243 - val_factorized_top_k/top_1_categorical_accuracy: 0.0012 - val_factorized_top_k/top_5_categorical_accuracy: 0.0125 - val_factorized_top_k/top_10_categorical_accuracy: 0.0438 - val_factorized_top_k/top_50_categorical_accuracy: 0.3478 - val_factorized_top_k/top_100_categorical_accuracy: 0.5187 - val_loss: 31601.6113 - val_regularization_loss: 0.0000e+00 - val_total_loss: 31601.6113\n",
            "Epoch 4/10\n",
            "10/10 [==============================] - 65s 7s/step - root_mean_squared_error: 0.9291 - factorized_top_k/top_1_categorical_accuracy: 0.0280 - factorized_top_k/top_5_categorical_accuracy: 0.2183 - factorized_top_k/top_10_categorical_accuracy: 0.3724 - factorized_top_k/top_50_categorical_accuracy: 0.7944 - factorized_top_k/top_100_categorical_accuracy: 0.9072 - loss: 63012.3814 - regularization_loss: 0.0000e+00 - total_loss: 63012.3814 - val_root_mean_squared_error: 1.0186 - val_factorized_top_k/top_1_categorical_accuracy: 9.5000e-04 - val_factorized_top_k/top_5_categorical_accuracy: 0.0118 - val_factorized_top_k/top_10_categorical_accuracy: 0.0422 - val_factorized_top_k/top_50_categorical_accuracy: 0.3443 - val_factorized_top_k/top_100_categorical_accuracy: 0.5167 - val_loss: 31943.0781 - val_regularization_loss: 0.0000e+00 - val_total_loss: 31943.0781\n",
            "5/5 [==============================] - 10s 2s/step - root_mean_squared_error: 1.3101 - factorized_top_k/top_1_categorical_accuracy: 0.0010 - factorized_top_k/top_5_categorical_accuracy: 0.0144 - factorized_top_k/top_10_categorical_accuracy: 0.0501 - factorized_top_k/top_50_categorical_accuracy: 0.3556 - factorized_top_k/top_100_categorical_accuracy: 0.5261 - loss: 33724.7344 - regularization_loss: 0.0000e+00 - total_loss: 33724.7344\n",
            "Retrieval top-100 accuracy: 0.526.\n",
            "Ranking RMSE: 1.310.\n"
          ]
        }
      ],
      "source": [
        "# Balanced model\n",
        "balanced_model = MovielensModel(user_model, movie_model, rating_weight=1.0, retrieval_weight=1.0)\n",
        "balanced_model.compile(optimizer=tf.keras.optimizers.Adagrad(0.1))\n",
        "balanced_model.fit(\n",
        "    cached_train,\n",
        "    epochs=10,\n",
        "    validation_data=cached_test,\n",
        "    callbacks=[checkpoint_callback, early_stopping_callback]\n",
        ")\n",
        "balanced_metrics = balanced_model.evaluate(cached_test, return_dict=True)\n",
        "print(f\"Retrieval top-100 accuracy: {balanced_metrics['factorized_top_k/top_100_categorical_accuracy']:.3f}.\")\n",
        "print(f\"Ranking RMSE: {balanced_metrics['root_mean_squared_error']:.3f}.\")\n"
      ]
    },
    {
      "cell_type": "code",
      "execution_count": 145,
      "metadata": {},
      "outputs": [],
      "source": [
        "# Add a new user's ratings\n",
        "add_new_user_ratings(\n",
        "    user_id=\"new_user_3\",\n",
        "    watched_movies=[\n",
        "        unique_movie_titles[12],\n",
        "        unique_movie_titles[23],\n",
        "       unique_movie_titles[99]\n",
        "    ],\n",
        "    user_ratings=[4.0, 3.5, 5.0]\n",
        ")\n"
      ]
    },
    {
      "cell_type": "code",
      "execution_count": 154,
      "metadata": {},
      "outputs": [],
      "source": [
        "def get_unique_movie_title(movie_title):\n",
        "    for index, unique_title in enumerate(unique_movie_titles):\n",
        "        # Convert unique_title to string and remove the 'b' prefix and single quotes\n",
        "        unique_title_str = str(unique_title)[2:-1]\n",
        "        if movie_title == unique_title_str:\n",
        "            return index\n",
        "    return None\n"
      ]
    },
    {
      "cell_type": "code",
      "execution_count": 155,
      "metadata": {},
      "outputs": [
        {
          "name": "stdout",
          "output_type": "stream",
          "text": [
            "The corresponding unique title index for '8 Seconds' is 20.\n"
          ]
        }
      ],
      "source": [
        "movie_title = '8 Seconds'\n",
        "unique_title_index = get_unique_movie_title(movie_title)\n",
        "if unique_title_index is not None:\n",
        "    print(f\"The corresponding unique title index for '{movie_title}' is {unique_title_index}.\")\n",
        "else:\n",
        "    print(f\"No matching unique title found for '{movie_title}'.\")\n"
      ]
    },
    {
      "cell_type": "code",
      "execution_count": 148,
      "metadata": {
        "id": "ri8GS9KVfnS9"
      },
      "outputs": [
        {
          "name": "stdout",
          "output_type": "stream",
          "text": [
            "Top 5 movie recommendations for user 43: [b'Shall We Dance?', b'Raining Stones', b'Toys', b'A Century of Cinema', b'American Buffalo']\n"
          ]
        }
      ],
      "source": [
        "# Replace \"42\" and \"Dances with Wolves (1990)\" with valid user_id and movie_title from your data\n",
        "user_id = \"new_user_3\"  # Replace with a valid user_id\n",
        "recommendations = balanced_model.recommend(user_id, k=5)\n",
        "print(f\"Top 5 movie recommendations for user {user_id}: {recommendations}\")\n"
      ]
    }
  ],
  "metadata": {
    "colab": {
      "provenance": []
    },
    "kernelspec": {
      "display_name": "Python 3",
      "name": "python3"
    },
    "language_info": {
      "codemirror_mode": {
        "name": "ipython",
        "version": 3
      },
      "file_extension": ".py",
      "mimetype": "text/x-python",
      "name": "python",
      "nbconvert_exporter": "python",
      "pygments_lexer": "ipython3",
      "version": "3.9.12"
    }
  },
  "nbformat": 4,
  "nbformat_minor": 0
}
