{
  "cells": [
    {
      "cell_type": "code",
      "execution_count": 180,
      "metadata": {
        "colab": {
          "base_uri": "https://localhost:8080/"
        },
        "id": "Zizi8Rl8UYRs",
        "outputId": "9284b661-7617-4d35-d852-3c74828b1d11"
      },
      "outputs": [
        {
          "name": "stdout",
          "output_type": "stream",
          "text": [
            "Requirement already satisfied: tensorflow_recommenders in c:\\users\\jansc\\appdata\\local\\programs\\python\\python39\\lib\\site-packages (0.7.3)\n",
            "Requirement already satisfied: tensorflow>=2.9.0 in c:\\users\\jansc\\appdata\\local\\programs\\python\\python39\\lib\\site-packages (from tensorflow_recommenders) (2.11.1)\n",
            "Requirement already satisfied: absl-py>=0.1.6 in c:\\users\\jansc\\appdata\\local\\programs\\python\\python39\\lib\\site-packages (from tensorflow_recommenders) (1.4.0)\n",
            "Requirement already satisfied: tensorflow-intel==2.11.1 in c:\\users\\jansc\\appdata\\local\\programs\\python\\python39\\lib\\site-packages (from tensorflow>=2.9.0->tensorflow_recommenders) (2.11.1)\n",
            "Requirement already satisfied: tensorboard<2.12,>=2.11 in c:\\users\\jansc\\appdata\\local\\programs\\python\\python39\\lib\\site-packages (from tensorflow-intel==2.11.1->tensorflow>=2.9.0->tensorflow_recommenders) (2.11.2)\n",
            "Requirement already satisfied: wrapt>=1.11.0 in c:\\users\\jansc\\appdata\\local\\programs\\python\\python39\\lib\\site-packages (from tensorflow-intel==2.11.1->tensorflow>=2.9.0->tensorflow_recommenders) (1.15.0)\n",
            "Requirement already satisfied: grpcio<2.0,>=1.24.3 in c:\\users\\jansc\\appdata\\local\\programs\\python\\python39\\lib\\site-packages (from tensorflow-intel==2.11.1->tensorflow>=2.9.0->tensorflow_recommenders) (1.51.3)\n",
            "Requirement already satisfied: typing-extensions>=3.6.6 in c:\\users\\jansc\\appdata\\local\\programs\\python\\python39\\lib\\site-packages (from tensorflow-intel==2.11.1->tensorflow>=2.9.0->tensorflow_recommenders) (4.5.0)\n",
            "Requirement already satisfied: gast<=0.4.0,>=0.2.1 in c:\\users\\jansc\\appdata\\local\\programs\\python\\python39\\lib\\site-packages (from tensorflow-intel==2.11.1->tensorflow>=2.9.0->tensorflow_recommenders) (0.4.0)\n",
            "Requirement already satisfied: setuptools in c:\\users\\jansc\\appdata\\local\\programs\\python\\python39\\lib\\site-packages (from tensorflow-intel==2.11.1->tensorflow>=2.9.0->tensorflow_recommenders) (58.1.0)\n",
            "Requirement already satisfied: astunparse>=1.6.0 in c:\\users\\jansc\\appdata\\local\\programs\\python\\python39\\lib\\site-packages (from tensorflow-intel==2.11.1->tensorflow>=2.9.0->tensorflow_recommenders) (1.6.3)\n",
            "Requirement already satisfied: flatbuffers>=2.0 in c:\\users\\jansc\\appdata\\local\\programs\\python\\python39\\lib\\site-packages (from tensorflow-intel==2.11.1->tensorflow>=2.9.0->tensorflow_recommenders) (23.3.3)\n",
            "Requirement already satisfied: termcolor>=1.1.0 in c:\\users\\jansc\\appdata\\local\\programs\\python\\python39\\lib\\site-packages (from tensorflow-intel==2.11.1->tensorflow>=2.9.0->tensorflow_recommenders) (2.2.0)\n",
            "Requirement already satisfied: keras<2.12,>=2.11.0 in c:\\users\\jansc\\appdata\\local\\programs\\python\\python39\\lib\\site-packages (from tensorflow-intel==2.11.1->tensorflow>=2.9.0->tensorflow_recommenders) (2.11.0)\n",
            "Requirement already satisfied: packaging in c:\\users\\jansc\\appdata\\local\\programs\\python\\python39\\lib\\site-packages (from tensorflow-intel==2.11.1->tensorflow>=2.9.0->tensorflow_recommenders) (23.0)\n",
            "Requirement already satisfied: libclang>=13.0.0 in c:\\users\\jansc\\appdata\\local\\programs\\python\\python39\\lib\\site-packages (from tensorflow-intel==2.11.1->tensorflow>=2.9.0->tensorflow_recommenders) (15.0.6.1)\n",
            "Requirement already satisfied: tensorflow-io-gcs-filesystem>=0.23.1 in c:\\users\\jansc\\appdata\\local\\programs\\python\\python39\\lib\\site-packages (from tensorflow-intel==2.11.1->tensorflow>=2.9.0->tensorflow_recommenders) (0.31.0)\n",
            "Requirement already satisfied: h5py>=2.9.0 in c:\\users\\jansc\\appdata\\local\\programs\\python\\python39\\lib\\site-packages (from tensorflow-intel==2.11.1->tensorflow>=2.9.0->tensorflow_recommenders) (3.8.0)\n",
            "Requirement already satisfied: numpy>=1.20 in c:\\users\\jansc\\appdata\\local\\programs\\python\\python39\\lib\\site-packages (from tensorflow-intel==2.11.1->tensorflow>=2.9.0->tensorflow_recommenders) (1.24.2)\n",
            "Requirement already satisfied: google-pasta>=0.1.1 in c:\\users\\jansc\\appdata\\local\\programs\\python\\python39\\lib\\site-packages (from tensorflow-intel==2.11.1->tensorflow>=2.9.0->tensorflow_recommenders) (0.2.0)\n",
            "Requirement already satisfied: protobuf<3.20,>=3.9.2 in c:\\users\\jansc\\appdata\\local\\programs\\python\\python39\\lib\\site-packages (from tensorflow-intel==2.11.1->tensorflow>=2.9.0->tensorflow_recommenders) (3.19.6)\n",
            "Requirement already satisfied: six>=1.12.0 in c:\\users\\jansc\\appdata\\local\\programs\\python\\python39\\lib\\site-packages (from tensorflow-intel==2.11.1->tensorflow>=2.9.0->tensorflow_recommenders) (1.16.0)\n",
            "Requirement already satisfied: tensorflow-estimator<2.12,>=2.11.0 in c:\\users\\jansc\\appdata\\local\\programs\\python\\python39\\lib\\site-packages (from tensorflow-intel==2.11.1->tensorflow>=2.9.0->tensorflow_recommenders) (2.11.0)\n",
            "Requirement already satisfied: opt-einsum>=2.3.2 in c:\\users\\jansc\\appdata\\local\\programs\\python\\python39\\lib\\site-packages (from tensorflow-intel==2.11.1->tensorflow>=2.9.0->tensorflow_recommenders) (3.3.0)\n",
            "Requirement already satisfied: wheel<1.0,>=0.23.0 in c:\\users\\jansc\\appdata\\local\\programs\\python\\python39\\lib\\site-packages (from astunparse>=1.6.0->tensorflow-intel==2.11.1->tensorflow>=2.9.0->tensorflow_recommenders) (0.40.0)\n",
            "Requirement already satisfied: tensorboard-data-server<0.7.0,>=0.6.0 in c:\\users\\jansc\\appdata\\local\\programs\\python\\python39\\lib\\site-packages (from tensorboard<2.12,>=2.11->tensorflow-intel==2.11.1->tensorflow>=2.9.0->tensorflow_recommenders) (0.6.1)\n",
            "Requirement already satisfied: requests<3,>=2.21.0 in c:\\users\\jansc\\appdata\\local\\programs\\python\\python39\\lib\\site-packages (from tensorboard<2.12,>=2.11->tensorflow-intel==2.11.1->tensorflow>=2.9.0->tensorflow_recommenders) (2.28.2)\n",
            "Requirement already satisfied: markdown>=2.6.8 in c:\\users\\jansc\\appdata\\local\\programs\\python\\python39\\lib\\site-packages (from tensorboard<2.12,>=2.11->tensorflow-intel==2.11.1->tensorflow>=2.9.0->tensorflow_recommenders) (3.4.1)\n",
            "Requirement already satisfied: werkzeug>=1.0.1 in c:\\users\\jansc\\appdata\\local\\programs\\python\\python39\\lib\\site-packages (from tensorboard<2.12,>=2.11->tensorflow-intel==2.11.1->tensorflow>=2.9.0->tensorflow_recommenders) (2.2.3)\n",
            "Requirement already satisfied: google-auth-oauthlib<0.5,>=0.4.1 in c:\\users\\jansc\\appdata\\local\\programs\\python\\python39\\lib\\site-packages (from tensorboard<2.12,>=2.11->tensorflow-intel==2.11.1->tensorflow>=2.9.0->tensorflow_recommenders) (0.4.6)\n",
            "Requirement already satisfied: tensorboard-plugin-wit>=1.6.0 in c:\\users\\jansc\\appdata\\local\\programs\\python\\python39\\lib\\site-packages (from tensorboard<2.12,>=2.11->tensorflow-intel==2.11.1->tensorflow>=2.9.0->tensorflow_recommenders) (1.8.1)\n",
            "Requirement already satisfied: google-auth<3,>=1.6.3 in c:\\users\\jansc\\appdata\\local\\programs\\python\\python39\\lib\\site-packages (from tensorboard<2.12,>=2.11->tensorflow-intel==2.11.1->tensorflow>=2.9.0->tensorflow_recommenders) (2.16.2)\n",
            "Requirement already satisfied: cachetools<6.0,>=2.0.0 in c:\\users\\jansc\\appdata\\local\\programs\\python\\python39\\lib\\site-packages (from google-auth<3,>=1.6.3->tensorboard<2.12,>=2.11->tensorflow-intel==2.11.1->tensorflow>=2.9.0->tensorflow_recommenders) (5.3.0)\n",
            "Requirement already satisfied: pyasn1-modules>=0.2.1 in c:\\users\\jansc\\appdata\\local\\programs\\python\\python39\\lib\\site-packages (from google-auth<3,>=1.6.3->tensorboard<2.12,>=2.11->tensorflow-intel==2.11.1->tensorflow>=2.9.0->tensorflow_recommenders) (0.2.8)\n",
            "Requirement already satisfied: rsa<5,>=3.1.4 in c:\\users\\jansc\\appdata\\local\\programs\\python\\python39\\lib\\site-packages (from google-auth<3,>=1.6.3->tensorboard<2.12,>=2.11->tensorflow-intel==2.11.1->tensorflow>=2.9.0->tensorflow_recommenders) (4.9)\n",
            "Requirement already satisfied: requests-oauthlib>=0.7.0 in c:\\users\\jansc\\appdata\\local\\programs\\python\\python39\\lib\\site-packages (from google-auth-oauthlib<0.5,>=0.4.1->tensorboard<2.12,>=2.11->tensorflow-intel==2.11.1->tensorflow>=2.9.0->tensorflow_recommenders) (1.3.1)\n",
            "Requirement already satisfied: importlib-metadata>=4.4 in c:\\users\\jansc\\appdata\\local\\programs\\python\\python39\\lib\\site-packages (from markdown>=2.6.8->tensorboard<2.12,>=2.11->tensorflow-intel==2.11.1->tensorflow>=2.9.0->tensorflow_recommenders) (6.0.0)\n",
            "Requirement already satisfied: urllib3<1.27,>=1.21.1 in c:\\users\\jansc\\appdata\\local\\programs\\python\\python39\\lib\\site-packages (from requests<3,>=2.21.0->tensorboard<2.12,>=2.11->tensorflow-intel==2.11.1->tensorflow>=2.9.0->tensorflow_recommenders) (1.26.15)\n",
            "Requirement already satisfied: certifi>=2017.4.17 in c:\\users\\jansc\\appdata\\local\\programs\\python\\python39\\lib\\site-packages (from requests<3,>=2.21.0->tensorboard<2.12,>=2.11->tensorflow-intel==2.11.1->tensorflow>=2.9.0->tensorflow_recommenders) (2022.12.7)\n",
            "Requirement already satisfied: idna<4,>=2.5 in c:\\users\\jansc\\appdata\\local\\programs\\python\\python39\\lib\\site-packages (from requests<3,>=2.21.0->tensorboard<2.12,>=2.11->tensorflow-intel==2.11.1->tensorflow>=2.9.0->tensorflow_recommenders) (3.4)\n",
            "Requirement already satisfied: charset-normalizer<4,>=2 in c:\\users\\jansc\\appdata\\local\\programs\\python\\python39\\lib\\site-packages (from requests<3,>=2.21.0->tensorboard<2.12,>=2.11->tensorflow-intel==2.11.1->tensorflow>=2.9.0->tensorflow_recommenders) (3.1.0)\n",
            "Requirement already satisfied: MarkupSafe>=2.1.1 in c:\\users\\jansc\\appdata\\local\\programs\\python\\python39\\lib\\site-packages (from werkzeug>=1.0.1->tensorboard<2.12,>=2.11->tensorflow-intel==2.11.1->tensorflow>=2.9.0->tensorflow_recommenders) (2.1.2)\n",
            "Requirement already satisfied: zipp>=0.5 in c:\\users\\jansc\\appdata\\local\\programs\\python\\python39\\lib\\site-packages (from importlib-metadata>=4.4->markdown>=2.6.8->tensorboard<2.12,>=2.11->tensorflow-intel==2.11.1->tensorflow>=2.9.0->tensorflow_recommenders) (3.15.0)\n",
            "Requirement already satisfied: pyasn1<0.5.0,>=0.4.6 in c:\\users\\jansc\\appdata\\local\\programs\\python\\python39\\lib\\site-packages (from pyasn1-modules>=0.2.1->google-auth<3,>=1.6.3->tensorboard<2.12,>=2.11->tensorflow-intel==2.11.1->tensorflow>=2.9.0->tensorflow_recommenders) (0.4.8)\n",
            "Requirement already satisfied: oauthlib>=3.0.0 in c:\\users\\jansc\\appdata\\local\\programs\\python\\python39\\lib\\site-packages (from requests-oauthlib>=0.7.0->google-auth-oauthlib<0.5,>=0.4.1->tensorboard<2.12,>=2.11->tensorflow-intel==2.11.1->tensorflow>=2.9.0->tensorflow_recommenders) (3.2.2)\n"
          ]
        },
        {
          "name": "stderr",
          "output_type": "stream",
          "text": [
            "\n",
            "[notice] A new release of pip is available: 23.0.1 -> 23.1.2\n",
            "[notice] To update, run: python.exe -m pip install --upgrade pip\n"
          ]
        }
      ],
      "source": [
        "!pip install tensorflow_recommenders\n",
        "\n",
        "import numpy as np\n",
        "import pandas as pd\n",
        "import tensorflow as tf\n",
        "import tensorflow_recommenders as tfrs\n",
        "from typing import List, Union, Dict, Text"
      ]
    },
    {
      "cell_type": "code",
      "execution_count": 208,
      "metadata": {
        "id": "xaD9Mqy1U7Hi"
      },
      "outputs": [],
      "source": [
        "movies_df = pd.read_csv('data/movies_cleaned.csv')\n",
        "users_df = pd.read_csv('data/users_cleaned.csv')\n",
        "ratings_df = pd.read_csv('data/ratings_cleaned.csv' )"
      ]
    },
    {
      "cell_type": "code",
      "execution_count": 209,
      "metadata": {
        "id": "w2yLukovZaYC"
      },
      "outputs": [],
      "source": [
        "# Merge all data into a single DataFrame\n",
        "merged_df = pd.merge(ratings_df, users_df, on='userId')\n",
        "merged_df = pd.merge(merged_df, movies_df, left_on='movieId', right_on='ml_movieId')\n",
        "\n",
        "merged_df['userId']=merged_df['userId'].astype(str)\n",
        "merged_df['Title']=merged_df['Title'].astype(str)\n",
        "\n",
        "# Convert the merged DataFrame to a TensorFlow Dataset\n",
        "ratings = tf.data.Dataset.from_tensor_slices(dict(merged_df))"
      ]
    },
    {
      "cell_type": "code",
      "execution_count": 210,
      "metadata": {
        "id": "oD-BdFRDZqIM"
      },
      "outputs": [],
      "source": [
        "# Select the basic features.\n",
        "ratings = ratings.map(lambda x: {\n",
        "    \"movie_title\": x[\"Title\"],\n",
        "    \"user_id\": x[\"userId\"],\n",
        "    \"user_rating\": x[\"rating\"],\n",
        "})\n",
        "movies = tf.data.Dataset.from_tensor_slices(movies_df[\"Title\"].unique())"
      ]
    },
    {
      "cell_type": "code",
      "execution_count": 211,
      "metadata": {
        "id": "D74utrzwZtg8"
      },
      "outputs": [],
      "source": [
        "# Randomly shuffle data and split between train and test.\n",
        "tf.random.set_seed(42)\n",
        "shuffled = ratings.shuffle(100_000, seed=42, reshuffle_each_iteration=False)\n",
        "\n",
        "train = shuffled.take(80_000)\n",
        "test = shuffled.skip(80_000).take(20_000)\n",
        "\n",
        "movie_titles = movies.batch(1_000)\n",
        "user_ids = ratings.batch(1_000_000).map(lambda x: x[\"user_id\"])\n",
        "\n",
        "unique_movie_titles = np.unique(np.concatenate(list(movie_titles)))\n",
        "unique_user_ids = np.unique(np.concatenate(list(user_ids)))\n",
        "\n",
        "embedding_dimension = 32\n",
        "\n",
        "user_model = tf.keras.Sequential([\n",
        "  tf.keras.layers.StringLookup(\n",
        "      vocabulary=unique_user_ids, mask_token=None),\n",
        "  tf.keras.layers.Embedding(len(unique_user_ids) + 1, embedding_dimension)\n",
        "])\n",
        "\n",
        "movie_model = tf.keras.Sequential([\n",
        "  tf.keras.layers.StringLookup(\n",
        "      vocabulary=unique_movie_titles, mask_token=None),\n",
        "  tf.keras.layers.Embedding(len(unique_movie_titles) + 1, embedding_dimension)\n",
        "])"
      ]
    },
    {
      "cell_type": "code",
      "execution_count": 212,
      "metadata": {
        "id": "kqXpRqn_ahjl"
      },
      "outputs": [],
      "source": [
        "class MovielensModel(tfrs.models.Model):\n",
        "    def __init__(self, user_model, movie_model, rating_weight: float, retrieval_weight: float):\n",
        "        super().__init__()\n",
        "\n",
        "        self.movie_model = movie_model\n",
        "        self.user_model = user_model\n",
        "\n",
        "        self.rating_model = tf.keras.Sequential([\n",
        "            tf.keras.layers.Dense(256, activation=\"relu\"),\n",
        "            tf.keras.layers.Dense(128, activation=\"relu\"),\n",
        "            tf.keras.layers.Dense(1),\n",
        "        ])\n",
        "\n",
        "        self.rating_task = tfrs.tasks.Ranking(\n",
        "            loss=tf.keras.losses.MeanSquaredError(),\n",
        "            metrics=[tf.keras.metrics.RootMeanSquaredError()],\n",
        "        )\n",
        "        self.retrieval_task = tfrs.tasks.Retrieval(\n",
        "            metrics=tfrs.metrics.FactorizedTopK(\n",
        "                candidates=movies.batch(128).map(self.movie_model)\n",
        "            )\n",
        "        )\n",
        "\n",
        "        self.rating_weight = rating_weight\n",
        "        self.retrieval_weight = retrieval_weight\n",
        "\n",
        "    def call(self, features):\n",
        "        user_embeddings = self.user_model(features[\"user_id\"])\n",
        "        movie_embeddings = self.movie_model(features[\"movie_title\"])\n",
        "\n",
        "        return (\n",
        "            user_embeddings,\n",
        "            movie_embeddings,\n",
        "            self.rating_model(tf.concat([user_embeddings, movie_embeddings], axis=1)),\n",
        "        )\n",
        "\n",
        "    def compute_loss(self, features, training=False):\n",
        "        ratings = features.pop(\"user_rating\")\n",
        "\n",
        "        user_embeddings, movie_embeddings, rating_predictions = self(features)\n",
        "\n",
        "        rating_loss = self.rating_task(\n",
        "            labels=ratings,\n",
        "            predictions=rating_predictions,\n",
        "        )\n",
        "        retrieval_loss = self.retrieval_task(user_embeddings, movie_embeddings)\n",
        "\n",
        "        return (\n",
        "            self.rating_weight * rating_loss + self.retrieval_weight * retrieval_loss\n",
        "        )\n",
        "\n",
        "    def recommend(self, user_id, k):\n",
        "        user_id_tensor = tf.convert_to_tensor([user_id])\n",
        "        user_embedding = self.user_model(user_id_tensor)\n",
        "        movie_embeddings = self.movie_model(user_id_tensor)\n",
        "        scores = tf.linalg.matmul(user_embedding, movie_embeddings, transpose_b=True)\n",
        "        scores = tf.reshape(scores, (1, -1))  # Reshape scores tensor\n",
        "        top_k_movie_indices = tf.nn.top_k(scores, k=k).indices.numpy()[0]  # Update this line\n",
        "        return [unique_movie_titles[i] for i in top_k_movie_indices]\n",
        "\n"
      ]
    },
    {
      "cell_type": "code",
      "execution_count": 213,
      "metadata": {},
      "outputs": [],
      "source": [
        "def add_new_user_ratings(user_id: str, watched_movies: List[str], user_ratings: List[Union[int, float]]):\n",
        "    # Declare global variables at the beginning of the function\n",
        "    global ratings\n",
        "    global unique_user_ids\n",
        "\n",
        "    # Ensure the user is new\n",
        "    assert user_id not in unique_user_ids, \"The new user id already exists in the data.\"\n",
        "\n",
        "    # Ensure the movies exist in the dataset\n",
        "    for movie in watched_movies:\n",
        "        assert movie in unique_movie_titles, f\"The movie {movie} does not exist in the data.\"\n",
        "\n",
        "    # Convert user_ratings to integers\n",
        "    user_ratings = [int(rating) for rating in user_ratings]\n",
        "\n",
        "    # Create new user data\n",
        "    new_user_data = pd.DataFrame({\n",
        "        'user_id': [user_id] * len(watched_movies),\n",
        "        'movie_title': watched_movies,\n",
        "        'user_rating': user_ratings,\n",
        "    })\n",
        "\n",
        "    # Convert the DataFrame to a TensorFlow Dataset\n",
        "    new_ratings = tf.data.Dataset.from_tensor_slices(dict(new_user_data))\n",
        "\n",
        "    # Update the global 'ratings' variable\n",
        "    ratings = ratings.concatenate(new_ratings)\n",
        "\n",
        "    # Update the global 'unique_user_ids' variable\n",
        "    unique_user_ids = np.concatenate([unique_user_ids, np.array([user_id])])"
      ]
    },
    {
      "cell_type": "code",
      "execution_count": 214,
      "metadata": {
        "id": "NfBq2QOVeycc"
      },
      "outputs": [],
      "source": [
        "cached_train = train.shuffle(100_000).batch(8192).cache()\n",
        "cached_test = test.batch(4096).cache()"
      ]
    },
    {
      "cell_type": "code",
      "execution_count": 216,
      "metadata": {},
      "outputs": [],
      "source": [
        "# Define model checkpoints and early stopping\n",
        "checkpoint_callback = tf.keras.callbacks.ModelCheckpoint(\n",
        "    filepath=\"model_checkpoint\",\n",
        "    save_weights_only=True,\n",
        "    monitor=\"val_loss\",\n",
        "    mode=\"min\",\n",
        "    save_best_only=True\n",
        ")\n",
        "\n",
        "early_stopping_callback = tf.keras.callbacks.EarlyStopping(\n",
        "    monitor=\"val_loss\",\n",
        "    patience=3,\n",
        "    mode=\"min\",\n",
        "    restore_best_weights=True\n",
        ")"
      ]
    },
    {
      "cell_type": "code",
      "execution_count": 217,
      "metadata": {
        "colab": {
          "base_uri": "https://localhost:8080/",
          "height": 1000
        },
        "id": "KX4FPitBfTG6",
        "outputId": "0eb625be-c19b-47d5-ea8e-5844d1635436"
      },
      "outputs": [
        {
          "name": "stdout",
          "output_type": "stream",
          "text": [
            "Epoch 1/10\n",
            "10/10 [==============================] - 104s 9s/step - root_mean_squared_error: 2.2093 - factorized_top_k/top_1_categorical_accuracy: 1.6250e-04 - factorized_top_k/top_5_categorical_accuracy: 0.0011 - factorized_top_k/top_10_categorical_accuracy: 0.0026 - factorized_top_k/top_50_categorical_accuracy: 0.0149 - factorized_top_k/top_100_categorical_accuracy: 0.0302 - loss: 4.4449 - regularization_loss: 0.0000e+00 - total_loss: 4.4449 - val_root_mean_squared_error: 1.0035 - val_factorized_top_k/top_1_categorical_accuracy: 2.0000e-04 - val_factorized_top_k/top_5_categorical_accuracy: 9.0000e-04 - val_factorized_top_k/top_10_categorical_accuracy: 0.0026 - val_factorized_top_k/top_50_categorical_accuracy: 0.0155 - val_factorized_top_k/top_100_categorical_accuracy: 0.0298 - val_loss: 0.9986 - val_regularization_loss: 0.0000e+00 - val_total_loss: 0.9986\n",
            "Epoch 2/10\n",
            "10/10 [==============================] - 73s 7s/step - root_mean_squared_error: 1.0767 - factorized_top_k/top_1_categorical_accuracy: 3.2500e-04 - factorized_top_k/top_5_categorical_accuracy: 0.0014 - factorized_top_k/top_10_categorical_accuracy: 0.0034 - factorized_top_k/top_50_categorical_accuracy: 0.0171 - factorized_top_k/top_100_categorical_accuracy: 0.0334 - loss: 1.1760 - regularization_loss: 0.0000e+00 - total_loss: 1.1760 - val_root_mean_squared_error: 1.2273 - val_factorized_top_k/top_1_categorical_accuracy: 1.5000e-04 - val_factorized_top_k/top_5_categorical_accuracy: 0.0014 - val_factorized_top_k/top_10_categorical_accuracy: 0.0035 - val_factorized_top_k/top_50_categorical_accuracy: 0.0172 - val_factorized_top_k/top_100_categorical_accuracy: 0.0320 - val_loss: 1.4790 - val_regularization_loss: 0.0000e+00 - val_total_loss: 1.4790\n",
            "Epoch 3/10\n",
            "10/10 [==============================] - 76s 8s/step - root_mean_squared_error: 1.0703 - factorized_top_k/top_1_categorical_accuracy: 5.5000e-04 - factorized_top_k/top_5_categorical_accuracy: 0.0027 - factorized_top_k/top_10_categorical_accuracy: 0.0052 - factorized_top_k/top_50_categorical_accuracy: 0.0214 - factorized_top_k/top_100_categorical_accuracy: 0.0393 - loss: 1.1300 - regularization_loss: 0.0000e+00 - total_loss: 1.1300 - val_root_mean_squared_error: 1.0127 - val_factorized_top_k/top_1_categorical_accuracy: 5.5000e-04 - val_factorized_top_k/top_5_categorical_accuracy: 0.0026 - val_factorized_top_k/top_10_categorical_accuracy: 0.0050 - val_factorized_top_k/top_50_categorical_accuracy: 0.0203 - val_factorized_top_k/top_100_categorical_accuracy: 0.0367 - val_loss: 1.0132 - val_regularization_loss: 0.0000e+00 - val_total_loss: 1.0132\n",
            "Epoch 4/10\n",
            "10/10 [==============================] - 71s 7s/step - root_mean_squared_error: 0.9689 - factorized_top_k/top_1_categorical_accuracy: 0.0010 - factorized_top_k/top_5_categorical_accuracy: 0.0043 - factorized_top_k/top_10_categorical_accuracy: 0.0077 - factorized_top_k/top_50_categorical_accuracy: 0.0271 - factorized_top_k/top_100_categorical_accuracy: 0.0475 - loss: 0.9379 - regularization_loss: 0.0000e+00 - total_loss: 0.9379 - val_root_mean_squared_error: 0.9781 - val_factorized_top_k/top_1_categorical_accuracy: 5.0000e-04 - val_factorized_top_k/top_5_categorical_accuracy: 0.0034 - val_factorized_top_k/top_10_categorical_accuracy: 0.0065 - val_factorized_top_k/top_50_categorical_accuracy: 0.0237 - val_factorized_top_k/top_100_categorical_accuracy: 0.0419 - val_loss: 0.9468 - val_regularization_loss: 0.0000e+00 - val_total_loss: 0.9468\n",
            "Epoch 5/10\n",
            "10/10 [==============================] - 84s 9s/step - root_mean_squared_error: 0.9450 - factorized_top_k/top_1_categorical_accuracy: 0.0012 - factorized_top_k/top_5_categorical_accuracy: 0.0059 - factorized_top_k/top_10_categorical_accuracy: 0.0099 - factorized_top_k/top_50_categorical_accuracy: 0.0319 - factorized_top_k/top_100_categorical_accuracy: 0.0529 - loss: 0.8945 - regularization_loss: 0.0000e+00 - total_loss: 0.8945 - val_root_mean_squared_error: 0.9680 - val_factorized_top_k/top_1_categorical_accuracy: 8.0000e-04 - val_factorized_top_k/top_5_categorical_accuracy: 0.0041 - val_factorized_top_k/top_10_categorical_accuracy: 0.0074 - val_factorized_top_k/top_50_categorical_accuracy: 0.0259 - val_factorized_top_k/top_100_categorical_accuracy: 0.0462 - val_loss: 0.9271 - val_regularization_loss: 0.0000e+00 - val_total_loss: 0.9271\n",
            "Epoch 6/10\n",
            "10/10 [==============================] - 68s 7s/step - root_mean_squared_error: 0.9369 - factorized_top_k/top_1_categorical_accuracy: 0.0013 - factorized_top_k/top_5_categorical_accuracy: 0.0064 - factorized_top_k/top_10_categorical_accuracy: 0.0110 - factorized_top_k/top_50_categorical_accuracy: 0.0341 - factorized_top_k/top_100_categorical_accuracy: 0.0559 - loss: 0.8800 - regularization_loss: 0.0000e+00 - total_loss: 0.8800 - val_root_mean_squared_error: 0.9635 - val_factorized_top_k/top_1_categorical_accuracy: 6.5000e-04 - val_factorized_top_k/top_5_categorical_accuracy: 0.0046 - val_factorized_top_k/top_10_categorical_accuracy: 0.0077 - val_factorized_top_k/top_50_categorical_accuracy: 0.0273 - val_factorized_top_k/top_100_categorical_accuracy: 0.0477 - val_loss: 0.9182 - val_regularization_loss: 0.0000e+00 - val_total_loss: 0.9182\n",
            "Epoch 7/10\n",
            "10/10 [==============================] - 70s 7s/step - root_mean_squared_error: 0.9330 - factorized_top_k/top_1_categorical_accuracy: 0.0013 - factorized_top_k/top_5_categorical_accuracy: 0.0066 - factorized_top_k/top_10_categorical_accuracy: 0.0109 - factorized_top_k/top_50_categorical_accuracy: 0.0350 - factorized_top_k/top_100_categorical_accuracy: 0.0567 - loss: 0.8726 - regularization_loss: 0.0000e+00 - total_loss: 0.8726 - val_root_mean_squared_error: 0.9595 - val_factorized_top_k/top_1_categorical_accuracy: 8.0000e-04 - val_factorized_top_k/top_5_categorical_accuracy: 0.0049 - val_factorized_top_k/top_10_categorical_accuracy: 0.0080 - val_factorized_top_k/top_50_categorical_accuracy: 0.0279 - val_factorized_top_k/top_100_categorical_accuracy: 0.0485 - val_loss: 0.9105 - val_regularization_loss: 0.0000e+00 - val_total_loss: 0.9105\n",
            "Epoch 8/10\n",
            "10/10 [==============================] - 84s 8s/step - root_mean_squared_error: 0.9293 - factorized_top_k/top_1_categorical_accuracy: 0.0012 - factorized_top_k/top_5_categorical_accuracy: 0.0066 - factorized_top_k/top_10_categorical_accuracy: 0.0109 - factorized_top_k/top_50_categorical_accuracy: 0.0350 - factorized_top_k/top_100_categorical_accuracy: 0.0566 - loss: 0.8657 - regularization_loss: 0.0000e+00 - total_loss: 0.8657 - val_root_mean_squared_error: 0.9552 - val_factorized_top_k/top_1_categorical_accuracy: 7.0000e-04 - val_factorized_top_k/top_5_categorical_accuracy: 0.0049 - val_factorized_top_k/top_10_categorical_accuracy: 0.0082 - val_factorized_top_k/top_50_categorical_accuracy: 0.0283 - val_factorized_top_k/top_100_categorical_accuracy: 0.0494 - val_loss: 0.9026 - val_regularization_loss: 0.0000e+00 - val_total_loss: 0.9026\n",
            "Epoch 9/10\n",
            "10/10 [==============================] - 69s 7s/step - root_mean_squared_error: 0.9257 - factorized_top_k/top_1_categorical_accuracy: 0.0013 - factorized_top_k/top_5_categorical_accuracy: 0.0064 - factorized_top_k/top_10_categorical_accuracy: 0.0108 - factorized_top_k/top_50_categorical_accuracy: 0.0349 - factorized_top_k/top_100_categorical_accuracy: 0.0565 - loss: 0.8590 - regularization_loss: 0.0000e+00 - total_loss: 0.8590 - val_root_mean_squared_error: 0.9513 - val_factorized_top_k/top_1_categorical_accuracy: 9.5000e-04 - val_factorized_top_k/top_5_categorical_accuracy: 0.0049 - val_factorized_top_k/top_10_categorical_accuracy: 0.0082 - val_factorized_top_k/top_50_categorical_accuracy: 0.0284 - val_factorized_top_k/top_100_categorical_accuracy: 0.0494 - val_loss: 0.8955 - val_regularization_loss: 0.0000e+00 - val_total_loss: 0.8955\n",
            "Epoch 10/10\n",
            "10/10 [==============================] - 66s 7s/step - root_mean_squared_error: 0.9225 - factorized_top_k/top_1_categorical_accuracy: 0.0012 - factorized_top_k/top_5_categorical_accuracy: 0.0062 - factorized_top_k/top_10_categorical_accuracy: 0.0108 - factorized_top_k/top_50_categorical_accuracy: 0.0347 - factorized_top_k/top_100_categorical_accuracy: 0.0564 - loss: 0.8531 - regularization_loss: 0.0000e+00 - total_loss: 0.8531 - val_root_mean_squared_error: 0.9481 - val_factorized_top_k/top_1_categorical_accuracy: 5.5000e-04 - val_factorized_top_k/top_5_categorical_accuracy: 0.0049 - val_factorized_top_k/top_10_categorical_accuracy: 0.0084 - val_factorized_top_k/top_50_categorical_accuracy: 0.0284 - val_factorized_top_k/top_100_categorical_accuracy: 0.0496 - val_loss: 0.8898 - val_regularization_loss: 0.0000e+00 - val_total_loss: 0.8898\n",
            "5/5 [==============================] - 11s 2s/step - root_mean_squared_error: 0.9481 - factorized_top_k/top_1_categorical_accuracy: 5.5000e-04 - factorized_top_k/top_5_categorical_accuracy: 0.0049 - factorized_top_k/top_10_categorical_accuracy: 0.0084 - factorized_top_k/top_50_categorical_accuracy: 0.0284 - factorized_top_k/top_100_categorical_accuracy: 0.0496 - loss: 0.8972 - regularization_loss: 0.0000e+00 - total_loss: 0.8972\n",
            "Retrieval top-100 accuracy: 0.050.\n",
            "Ranking RMSE: 0.948.\n"
          ]
        }
      ],
      "source": [
        "# Rating-focused model\n",
        "rating_model = MovielensModel(user_model, movie_model, rating_weight=1.0, retrieval_weight=0.0)\n",
        "rating_model.compile(optimizer=tf.keras.optimizers.Adagrad(0.1))\n",
        "rating_model.fit(\n",
        "    cached_train,\n",
        "    epochs=10,\n",
        "    validation_data=cached_test,\n",
        "    callbacks=[checkpoint_callback, early_stopping_callback]\n",
        ")\n",
        "rating_metrics = rating_model.evaluate(cached_test, return_dict=True)\n",
        "print(f\"Retrieval top-100 accuracy: {rating_metrics['factorized_top_k/top_100_categorical_accuracy']:.3f}.\")\n",
        "print(f\"Ranking RMSE: {rating_metrics['root_mean_squared_error']:.3f}.\")"
      ]
    },
    {
      "cell_type": "code",
      "execution_count": 218,
      "metadata": {
        "colab": {
          "base_uri": "https://localhost:8080/",
          "height": 1000
        },
        "id": "uyaqnwKefeny",
        "outputId": "43734218-a0c2-49c8-9d99-ac4d1d1f1476"
      },
      "outputs": [
        {
          "name": "stdout",
          "output_type": "stream",
          "text": [
            "Epoch 1/10\n",
            "10/10 [==============================] - 87s 9s/step - root_mean_squared_error: 4.0367 - factorized_top_k/top_1_categorical_accuracy: 0.0032 - factorized_top_k/top_5_categorical_accuracy: 0.0305 - factorized_top_k/top_10_categorical_accuracy: 0.0671 - factorized_top_k/top_50_categorical_accuracy: 0.2783 - factorized_top_k/top_100_categorical_accuracy: 0.3479 - loss: 70238.9489 - regularization_loss: 0.0000e+00 - total_loss: 70238.9489 - val_root_mean_squared_error: 3.9962 - val_factorized_top_k/top_1_categorical_accuracy: 0.0046 - val_factorized_top_k/top_5_categorical_accuracy: 0.0363 - val_factorized_top_k/top_10_categorical_accuracy: 0.0747 - val_factorized_top_k/top_50_categorical_accuracy: 0.3609 - val_factorized_top_k/top_100_categorical_accuracy: 0.4970 - val_loss: 29475.1133 - val_regularization_loss: 0.0000e+00 - val_total_loss: 29475.1133\n",
            "Epoch 2/10\n",
            "10/10 [==============================] - 80s 8s/step - root_mean_squared_error: 4.0077 - factorized_top_k/top_1_categorical_accuracy: 0.0101 - factorized_top_k/top_5_categorical_accuracy: 0.0779 - factorized_top_k/top_10_categorical_accuracy: 0.1477 - factorized_top_k/top_50_categorical_accuracy: 0.5152 - factorized_top_k/top_100_categorical_accuracy: 0.6710 - loss: 69093.3331 - regularization_loss: 0.0000e+00 - total_loss: 69093.3331 - val_root_mean_squared_error: 3.9638 - val_factorized_top_k/top_1_categorical_accuracy: 0.0033 - val_factorized_top_k/top_5_categorical_accuracy: 0.0334 - val_factorized_top_k/top_10_categorical_accuracy: 0.0777 - val_factorized_top_k/top_50_categorical_accuracy: 0.3914 - val_factorized_top_k/top_100_categorical_accuracy: 0.5549 - val_loss: 29409.5469 - val_regularization_loss: 0.0000e+00 - val_total_loss: 29409.5469\n",
            "Epoch 3/10\n",
            "10/10 [==============================] - 87s 9s/step - root_mean_squared_error: 3.9783 - factorized_top_k/top_1_categorical_accuracy: 0.0175 - factorized_top_k/top_5_categorical_accuracy: 0.1246 - factorized_top_k/top_10_categorical_accuracy: 0.2199 - factorized_top_k/top_50_categorical_accuracy: 0.6145 - factorized_top_k/top_100_categorical_accuracy: 0.7647 - loss: 67637.6165 - regularization_loss: 0.0000e+00 - total_loss: 67637.6165 - val_root_mean_squared_error: 3.9368 - val_factorized_top_k/top_1_categorical_accuracy: 0.0023 - val_factorized_top_k/top_5_categorical_accuracy: 0.0265 - val_factorized_top_k/top_10_categorical_accuracy: 0.0712 - val_factorized_top_k/top_50_categorical_accuracy: 0.3921 - val_factorized_top_k/top_100_categorical_accuracy: 0.5576 - val_loss: 29569.3652 - val_regularization_loss: 0.0000e+00 - val_total_loss: 29569.3652\n",
            "Epoch 4/10\n",
            "10/10 [==============================] - 70s 7s/step - root_mean_squared_error: 3.9551 - factorized_top_k/top_1_categorical_accuracy: 0.0231 - factorized_top_k/top_5_categorical_accuracy: 0.1610 - factorized_top_k/top_10_categorical_accuracy: 0.2736 - factorized_top_k/top_50_categorical_accuracy: 0.6775 - factorized_top_k/top_100_categorical_accuracy: 0.8185 - loss: 66370.6314 - regularization_loss: 0.0000e+00 - total_loss: 66370.6314 - val_root_mean_squared_error: 3.9160 - val_factorized_top_k/top_1_categorical_accuracy: 0.0014 - val_factorized_top_k/top_5_categorical_accuracy: 0.0214 - val_factorized_top_k/top_10_categorical_accuracy: 0.0639 - val_factorized_top_k/top_50_categorical_accuracy: 0.3851 - val_factorized_top_k/top_100_categorical_accuracy: 0.5498 - val_loss: 29866.0664 - val_regularization_loss: 0.0000e+00 - val_total_loss: 29866.0664\n",
            "Epoch 5/10\n",
            "10/10 [==============================] - 55s 6s/step - root_mean_squared_error: 3.9377 - factorized_top_k/top_1_categorical_accuracy: 0.0257 - factorized_top_k/top_5_categorical_accuracy: 0.1845 - factorized_top_k/top_10_categorical_accuracy: 0.3091 - factorized_top_k/top_50_categorical_accuracy: 0.7191 - factorized_top_k/top_100_categorical_accuracy: 0.8522 - loss: 65334.1271 - regularization_loss: 0.0000e+00 - total_loss: 65334.1271 - val_root_mean_squared_error: 3.8999 - val_factorized_top_k/top_1_categorical_accuracy: 8.0000e-04 - val_factorized_top_k/top_5_categorical_accuracy: 0.0178 - val_factorized_top_k/top_10_categorical_accuracy: 0.0565 - val_factorized_top_k/top_50_categorical_accuracy: 0.3713 - val_factorized_top_k/top_100_categorical_accuracy: 0.5421 - val_loss: 30222.6895 - val_regularization_loss: 0.0000e+00 - val_total_loss: 30222.6895\n",
            "5/5 [==============================] - 9s 2s/step - root_mean_squared_error: 3.9638 - factorized_top_k/top_1_categorical_accuracy: 0.0033 - factorized_top_k/top_5_categorical_accuracy: 0.0334 - factorized_top_k/top_10_categorical_accuracy: 0.0777 - factorized_top_k/top_50_categorical_accuracy: 0.3914 - factorized_top_k/top_100_categorical_accuracy: 0.5549 - loss: 32303.9186 - regularization_loss: 0.0000e+00 - total_loss: 32303.9186\n",
            "Retrieval top-100 accuracy: 0.555.\n",
            "Ranking RMSE: 3.964.\n"
          ]
        }
      ],
      "source": [
        "# Retrieval-focused model\n",
        "retrieval_model = MovielensModel(user_model, movie_model, rating_weight=0.0, retrieval_weight=1.0)\n",
        "retrieval_model.compile(optimizer=tf.keras.optimizers.Adagrad(0.1))\n",
        "retrieval_model.fit(\n",
        "    cached_train,\n",
        "    epochs=10,\n",
        "    validation_data=cached_test,\n",
        "    callbacks=[checkpoint_callback, early_stopping_callback]\n",
        ")\n",
        "retrieval_metrics = retrieval_model.evaluate(cached_test, return_dict=True)\n",
        "print(f\"Retrieval top-100 accuracy: {retrieval_metrics['factorized_top_k/top_100_categorical_accuracy']:.3f}.\")\n",
        "print(f\"Ranking RMSE: {retrieval_metrics['root_mean_squared_error']:.3f}.\")\n"
      ]
    },
    {
      "cell_type": "code",
      "execution_count": 219,
      "metadata": {
        "id": "3BiSfD0nfhaW"
      },
      "outputs": [
        {
          "name": "stdout",
          "output_type": "stream",
          "text": [
            "Epoch 1/10\n",
            "10/10 [==============================] - 67s 7s/step - root_mean_squared_error: 2.6277 - factorized_top_k/top_1_categorical_accuracy: 0.0140 - factorized_top_k/top_5_categorical_accuracy: 0.1057 - factorized_top_k/top_10_categorical_accuracy: 0.1957 - factorized_top_k/top_50_categorical_accuracy: 0.5903 - factorized_top_k/top_100_categorical_accuracy: 0.7460 - loss: 67991.7969 - regularization_loss: 0.0000e+00 - total_loss: 67991.7969 - val_root_mean_squared_error: 1.3710 - val_factorized_top_k/top_1_categorical_accuracy: 0.0016 - val_factorized_top_k/top_5_categorical_accuracy: 0.0244 - val_factorized_top_k/top_10_categorical_accuracy: 0.0698 - val_factorized_top_k/top_50_categorical_accuracy: 0.3868 - val_factorized_top_k/top_100_categorical_accuracy: 0.5510 - val_loss: 29628.0820 - val_regularization_loss: 0.0000e+00 - val_total_loss: 29628.0820\n",
            "Epoch 2/10\n",
            "10/10 [==============================] - 66s 7s/step - root_mean_squared_error: 1.0632 - factorized_top_k/top_1_categorical_accuracy: 0.0235 - factorized_top_k/top_5_categorical_accuracy: 0.1629 - factorized_top_k/top_10_categorical_accuracy: 0.2801 - factorized_top_k/top_50_categorical_accuracy: 0.6905 - factorized_top_k/top_100_categorical_accuracy: 0.8292 - loss: 66111.0675 - regularization_loss: 0.0000e+00 - total_loss: 66111.0675 - val_root_mean_squared_error: 1.1559 - val_factorized_top_k/top_1_categorical_accuracy: 7.5000e-04 - val_factorized_top_k/top_5_categorical_accuracy: 0.0192 - val_factorized_top_k/top_10_categorical_accuracy: 0.0589 - val_factorized_top_k/top_50_categorical_accuracy: 0.3747 - val_factorized_top_k/top_100_categorical_accuracy: 0.5426 - val_loss: 30046.5703 - val_regularization_loss: 0.0000e+00 - val_total_loss: 30046.5703\n",
            "Epoch 3/10\n",
            "10/10 [==============================] - 59s 6s/step - root_mean_squared_error: 0.9858 - factorized_top_k/top_1_categorical_accuracy: 0.0250 - factorized_top_k/top_5_categorical_accuracy: 0.1884 - factorized_top_k/top_10_categorical_accuracy: 0.3182 - factorized_top_k/top_50_categorical_accuracy: 0.7329 - factorized_top_k/top_100_categorical_accuracy: 0.8627 - loss: 64982.9489 - regularization_loss: 0.0000e+00 - total_loss: 64982.9489 - val_root_mean_squared_error: 1.1425 - val_factorized_top_k/top_1_categorical_accuracy: 0.0012 - val_factorized_top_k/top_5_categorical_accuracy: 0.0161 - val_factorized_top_k/top_10_categorical_accuracy: 0.0522 - val_factorized_top_k/top_50_categorical_accuracy: 0.3653 - val_factorized_top_k/top_100_categorical_accuracy: 0.5347 - val_loss: 30469.9922 - val_regularization_loss: 0.0000e+00 - val_total_loss: 30469.9922\n",
            "Epoch 4/10\n",
            "10/10 [==============================] - 76s 8s/step - root_mean_squared_error: 0.9766 - factorized_top_k/top_1_categorical_accuracy: 0.0264 - factorized_top_k/top_5_categorical_accuracy: 0.2042 - factorized_top_k/top_10_categorical_accuracy: 0.3428 - factorized_top_k/top_50_categorical_accuracy: 0.7594 - factorized_top_k/top_100_categorical_accuracy: 0.8824 - loss: 64196.2067 - regularization_loss: 0.0000e+00 - total_loss: 64196.2067 - val_root_mean_squared_error: 1.1493 - val_factorized_top_k/top_1_categorical_accuracy: 8.5000e-04 - val_factorized_top_k/top_5_categorical_accuracy: 0.0149 - val_factorized_top_k/top_10_categorical_accuracy: 0.0478 - val_factorized_top_k/top_50_categorical_accuracy: 0.3580 - val_factorized_top_k/top_100_categorical_accuracy: 0.5267 - val_loss: 30860.0234 - val_regularization_loss: 0.0000e+00 - val_total_loss: 30860.0234\n",
            "5/5 [==============================] - 15s 3s/step - root_mean_squared_error: 1.3710 - factorized_top_k/top_1_categorical_accuracy: 0.0016 - factorized_top_k/top_5_categorical_accuracy: 0.0244 - factorized_top_k/top_10_categorical_accuracy: 0.0698 - factorized_top_k/top_50_categorical_accuracy: 0.3868 - factorized_top_k/top_100_categorical_accuracy: 0.5510 - loss: 32579.6374 - regularization_loss: 0.0000e+00 - total_loss: 32579.6374\n",
            "Retrieval top-100 accuracy: 0.551.\n",
            "Ranking RMSE: 1.371.\n"
          ]
        }
      ],
      "source": [
        "# Balanced model\n",
        "balanced_model = MovielensModel(user_model, movie_model, rating_weight=1.0, retrieval_weight=1.0)\n",
        "balanced_model.compile(optimizer=tf.keras.optimizers.Adagrad(0.1))\n",
        "balanced_model.fit(\n",
        "    cached_train,\n",
        "    epochs=10,\n",
        "    validation_data=cached_test,\n",
        "    callbacks=[checkpoint_callback, early_stopping_callback]\n",
        ")\n",
        "balanced_metrics = balanced_model.evaluate(cached_test, return_dict=True)\n",
        "print(f\"Retrieval top-100 accuracy: {balanced_metrics['factorized_top_k/top_100_categorical_accuracy']:.3f}.\")\n",
        "print(f\"Ranking RMSE: {balanced_metrics['root_mean_squared_error']:.3f}.\")\n"
      ]
    },
    {
      "cell_type": "code",
      "execution_count": 223,
      "metadata": {},
      "outputs": [
        {
          "name": "stdout",
          "output_type": "stream",
          "text": [
            "WARNING:tensorflow:Skipping full serialization of Keras layer <tensorflow_recommenders.metrics.factorized_top_k.FactorizedTopK object at 0x0000024670AB8AC0>, because it is not built.\n"
          ]
        },
        {
          "ename": "FailedPreconditionError",
          "evalue": "{{function_node __wrapped__DatasetToGraphV2_device_/job:localhost/replica:0/task:0/device:CPU:0}} Failed to serialize the input pipeline graph: ResourceGather is stateful. [Op:DatasetToGraphV2]",
          "output_type": "error",
          "traceback": [
            "\u001b[1;31m---------------------------------------------------------------------------\u001b[0m",
            "\u001b[1;31mFailedPreconditionError\u001b[0m                   Traceback (most recent call last)",
            "Cell \u001b[1;32mIn[223], line 1\u001b[0m\n\u001b[1;32m----> 1\u001b[0m rating_model\u001b[39m.\u001b[39;49msave(\u001b[39m'\u001b[39;49m\u001b[39mrating_model_savedmodel\u001b[39;49m\u001b[39m'\u001b[39;49m)\n\u001b[0;32m      2\u001b[0m retrieval_model\u001b[39m.\u001b[39msave(\u001b[39m'\u001b[39m\u001b[39mretrieval_model_savedmodel\u001b[39m\u001b[39m'\u001b[39m)\n\u001b[0;32m      3\u001b[0m balanced_model\u001b[39m.\u001b[39msave(\u001b[39m'\u001b[39m\u001b[39mbalanced_model_savedmodel\u001b[39m\u001b[39m'\u001b[39m)\n",
            "File \u001b[1;32mc:\\Users\\jansc\\AppData\\Local\\Programs\\Python\\Python39\\lib\\site-packages\\keras\\utils\\traceback_utils.py:70\u001b[0m, in \u001b[0;36mfilter_traceback.<locals>.error_handler\u001b[1;34m(*args, **kwargs)\u001b[0m\n\u001b[0;32m     67\u001b[0m     filtered_tb \u001b[39m=\u001b[39m _process_traceback_frames(e\u001b[39m.\u001b[39m__traceback__)\n\u001b[0;32m     68\u001b[0m     \u001b[39m# To get the full stack trace, call:\u001b[39;00m\n\u001b[0;32m     69\u001b[0m     \u001b[39m# `tf.debugging.disable_traceback_filtering()`\u001b[39;00m\n\u001b[1;32m---> 70\u001b[0m     \u001b[39mraise\u001b[39;00m e\u001b[39m.\u001b[39mwith_traceback(filtered_tb) \u001b[39mfrom\u001b[39;00m \u001b[39mNone\u001b[39m\n\u001b[0;32m     71\u001b[0m \u001b[39mfinally\u001b[39;00m:\n\u001b[0;32m     72\u001b[0m     \u001b[39mdel\u001b[39;00m filtered_tb\n",
            "File \u001b[1;32mc:\\Users\\jansc\\AppData\\Local\\Programs\\Python\\Python39\\lib\\site-packages\\tensorflow\\python\\framework\\ops.py:7215\u001b[0m, in \u001b[0;36mraise_from_not_ok_status\u001b[1;34m(e, name)\u001b[0m\n\u001b[0;32m   7213\u001b[0m \u001b[39mdef\u001b[39;00m \u001b[39mraise_from_not_ok_status\u001b[39m(e, name):\n\u001b[0;32m   7214\u001b[0m   e\u001b[39m.\u001b[39mmessage \u001b[39m+\u001b[39m\u001b[39m=\u001b[39m (\u001b[39m\"\u001b[39m\u001b[39m name: \u001b[39m\u001b[39m\"\u001b[39m \u001b[39m+\u001b[39m name \u001b[39mif\u001b[39;00m name \u001b[39mis\u001b[39;00m \u001b[39mnot\u001b[39;00m \u001b[39mNone\u001b[39;00m \u001b[39melse\u001b[39;00m \u001b[39m\"\u001b[39m\u001b[39m\"\u001b[39m)\n\u001b[1;32m-> 7215\u001b[0m   \u001b[39mraise\u001b[39;00m core\u001b[39m.\u001b[39m_status_to_exception(e) \u001b[39mfrom\u001b[39;00m \u001b[39mNone\u001b[39m\n",
            "\u001b[1;31mFailedPreconditionError\u001b[0m: {{function_node __wrapped__DatasetToGraphV2_device_/job:localhost/replica:0/task:0/device:CPU:0}} Failed to serialize the input pipeline graph: ResourceGather is stateful. [Op:DatasetToGraphV2]"
          ]
        }
      ],
      "source": [
        "rating_model.save('rating_model_savedmodel')\n",
        "retrieval_model.save('retrieval_model_savedmodel')\n",
        "balanced_model.save('balanced_model_savedmodel')\n"
      ]
    },
    {
      "cell_type": "code",
      "execution_count": 220,
      "metadata": {},
      "outputs": [],
      "source": [
        "def get_unique_movie_title(movie_title):\n",
        "    for index, unique_title in enumerate(unique_movie_titles):\n",
        "        # Convert unique_title to string and remove the 'b' prefix and single quotes\n",
        "        unique_title_str = str(unique_title)[2:-1]\n",
        "        if movie_title == unique_title_str:\n",
        "            return index\n",
        "    return None\n"
      ]
    },
    {
      "cell_type": "code",
      "execution_count": 155,
      "metadata": {},
      "outputs": [
        {
          "name": "stdout",
          "output_type": "stream",
          "text": [
            "The corresponding unique title index for '8 Seconds' is 20.\n"
          ]
        }
      ],
      "source": [
        "movie_title = '8 Seconds'\n",
        "unique_title_index = get_unique_movie_title(movie_title)\n",
        "if unique_title_index is not None:\n",
        "    print(f\"The corresponding unique title index for '{movie_title}' is {unique_title_index}.\")\n",
        "else:\n",
        "    print(f\"No matching unique title found for '{movie_title}'.\")\n"
      ]
    },
    {
      "cell_type": "code",
      "execution_count": 205,
      "metadata": {},
      "outputs": [],
      "source": [
        "m1 = get_unique_movie_title('8 Seconds')\n",
        "m2 = get_unique_movie_title('The Lion King')\n",
        "m3 = get_unique_movie_title('The Shawshank Redemption')\n",
        "m4 = get_unique_movie_title('The Godfather')\n",
        "m5 = get_unique_movie_title('Toy Story')\n",
        "m6 = get_unique_movie_title('The Matrix')\n",
        "m7 = get_unique_movie_title('The Terminator')\n",
        "m8 = get_unique_movie_title('Get Shorty')\n",
        "m9 = get_unique_movie_title('The Silence of the Lambs')\n",
        "m10 = get_unique_movie_title('The Usual Suspects')\n",
        "\n",
        "\n",
        "# Add a new user's ratings\n",
        "add_new_user_ratings(\n",
        "    user_id=\"new_user_10\",\n",
        "    watched_movies=[\n",
        "        unique_movie_titles[m1],\n",
        "        unique_movie_titles[m2],\n",
        "        unique_movie_titles[m3],\n",
        "        unique_movie_titles[m4],\n",
        "        unique_movie_titles[m5],\n",
        "        unique_movie_titles[m6],\n",
        "        unique_movie_titles[m7],\n",
        "        unique_movie_titles[m8],\n",
        "        unique_movie_titles[m9],\n",
        "        unique_movie_titles[m10],\n",
        "    ],\n",
        "    user_ratings=[4.0, 2.5, 5.0, 4.5, 3.0, 1.0, 3.5, 4.0, 1.0, 3.0]\n",
        ")\n"
      ]
    },
    {
      "cell_type": "code",
      "execution_count": 222,
      "metadata": {
        "id": "ri8GS9KVfnS9"
      },
      "outputs": [
        {
          "ename": "InvalidArgumentError",
          "evalue": "{{function_node __wrapped__TopKV2_device_/job:localhost/replica:0/task:0/device:CPU:0}} input must have at least k columns. Had 1, needed 5 [Op:TopKV2]",
          "output_type": "error",
          "traceback": [
            "\u001b[1;31m---------------------------------------------------------------------------\u001b[0m",
            "\u001b[1;31mInvalidArgumentError\u001b[0m                      Traceback (most recent call last)",
            "Cell \u001b[1;32mIn[222], line 3\u001b[0m\n\u001b[0;32m      1\u001b[0m \u001b[39m# Replace \"42\" and \"Dances with Wolves (1990)\" with valid user_id and movie_title from your data\u001b[39;00m\n\u001b[0;32m      2\u001b[0m user_id \u001b[39m=\u001b[39m \u001b[39m\"\u001b[39m\u001b[39m42\u001b[39m\u001b[39m\"\u001b[39m  \u001b[39m# Replace with a valid user_id\u001b[39;00m\n\u001b[1;32m----> 3\u001b[0m recommendations \u001b[39m=\u001b[39m balanced_model\u001b[39m.\u001b[39;49mrecommend(user_id, k\u001b[39m=\u001b[39;49m\u001b[39m5\u001b[39;49m)\n\u001b[0;32m      4\u001b[0m \u001b[39mprint\u001b[39m(\u001b[39mf\u001b[39m\u001b[39m\"\u001b[39m\u001b[39mTop 5 movie recommendations for user \u001b[39m\u001b[39m{\u001b[39;00muser_id\u001b[39m}\u001b[39;00m\u001b[39m: \u001b[39m\u001b[39m{\u001b[39;00mrecommendations\u001b[39m}\u001b[39;00m\u001b[39m\"\u001b[39m)\n",
            "Cell \u001b[1;32mIn[212], line 58\u001b[0m, in \u001b[0;36mMovielensModel.recommend\u001b[1;34m(self, user_id, k)\u001b[0m\n\u001b[0;32m     56\u001b[0m scores \u001b[39m=\u001b[39m tf\u001b[39m.\u001b[39mlinalg\u001b[39m.\u001b[39mmatmul(user_embedding, movie_embeddings, transpose_b\u001b[39m=\u001b[39m\u001b[39mTrue\u001b[39;00m)\n\u001b[0;32m     57\u001b[0m scores \u001b[39m=\u001b[39m tf\u001b[39m.\u001b[39mreshape(scores, (\u001b[39m1\u001b[39m, \u001b[39m-\u001b[39m\u001b[39m1\u001b[39m))  \u001b[39m# Reshape scores tensor\u001b[39;00m\n\u001b[1;32m---> 58\u001b[0m top_k_movie_indices \u001b[39m=\u001b[39m tf\u001b[39m.\u001b[39;49mnn\u001b[39m.\u001b[39;49mtop_k(scores, k\u001b[39m=\u001b[39;49mk)\u001b[39m.\u001b[39mindices\u001b[39m.\u001b[39mnumpy()[\u001b[39m0\u001b[39m]  \u001b[39m# Update this line\u001b[39;00m\n\u001b[0;32m     59\u001b[0m \u001b[39mreturn\u001b[39;00m [unique_movie_titles[i] \u001b[39mfor\u001b[39;00m i \u001b[39min\u001b[39;00m top_k_movie_indices]\n",
            "File \u001b[1;32mc:\\Users\\jansc\\AppData\\Local\\Programs\\Python\\Python39\\lib\\site-packages\\tensorflow\\python\\util\\traceback_utils.py:153\u001b[0m, in \u001b[0;36mfilter_traceback.<locals>.error_handler\u001b[1;34m(*args, **kwargs)\u001b[0m\n\u001b[0;32m    151\u001b[0m \u001b[39mexcept\u001b[39;00m \u001b[39mException\u001b[39;00m \u001b[39mas\u001b[39;00m e:\n\u001b[0;32m    152\u001b[0m   filtered_tb \u001b[39m=\u001b[39m _process_traceback_frames(e\u001b[39m.\u001b[39m__traceback__)\n\u001b[1;32m--> 153\u001b[0m   \u001b[39mraise\u001b[39;00m e\u001b[39m.\u001b[39mwith_traceback(filtered_tb) \u001b[39mfrom\u001b[39;00m \u001b[39mNone\u001b[39m\n\u001b[0;32m    154\u001b[0m \u001b[39mfinally\u001b[39;00m:\n\u001b[0;32m    155\u001b[0m   \u001b[39mdel\u001b[39;00m filtered_tb\n",
            "File \u001b[1;32mc:\\Users\\jansc\\AppData\\Local\\Programs\\Python\\Python39\\lib\\site-packages\\tensorflow\\python\\framework\\ops.py:7215\u001b[0m, in \u001b[0;36mraise_from_not_ok_status\u001b[1;34m(e, name)\u001b[0m\n\u001b[0;32m   7213\u001b[0m \u001b[39mdef\u001b[39;00m \u001b[39mraise_from_not_ok_status\u001b[39m(e, name):\n\u001b[0;32m   7214\u001b[0m   e\u001b[39m.\u001b[39mmessage \u001b[39m+\u001b[39m\u001b[39m=\u001b[39m (\u001b[39m\"\u001b[39m\u001b[39m name: \u001b[39m\u001b[39m\"\u001b[39m \u001b[39m+\u001b[39m name \u001b[39mif\u001b[39;00m name \u001b[39mis\u001b[39;00m \u001b[39mnot\u001b[39;00m \u001b[39mNone\u001b[39;00m \u001b[39melse\u001b[39;00m \u001b[39m\"\u001b[39m\u001b[39m\"\u001b[39m)\n\u001b[1;32m-> 7215\u001b[0m   \u001b[39mraise\u001b[39;00m core\u001b[39m.\u001b[39m_status_to_exception(e) \u001b[39mfrom\u001b[39;00m \u001b[39mNone\u001b[39m\n",
            "\u001b[1;31mInvalidArgumentError\u001b[0m: {{function_node __wrapped__TopKV2_device_/job:localhost/replica:0/task:0/device:CPU:0}} input must have at least k columns. Had 1, needed 5 [Op:TopKV2]"
          ]
        }
      ],
      "source": [
        "# Replace \"42\" and \"Dances with Wolves (1990)\" with valid user_id and movie_title from your data\n",
        "user_id = \"42\"  # Replace with a valid user_id\n",
        "recommendations = balanced_model.recommend(user_id, k=5)\n",
        "print(f\"Top 5 movie recommendations for user {user_id}: {recommendations}\")\n"
      ]
    }
  ],
  "metadata": {
    "colab": {
      "provenance": []
    },
    "kernelspec": {
      "display_name": "Python 3",
      "name": "python3"
    },
    "language_info": {
      "codemirror_mode": {
        "name": "ipython",
        "version": 3
      },
      "file_extension": ".py",
      "mimetype": "text/x-python",
      "name": "python",
      "nbconvert_exporter": "python",
      "pygments_lexer": "ipython3",
      "version": "3.9.12"
    }
  },
  "nbformat": 4,
  "nbformat_minor": 0
}
