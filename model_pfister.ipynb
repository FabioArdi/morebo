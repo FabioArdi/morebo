{
 "cells": [
  {
   "attachments": {},
   "cell_type": "markdown",
   "metadata": {},
   "source": [
    "# Read data"
   ]
  },
  {
   "cell_type": "code",
   "execution_count": null,
   "metadata": {},
   "outputs": [],
   "source": [
    "import pandas as pd\n",
    "\n",
    "movies = pd.read_csv('data/movies_meta_data.csv', sep=';', engine='python')\n",
    "users = pd.read_csv('data/users.dat', sep='::', engine='python', names=['userId', 'gender', 'age', 'occupation', 'zip-code'])\n",
    "ratings = pd.read_csv('data/ratings.dat', sep='::', engine='python', names=['userId', 'movieId', 'rating', 'timestamp'])"
   ]
  },
  {
   "attachments": {},
   "cell_type": "markdown",
   "metadata": {},
   "source": [
    "# Cleaning"
   ]
  },
  {
   "cell_type": "code",
   "execution_count": null,
   "metadata": {},
   "outputs": [],
   "source": [
    "movies_dropped = movies[['ml_movieId', 'Title', 'Year', 'Released', 'Runtime', 'Genre', 'Ratings', 'Metascore', 'imdbRating', 'imdbVotes', 'BoxOffice']]\n",
    "movies_dropped.head()"
   ]
  },
  {
   "cell_type": "code",
   "execution_count": null,
   "metadata": {},
   "outputs": [],
   "source": [
    "import re\n",
    "\n",
    "# Fill missing 'imdbRating' values with the mean\n",
    "movies_dropped['imdbRating'].fillna(movies_dropped['imdbRating'].mean(), inplace=True)\n",
    "\n",
    "# Round the 'imdbRating' values to one decimal place\n",
    "movies_dropped['imdbRating'] = movies_dropped['imdbRating'].round(decimals=1)\n",
    "\n",
    "# Convert the 'imdbVotes' column to float type using regular expressions\n",
    "movies_dropped['imdbVotes'] = movies_dropped['imdbVotes'].apply(lambda x: float(re.sub(r'[^\\d.]', '', x)) if isinstance(x, str) else x)\n",
    "\n",
    "# Fill in missing values with mean\n",
    "movies_dropped['imdbVotes'].fillna(movies_dropped['imdbVotes'].mean(), inplace=True)\n",
    "\n",
    "# Round the 'imdbVotes' values to zero decimal places\n",
    "movies_dropped['imdbVotes'] = movies_dropped['imdbVotes'].round(decimals=0)\n",
    "\n",
    "# Convert the 'BoxOffice' column to float type using regular expressions\n",
    "movies_dropped['BoxOffice'] = movies_dropped['BoxOffice'].apply(lambda x: float(re.sub(r'[^\\d.]', '', x)) if isinstance(x, str) else x)\n",
    "\n",
    "# Fill in missing values with mean\n",
    "movies_dropped['BoxOffice'].fillna(movies_dropped['BoxOffice'].mean(), inplace=True)\n",
    "\n",
    "# Round the 'BoxOffice' values to zero decimal places\n",
    "movies_dropped['BoxOffice'] = movies_dropped['BoxOffice'].round(decimals=0)\n",
    "\n",
    "# Convert the 'Runtime' column from minutes to hours\n",
    "movies_dropped['Runtime'] = movies_dropped['Runtime'].apply(lambda x: int(re.sub(r'\\D', '', x)) / 60 if isinstance(x, str) else x)\n",
    "\n",
    "# Fill in missing values with mean\n",
    "movies_dropped['Runtime'].fillna(movies_dropped['Runtime'].mean(), inplace=True)"
   ]
  },
  {
   "cell_type": "code",
   "execution_count": null,
   "metadata": {},
   "outputs": [],
   "source": [
    "for index, row in movies_dropped.iterrows():\n",
    "    if pd.isna(row['Released']):\n",
    "        movies_dropped.drop(index, inplace=True)"
   ]
  },
  {
   "cell_type": "code",
   "execution_count": null,
   "metadata": {},
   "outputs": [],
   "source": [
    "# Drop the rows with missing values in the 'Genre' column\n",
    "movies_dropped.dropna(subset=['Genre'], inplace=True)\n",
    "movies_dropped.head()"
   ]
  },
  {
   "attachments": {},
   "cell_type": "markdown",
   "metadata": {},
   "source": [
    "# Transformation"
   ]
  },
  {
   "cell_type": "code",
   "execution_count": null,
   "metadata": {},
   "outputs": [],
   "source": [
    "# Define a dictionary to map numeric occupation values to text labels\n",
    "occupation_labels = {0: \"other or not specified\",\n",
    "                     1: \"academic/educator\",\n",
    "                     2: \"artist\",\n",
    "                     3: \"clerical/admin\",\n",
    "                     4: \"college/grad student\",\n",
    "                     5: \"customer service\",\n",
    "                     6: \"doctor/health care\",\n",
    "                     7: \"executive/managerial\",\n",
    "                     8: \"farmer\",\n",
    "                     9: \"homemaker\",\n",
    "                     10: \"K-12 student\",\n",
    "                     11: \"lawyer\",\n",
    "                     12: \"programmer\",\n",
    "                     13: \"retired\",\n",
    "                     14: \"sales/marketing\",\n",
    "                     15: \"scientist\",\n",
    "                     16: \"self-employed\",\n",
    "                     17: \"technician/engineer\",\n",
    "                     18: \"tradesman/craftsman\",\n",
    "                     19: \"unemployed\",\n",
    "                     20: \"writer\"}\n",
    "\n",
    "# Replace the numeric occupation values with text labels using the map method\n",
    "users['occupation'] = users['occupation'].map(occupation_labels)"
   ]
  },
  {
   "cell_type": "code",
   "execution_count": null,
   "metadata": {},
   "outputs": [],
   "source": [
    "# Create dummy variables for the genres\n",
    "movies_dropped = movies_dropped.join(movies_dropped['Genre'].str.get_dummies(sep=', '))\n",
    "movies.head()"
   ]
  },
  {
   "cell_type": "code",
   "execution_count": null,
   "metadata": {},
   "outputs": [],
   "source": [
    "movies_dropped.drop(['Genre'], axis=1, inplace=True)"
   ]
  },
  {
   "attachments": {},
   "cell_type": "markdown",
   "metadata": {},
   "source": [
    "# Merge"
   ]
  },
  {
   "cell_type": "code",
   "execution_count": null,
   "metadata": {},
   "outputs": [],
   "source": [
    "merged = pd.merge(movies_dropped, ratings, left_on='ml_movieId', right_on='movieId', how='inner')\n",
    "merged.head()"
   ]
  },
  {
   "cell_type": "code",
   "execution_count": null,
   "metadata": {},
   "outputs": [],
   "source": [
    "merged.columns"
   ]
  },
  {
   "cell_type": "code",
   "execution_count": null,
   "metadata": {},
   "outputs": [],
   "source": [
    "merged.drop(['timestamp', 'movieId'], axis=1)\n",
    "merged.head()"
   ]
  },
  {
   "attachments": {},
   "cell_type": "markdown",
   "metadata": {},
   "source": [
    "# Create Pivot table"
   ]
  },
  {
   "cell_type": "code",
   "execution_count": null,
   "metadata": {},
   "outputs": [],
   "source": [
    "pivot = merged.pivot_table(index=['userId'], columns=['Title'], values='rating')\n",
    "pivot.head()"
   ]
  },
  {
   "cell_type": "code",
   "execution_count": null,
   "metadata": {},
   "outputs": [],
   "source": [
    "pivot = pivot.dropna(thresh=10, axis=1).fillna(0)\n",
    "pivot.head()"
   ]
  },
  {
   "cell_type": "code",
   "execution_count": null,
   "metadata": {},
   "outputs": [],
   "source": [
    "similarity_df = pivot.corr(method='pearson')\n",
    "similarity_df.head()"
   ]
  },
  {
   "cell_type": "code",
   "execution_count": null,
   "metadata": {},
   "outputs": [],
   "source": [
    "similarity_df.loc['Jurassic Park'].sort_values(ascending=False).head(10)"
   ]
  },
  {
   "cell_type": "code",
   "execution_count": null,
   "metadata": {},
   "outputs": [],
   "source": [
    "def get_similar_movies(title, user_rating):\n",
    "    similar_score = similarity_df[title]*(user_rating-2.5)\n",
    "    similar_score = similar_score.sort_values(ascending=False)\n",
    "    \n",
    "    return similar_score"
   ]
  },
  {
   "cell_type": "code",
   "execution_count": null,
   "metadata": {},
   "outputs": [],
   "source": [
    "action_lover = [(\"Jurassic Park\", 5), (\"The Lost World: Jurassic Park\", 5), ('Titanic', 3), ('Forrest Gump', 5)]\n",
    "similar_movies = pd.DataFrame()\n",
    "\n",
    "for movie, rating in action_lover:\n",
    "    similar_movies = similar_movies.append(get_similar_movies(movie, rating), ignore_index=True)\n",
    "\n",
    "similar_movies.head()\n",
    "similar_movies.sum().sort_values(ascending=False).head(20)"
   ]
  }
 ],
 "metadata": {
  "kernelspec": {
   "display_name": "venv",
   "language": "python",
   "name": "python3"
  },
  "language_info": {
   "codemirror_mode": {
    "name": "ipython",
    "version": 3
   },
   "file_extension": ".py",
   "mimetype": "text/x-python",
   "name": "python",
   "nbconvert_exporter": "python",
   "pygments_lexer": "ipython3",
   "version": "3.11.1"
  },
  "orig_nbformat": 4
 },
 "nbformat": 4,
 "nbformat_minor": 2
}
