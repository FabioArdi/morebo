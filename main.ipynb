{
 "cells": [
  {
   "attachments": {},
   "cell_type": "markdown",
   "metadata": {},
   "source": [
    "# MoReBo\n",
    "MoReBo stands for Movie Recommendations Bot."
   ]
  },
  {
   "attachments": {},
   "cell_type": "markdown",
   "metadata": {},
   "source": [
    "## Introduction"
   ]
  },
  {
   "attachments": {},
   "cell_type": "markdown",
   "metadata": {},
   "source": [
    "TODO"
   ]
  },
  {
   "attachments": {},
   "cell_type": "markdown",
   "metadata": {},
   "source": [
    "## Data cleansing"
   ]
  },
  {
   "cell_type": "code",
   "execution_count": 8,
   "metadata": {},
   "outputs": [],
   "source": [
    "import pandas as pd\n",
    "from io import StringIO\n",
    "import numpy as np\n",
    "\n",
    "# Read the data\n",
    "movies = pd.read_csv('data/movies.dat', sep='::', engine='python', names=['movieId', 'title', 'genres'], encoding=\"ISO-8859-1\")\n",
    "ratings = pd.read_csv('data/ratings.dat', sep='::', engine='python', names=['userId', 'movieId', 'rating', 'timestamp'])\n",
    "users = pd.read_csv('data/users.dat', sep='::', engine='python', names=['userId', 'gender', 'age', 'occupation', 'zip-code'])"
   ]
  },
  {
   "cell_type": "code",
   "execution_count": 14,
   "metadata": {},
   "outputs": [
    {
     "name": "stderr",
     "output_type": "stream",
     "text": [
      "C:\\Users\\domin\\AppData\\Local\\Temp\\ipykernel_18848\\2852728962.py:10: FutureWarning: The default value of regex will change from True to False in a future version.\n",
      "  movies['title'] = movies['title'].str.replace(r\"\\s\\(\\d{4}\\)\",\"\")\n"
     ]
    },
    {
     "data": {
      "text/html": [
       "<div>\n",
       "<style scoped>\n",
       "    .dataframe tbody tr th:only-of-type {\n",
       "        vertical-align: middle;\n",
       "    }\n",
       "\n",
       "    .dataframe tbody tr th {\n",
       "        vertical-align: top;\n",
       "    }\n",
       "\n",
       "    .dataframe thead th {\n",
       "        text-align: right;\n",
       "    }\n",
       "</style>\n",
       "<table border=\"1\" class=\"dataframe\">\n",
       "  <thead>\n",
       "    <tr style=\"text-align: right;\">\n",
       "      <th></th>\n",
       "      <th>movieId</th>\n",
       "      <th>title</th>\n",
       "      <th>genres</th>\n",
       "      <th>year</th>\n",
       "    </tr>\n",
       "  </thead>\n",
       "  <tbody>\n",
       "    <tr>\n",
       "      <th>1080</th>\n",
       "      <td>1096</td>\n",
       "      <td>Sophie's Choice</td>\n",
       "      <td>Drama</td>\n",
       "      <td>1982</td>\n",
       "    </tr>\n",
       "    <tr>\n",
       "      <th>1081</th>\n",
       "      <td>1097</td>\n",
       "      <td>E.T. the Extra-Terrestrial</td>\n",
       "      <td>Children's|Drama|Fantasy|Sci-Fi</td>\n",
       "      <td>1982</td>\n",
       "    </tr>\n",
       "    <tr>\n",
       "      <th>1082</th>\n",
       "      <td>1098</td>\n",
       "      <td>Search for One-eye Jimmy, The</td>\n",
       "      <td>Comedy</td>\n",
       "      <td>1996</td>\n",
       "    </tr>\n",
       "    <tr>\n",
       "      <th>1083</th>\n",
       "      <td>1099</td>\n",
       "      <td>Christmas Carol, A</td>\n",
       "      <td>Drama</td>\n",
       "      <td>1938</td>\n",
       "    </tr>\n",
       "    <tr>\n",
       "      <th>1084</th>\n",
       "      <td>1100</td>\n",
       "      <td>Days of Thunder</td>\n",
       "      <td>Action|Romance</td>\n",
       "      <td>1990</td>\n",
       "    </tr>\n",
       "    <tr>\n",
       "      <th>1085</th>\n",
       "      <td>1101</td>\n",
       "      <td>Top Gun</td>\n",
       "      <td>Action|Romance</td>\n",
       "      <td>1986</td>\n",
       "    </tr>\n",
       "    <tr>\n",
       "      <th>1086</th>\n",
       "      <td>1102</td>\n",
       "      <td>American Strays</td>\n",
       "      <td>Action</td>\n",
       "      <td>1996</td>\n",
       "    </tr>\n",
       "    <tr>\n",
       "      <th>1087</th>\n",
       "      <td>1103</td>\n",
       "      <td>Rebel Without a Cause</td>\n",
       "      <td>Drama</td>\n",
       "      <td>1955</td>\n",
       "    </tr>\n",
       "    <tr>\n",
       "      <th>1088</th>\n",
       "      <td>1104</td>\n",
       "      <td>Streetcar Named Desire, A</td>\n",
       "      <td>Drama</td>\n",
       "      <td>1951</td>\n",
       "    </tr>\n",
       "    <tr>\n",
       "      <th>1089</th>\n",
       "      <td>1105</td>\n",
       "      <td>Children of the Corn IV: The Gathering</td>\n",
       "      <td>Horror</td>\n",
       "      <td>1996</td>\n",
       "    </tr>\n",
       "  </tbody>\n",
       "</table>\n",
       "</div>"
      ],
      "text/plain": [
       "      movieId                                   title  \\\n",
       "1080     1096                         Sophie's Choice   \n",
       "1081     1097              E.T. the Extra-Terrestrial   \n",
       "1082     1098           Search for One-eye Jimmy, The   \n",
       "1083     1099                      Christmas Carol, A   \n",
       "1084     1100                         Days of Thunder   \n",
       "1085     1101                                 Top Gun   \n",
       "1086     1102                         American Strays   \n",
       "1087     1103                   Rebel Without a Cause   \n",
       "1088     1104               Streetcar Named Desire, A   \n",
       "1089     1105  Children of the Corn IV: The Gathering   \n",
       "\n",
       "                               genres  year  \n",
       "1080                            Drama  1982  \n",
       "1081  Children's|Drama|Fantasy|Sci-Fi  1982  \n",
       "1082                           Comedy  1996  \n",
       "1083                            Drama  1938  \n",
       "1084                   Action|Romance  1990  \n",
       "1085                   Action|Romance  1986  \n",
       "1086                           Action  1996  \n",
       "1087                            Drama  1955  \n",
       "1088                            Drama  1951  \n",
       "1089                           Horror  1996  "
      ]
     },
     "execution_count": 14,
     "metadata": {},
     "output_type": "execute_result"
    }
   ],
   "source": [
    "# Find a christmas carol in the movies frame\n",
    "movies.iloc[1080:1090]\n",
    "\n",
    "movies['year'] = movies['title'].str.extract('.*\\((.*)\\).*', expand=True)\n",
    "\n",
    "# Convert year to int\n",
    "movies['year'] = movies['year'].astype(int)\n",
    "\n",
    "# Remove the year from the title\n",
    "movies['title'] = movies['title'].str.replace(r\"\\s\\(\\d{4}\\)\",\"\")\n",
    "\n",
    "movies.iloc[1080:1090]"
   ]
  },
  {
   "cell_type": "code",
   "execution_count": 2,
   "metadata": {},
   "outputs": [
    {
     "name": "stderr",
     "output_type": "stream",
     "text": [
      "C:\\Users\\domin\\AppData\\Local\\Temp\\ipykernel_18848\\2717721319.py:8: FutureWarning: The default value of regex will change from True to False in a future version.\n",
      "  movies['title'] = movies['title'].str.replace(r\"\\s\\(\\d{4}\\)\",\"\")\n"
     ]
    }
   ],
   "source": [
    "# Create a new column for the year\n",
    "movies['year'] = movies['title'].str.extract('.*\\((.*)\\).*', expand=True)\n",
    "\n",
    "# Convert year to int\n",
    "movies['year'] = movies['year'].astype(int)\n",
    "\n",
    "# Remove the year from the title\n",
    "movies['title'] = movies['title'].str.replace(r\"\\s\\(\\d{4}\\)\",\"\")"
   ]
  },
  {
   "cell_type": "code",
   "execution_count": 3,
   "metadata": {},
   "outputs": [],
   "source": [
    "# Create dummy variables for the genres\n",
    "movies = movies.join(movies['genres'].str.get_dummies(sep='|'))\n",
    "\n",
    "# Drop the genres column\n",
    "movies = movies.drop('genres', axis=1)"
   ]
  },
  {
   "cell_type": "code",
   "execution_count": 7,
   "metadata": {},
   "outputs": [
    {
     "data": {
      "text/plain": [
       "movieId         int64\n",
       "title          object\n",
       "year            int32\n",
       "Action          int64\n",
       "Adventure       int64\n",
       "Animation       int64\n",
       "Children's      int64\n",
       "Comedy          int64\n",
       "Crime           int64\n",
       "Documentary     int64\n",
       "Drama           int64\n",
       "Fantasy         int64\n",
       "Film-Noir       int64\n",
       "Horror          int64\n",
       "Musical         int64\n",
       "Mystery         int64\n",
       "Romance         int64\n",
       "Sci-Fi          int64\n",
       "Thriller        int64\n",
       "War             int64\n",
       "Western         int64\n",
       "userId          int64\n",
       "rating          int64\n",
       "timestamp       int64\n",
       "gender         object\n",
       "age             int64\n",
       "occupation      int64\n",
       "zip-code       object\n",
       "dtype: object"
      ]
     },
     "execution_count": 7,
     "metadata": {},
     "output_type": "execute_result"
    }
   ],
   "source": [
    "# Merge the data\n",
    "merged = pd.merge(movies, ratings, on='movieId', how='inner')\n",
    "merged = pd.merge(merged, users, on='userId', how='inner')\n",
    "merged.head()\n",
    "\n",
    "# Display data types of the merged data\n",
    "merged.dtypes"
   ]
  },
  {
   "cell_type": "code",
   "execution_count": 5,
   "metadata": {},
   "outputs": [],
   "source": [
    "# Save the merged dataset as a new csv file\n",
    "merged.to_csv('data/merged.csv', index=False, delimiter=';')"
   ]
  },
  {
   "attachments": {},
   "cell_type": "markdown",
   "metadata": {},
   "source": [
    "## Data Exploration"
   ]
  },
  {
   "attachments": {},
   "cell_type": "markdown",
   "metadata": {},
   "source": [
    "# TODO\n",
    "Let's have a look at our data."
   ]
  }
 ],
 "metadata": {
  "kernelspec": {
   "display_name": "Python 3",
   "language": "python",
   "name": "python3"
  },
  "language_info": {
   "codemirror_mode": {
    "name": "ipython",
    "version": 3
   },
   "file_extension": ".py",
   "mimetype": "text/x-python",
   "name": "python",
   "nbconvert_exporter": "python",
   "pygments_lexer": "ipython3",
   "version": "3.11.1"
  },
  "orig_nbformat": 4
 },
 "nbformat": 4,
 "nbformat_minor": 2
}
