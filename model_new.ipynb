{
 "cells": [
  {
   "cell_type": "code",
   "execution_count": null,
   "metadata": {},
   "outputs": [],
   "source": [
    "%pip install sklearn"
   ]
  },
  {
   "cell_type": "code",
   "execution_count": null,
   "metadata": {},
   "outputs": [],
   "source": [
    "import pandas as pd\n",
    "import numpy as np\n",
    "import re\n",
    "import matplotlib.pyplot as plt\n",
    "import seaborn as sns\n",
    "from datetime import datetime\n"
   ]
  },
  {
   "cell_type": "code",
   "execution_count": null,
   "metadata": {},
   "outputs": [],
   "source": [
    "\n",
    "from sklearn import metrics, preprocessing\n",
    "\n",
    "from tensorflow.keras import models, layers, utils, optimizers, callbacks"
   ]
  },
  {
   "cell_type": "code",
   "execution_count": null,
   "metadata": {},
   "outputs": [],
   "source": [
    "movies_df = pd.read_csv('data/movies.dat', sep='::', engine='python', names=['movieId', 'title', 'genres'],encoding='latin1')\n",
    "users_df = pd.read_csv('data/users.dat', sep='::', engine='python', names=['userId', 'gender', 'age', 'occupation', 'zip-code'])\n",
    "ratings_df = pd.read_csv('data/ratings.dat', sep='::', engine='python', names=['userId', 'movieId', 'rating', 'timestamp'])"
   ]
  },
  {
   "cell_type": "code",
   "execution_count": null,
   "metadata": {},
   "outputs": [],
   "source": [
    "movies_df = movies_df[~movies_df[\"genres\"].isna()]\n",
    "movies_df[\"product\"] = range(0, len(movies_df))\n",
    "movies_df[\"name\"] = movies_df[\"title\"].apply(lambda x: re.sub(\"[\\(\\[].*?[\\)\\]]\", \"\", x).strip())\n",
    "movies_df[\"date\"] = movies_df[\"title\"].apply(lambda x: int(x.split(\"(\")[-1].replace(\")\", \"\").strip()) if \"(\" in x else np.nan)\n",
    "movies_df[\"date\"] = movies_df[\"date\"].fillna(9999)\n",
    "movies_df[\"old\"] = movies_df[\"date\"].apply(lambda x: 1 if x < 2000 else 0)\n"
   ]
  },
  {
   "cell_type": "code",
   "execution_count": null,
   "metadata": {},
   "outputs": [],
   "source": [
    "ratings_df[\"user\"] = ratings_df[\"userId\"].apply(lambda x: x-1)\n",
    "ratings_df[\"timestamp\"] = ratings_df[\"timestamp\"].apply(lambda x: datetime.fromtimestamp(x))\n",
    "ratings_df[\"daytime\"] = ratings_df[\"timestamp\"].apply(lambda x: 1 if 6 < int(x.strftime(\"%H\")) < 20 else 0)\n",
    "ratings_df[\"weekend\"] = ratings_df[\"timestamp\"].apply(lambda x: 1 if x.weekday() in [5, 6] else 0)\n",
    "ratings_df = ratings_df.merge(movies_df[[\"movieId\", \"product\"]], how=\"left\")\n",
    "ratings_df = ratings_df.rename(columns={\"rating\": \"y\"})\n"
   ]
  },
  {
   "cell_type": "code",
   "execution_count": null,
   "metadata": {},
   "outputs": [],
   "source": [
    "movies_df = movies_df[[\"product\",\"name\",\"old\",\"genres\"]].set_index(\"product\")\n",
    "ratings_df = ratings_df[[\"user\",\"product\",\"daytime\",\"weekend\",\"y\"]]"
   ]
  },
  {
   "cell_type": "code",
   "execution_count": null,
   "metadata": {},
   "outputs": [],
   "source": [
    "context_df = ratings_df[[\"user\",\"product\",\"daytime\",\"weekend\"]]"
   ]
  },
  {
   "cell_type": "code",
   "execution_count": null,
   "metadata": {},
   "outputs": [],
   "source": [
    "tags = [i.split(\"|\") for i in movies_df[\"genres\"].unique()]\n",
    "columns = list(set([i for lst in tags for i in lst]))\n",
    "\n",
    "if '(no genres listed)' in columns:\n",
    "    columns.remove('(no genres listed)')\n",
    "\n",
    "for col in columns:\n",
    "    movies_df[col] = movies_df[\"genres\"].apply(lambda x: 1 if col in x else 0)\n",
    "\n"
   ]
  },
  {
   "cell_type": "code",
   "execution_count": null,
   "metadata": {},
   "outputs": [],
   "source": [
    "fig, ax = plt.subplots(figsize=(20,5))\n",
    "sns.heatmap(movies_df==0, vmin=0, vmax=1, cbar=False, ax=ax).set_title(\"Movies x Features\")\n",
    "plt.show()"
   ]
  },
  {
   "cell_type": "code",
   "execution_count": null,
   "metadata": {},
   "outputs": [],
   "source": [
    "tmp = ratings_df.copy()\n",
    "ratings_df = tmp.pivot_table(index=\"user\", columns=\"product\", values=\"y\")\n",
    "missing_cols = list(set(ratings_df.index) - set(ratings_df.columns))\n",
    "for col in missing_cols:\n",
    "    ratings_df[col] = np.nan\n",
    "dtf_users = ratings_df[sorted(ratings_df.columns)]"
   ]
  },
  {
   "cell_type": "code",
   "execution_count": null,
   "metadata": {},
   "outputs": [],
   "source": [
    "ratings_df = pd.DataFrame(preprocessing.MinMaxScaler(feature_range=(0.5,1)).fit_transform(ratings_df.values), \n",
    "columns=ratings_df.columns, index=ratings_df.index)"
   ]
  },
  {
   "cell_type": "code",
   "execution_count": null,
   "metadata": {},
   "outputs": [],
   "source": [
    "split = int(0.8*ratings_df.shape[1])\n",
    "train_df = ratings_df.loc[:, :split-1]\n",
    "test_df = ratings_df.loc[:, split:]"
   ]
  },
  {
   "cell_type": "code",
   "execution_count": null,
   "metadata": {},
   "outputs": [],
   "source": []
  }
 ],
 "metadata": {
  "kernelspec": {
   "display_name": "Python 3",
   "language": "python",
   "name": "python3"
  },
  "language_info": {
   "codemirror_mode": {
    "name": "ipython",
    "version": 3
   },
   "file_extension": ".py",
   "mimetype": "text/x-python",
   "name": "python",
   "nbconvert_exporter": "python",
   "pygments_lexer": "ipython3",
   "version": "3.9.12"
  },
  "orig_nbformat": 4
 },
 "nbformat": 4,
 "nbformat_minor": 2
}
